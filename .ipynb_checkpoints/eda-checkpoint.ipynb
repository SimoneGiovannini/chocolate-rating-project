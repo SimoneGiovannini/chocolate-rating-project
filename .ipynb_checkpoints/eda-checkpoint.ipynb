{
 "cells": [
  {
   "cell_type": "markdown",
   "metadata": {},
   "source": [
    "# Exploratory Data Analysis"
   ]
  },
  {
   "cell_type": "code",
   "execution_count": 83,
   "metadata": {},
   "outputs": [],
   "source": [
    "import pandas as pd\n",
    "import numpy as np\n",
    "\n",
    "import seaborn as sns\n",
    "import matplotlib.pyplot as plt\n",
    "%matplotlib inline\n",
    "\n",
    "from sklearn.preprocessing import StandardScaler, OneHotEncoder\n",
    "from sklearn.compose import ColumnTransformer\n",
    "from category_encoders import MEstimateEncoder\n",
    "\n",
    "from sklearn.model_selection import train_test_split, GridSearchCV\n",
    "\n",
    "from sklearn.pipeline import Pipeline\n",
    "\n",
    "from sklearn.linear_model import LinearRegression, RidgeCV, LassoCV, LassoLarsCV\n",
    "from sklearn.svm import SVR\n",
    "\n",
    "from sklearn.metrics import mean_squared_error, mean_absolute_error, r2_score\n",
    "\n",
    "from sklearn.inspection import permutation_importance"
   ]
  },
  {
   "cell_type": "code",
   "execution_count": 2,
   "metadata": {},
   "outputs": [],
   "source": [
    "df = pd.read_csv('./dataset.csv')"
   ]
  },
  {
   "cell_type": "markdown",
   "metadata": {},
   "source": [
    "Show some information and statistics about the dataset"
   ]
  },
  {
   "cell_type": "code",
   "execution_count": 3,
   "metadata": {},
   "outputs": [
    {
     "data": {
      "text/plain": [
       "(2312, 15)"
      ]
     },
     "execution_count": 3,
     "metadata": {},
     "output_type": "execute_result"
    }
   ],
   "source": [
    "df.shape"
   ]
  },
  {
   "cell_type": "code",
   "execution_count": 4,
   "metadata": {},
   "outputs": [
    {
     "data": {
      "text/html": [
       "<div>\n",
       "<style scoped>\n",
       "    .dataframe tbody tr th:only-of-type {\n",
       "        vertical-align: middle;\n",
       "    }\n",
       "\n",
       "    .dataframe tbody tr th {\n",
       "        vertical-align: top;\n",
       "    }\n",
       "\n",
       "    .dataframe thead th {\n",
       "        text-align: right;\n",
       "    }\n",
       "</style>\n",
       "<table border=\"1\" class=\"dataframe\">\n",
       "  <thead>\n",
       "    <tr style=\"text-align: right;\">\n",
       "      <th></th>\n",
       "      <th>REF</th>\n",
       "      <th>Company Location</th>\n",
       "      <th>Review Date</th>\n",
       "      <th>Country of Bean Origin</th>\n",
       "      <th>Specific Bean Origin or Bar Name</th>\n",
       "      <th>Cocoa Percent</th>\n",
       "      <th>Ingredients</th>\n",
       "      <th>Most Memorable Characteristics</th>\n",
       "      <th>Rating</th>\n",
       "      <th>Continent_company</th>\n",
       "      <th>Sub-region_company</th>\n",
       "      <th>Continent_origin</th>\n",
       "      <th>Sub-region_origin</th>\n",
       "      <th>Manufacturer</th>\n",
       "      <th>Company</th>\n",
       "    </tr>\n",
       "  </thead>\n",
       "  <tbody>\n",
       "    <tr>\n",
       "      <th>0</th>\n",
       "      <td>2454.0</td>\n",
       "      <td>U.S.A.</td>\n",
       "      <td>2019.0</td>\n",
       "      <td>Madagascar</td>\n",
       "      <td>Bejofo Estate, batch 1</td>\n",
       "      <td>76.0</td>\n",
       "      <td>3- B,S,C</td>\n",
       "      <td>cocoa, blackberry, full body</td>\n",
       "      <td>3.75</td>\n",
       "      <td>Americas</td>\n",
       "      <td>Northern America</td>\n",
       "      <td>Africa</td>\n",
       "      <td>Sub-Saharan Africa</td>\n",
       "      <td>5150</td>\n",
       "      <td>5150</td>\n",
       "    </tr>\n",
       "    <tr>\n",
       "      <th>1</th>\n",
       "      <td>2458.0</td>\n",
       "      <td>U.S.A.</td>\n",
       "      <td>2019.0</td>\n",
       "      <td>Dominican Republic</td>\n",
       "      <td>Zorzal, batch 1</td>\n",
       "      <td>76.0</td>\n",
       "      <td>3- B,S,C</td>\n",
       "      <td>cocoa, vegetal, savory</td>\n",
       "      <td>3.50</td>\n",
       "      <td>Americas</td>\n",
       "      <td>Northern America</td>\n",
       "      <td>Americas</td>\n",
       "      <td>Latin America and the Caribbean</td>\n",
       "      <td>5150</td>\n",
       "      <td>5150</td>\n",
       "    </tr>\n",
       "    <tr>\n",
       "      <th>2</th>\n",
       "      <td>2454.0</td>\n",
       "      <td>U.S.A.</td>\n",
       "      <td>2019.0</td>\n",
       "      <td>Tanzania</td>\n",
       "      <td>Kokoa Kamili, batch 1</td>\n",
       "      <td>76.0</td>\n",
       "      <td>3- B,S,C</td>\n",
       "      <td>rich cocoa, fatty, bready</td>\n",
       "      <td>3.25</td>\n",
       "      <td>Americas</td>\n",
       "      <td>Northern America</td>\n",
       "      <td>Africa</td>\n",
       "      <td>Sub-Saharan Africa</td>\n",
       "      <td>5150</td>\n",
       "      <td>5150</td>\n",
       "    </tr>\n",
       "    <tr>\n",
       "      <th>3</th>\n",
       "      <td>797.0</td>\n",
       "      <td>France</td>\n",
       "      <td>2012.0</td>\n",
       "      <td>Peru</td>\n",
       "      <td>Peru</td>\n",
       "      <td>63.0</td>\n",
       "      <td>4- B,S,C,L</td>\n",
       "      <td>fruity, melon, roasty</td>\n",
       "      <td>3.75</td>\n",
       "      <td>Europe</td>\n",
       "      <td>Western Europe</td>\n",
       "      <td>Americas</td>\n",
       "      <td>Latin America and the Caribbean</td>\n",
       "      <td>A. Morin</td>\n",
       "      <td>A. Morin</td>\n",
       "    </tr>\n",
       "    <tr>\n",
       "      <th>4</th>\n",
       "      <td>797.0</td>\n",
       "      <td>France</td>\n",
       "      <td>2012.0</td>\n",
       "      <td>Bolivia</td>\n",
       "      <td>Bolivia</td>\n",
       "      <td>70.0</td>\n",
       "      <td>4- B,S,C,L</td>\n",
       "      <td>vegetal, nutty</td>\n",
       "      <td>3.50</td>\n",
       "      <td>Europe</td>\n",
       "      <td>Western Europe</td>\n",
       "      <td>Americas</td>\n",
       "      <td>Latin America and the Caribbean</td>\n",
       "      <td>A. Morin</td>\n",
       "      <td>A. Morin</td>\n",
       "    </tr>\n",
       "  </tbody>\n",
       "</table>\n",
       "</div>"
      ],
      "text/plain": [
       "      REF Company Location  Review Date Country of Bean Origin  \\\n",
       "0  2454.0           U.S.A.       2019.0             Madagascar   \n",
       "1  2458.0           U.S.A.       2019.0     Dominican Republic   \n",
       "2  2454.0           U.S.A.       2019.0               Tanzania   \n",
       "3   797.0           France       2012.0                   Peru   \n",
       "4   797.0           France       2012.0                Bolivia   \n",
       "\n",
       "  Specific Bean Origin or Bar Name  Cocoa Percent Ingredients  \\\n",
       "0           Bejofo Estate, batch 1           76.0    3- B,S,C   \n",
       "1                  Zorzal, batch 1           76.0    3- B,S,C   \n",
       "2            Kokoa Kamili, batch 1           76.0    3- B,S,C   \n",
       "3                             Peru           63.0  4- B,S,C,L   \n",
       "4                          Bolivia           70.0  4- B,S,C,L   \n",
       "\n",
       "  Most Memorable Characteristics  Rating Continent_company Sub-region_company  \\\n",
       "0   cocoa, blackberry, full body    3.75          Americas   Northern America   \n",
       "1         cocoa, vegetal, savory    3.50          Americas   Northern America   \n",
       "2      rich cocoa, fatty, bready    3.25          Americas   Northern America   \n",
       "3          fruity, melon, roasty    3.75            Europe     Western Europe   \n",
       "4                 vegetal, nutty    3.50            Europe     Western Europe   \n",
       "\n",
       "  Continent_origin                Sub-region_origin Manufacturer   Company  \n",
       "0           Africa               Sub-Saharan Africa         5150      5150  \n",
       "1         Americas  Latin America and the Caribbean         5150      5150  \n",
       "2           Africa               Sub-Saharan Africa         5150      5150  \n",
       "3         Americas  Latin America and the Caribbean     A. Morin  A. Morin  \n",
       "4         Americas  Latin America and the Caribbean     A. Morin  A. Morin  "
      ]
     },
     "execution_count": 4,
     "metadata": {},
     "output_type": "execute_result"
    }
   ],
   "source": [
    "df.head()"
   ]
  },
  {
   "cell_type": "code",
   "execution_count": 5,
   "metadata": {},
   "outputs": [
    {
     "data": {
      "text/plain": [
       "Index(['REF', 'Company Location', 'Review Date', 'Country of Bean Origin',\n",
       "       'Specific Bean Origin or Bar Name', 'Cocoa Percent', 'Ingredients',\n",
       "       'Most Memorable Characteristics', 'Rating', 'Continent_company',\n",
       "       'Sub-region_company', 'Continent_origin', 'Sub-region_origin',\n",
       "       'Manufacturer', 'Company'],\n",
       "      dtype='object')"
      ]
     },
     "execution_count": 5,
     "metadata": {},
     "output_type": "execute_result"
    }
   ],
   "source": [
    "df.columns"
   ]
  },
  {
   "cell_type": "code",
   "execution_count": 6,
   "metadata": {
    "scrolled": false
   },
   "outputs": [
    {
     "data": {
      "text/html": [
       "<div>\n",
       "<style scoped>\n",
       "    .dataframe tbody tr th:only-of-type {\n",
       "        vertical-align: middle;\n",
       "    }\n",
       "\n",
       "    .dataframe tbody tr th {\n",
       "        vertical-align: top;\n",
       "    }\n",
       "\n",
       "    .dataframe thead th {\n",
       "        text-align: right;\n",
       "    }\n",
       "</style>\n",
       "<table border=\"1\" class=\"dataframe\">\n",
       "  <thead>\n",
       "    <tr style=\"text-align: right;\">\n",
       "      <th></th>\n",
       "      <th>REF</th>\n",
       "      <th>Company Location</th>\n",
       "      <th>Review Date</th>\n",
       "      <th>Country of Bean Origin</th>\n",
       "      <th>Specific Bean Origin or Bar Name</th>\n",
       "      <th>Cocoa Percent</th>\n",
       "      <th>Ingredients</th>\n",
       "      <th>Most Memorable Characteristics</th>\n",
       "      <th>Rating</th>\n",
       "      <th>Continent_company</th>\n",
       "      <th>Sub-region_company</th>\n",
       "      <th>Continent_origin</th>\n",
       "      <th>Sub-region_origin</th>\n",
       "      <th>Manufacturer</th>\n",
       "      <th>Company</th>\n",
       "    </tr>\n",
       "  </thead>\n",
       "  <tbody>\n",
       "    <tr>\n",
       "      <th>count</th>\n",
       "      <td>2312.000000</td>\n",
       "      <td>2312</td>\n",
       "      <td>2312.000000</td>\n",
       "      <td>2312</td>\n",
       "      <td>2312</td>\n",
       "      <td>2312.000000</td>\n",
       "      <td>2224</td>\n",
       "      <td>2312</td>\n",
       "      <td>2312.000000</td>\n",
       "      <td>2312</td>\n",
       "      <td>2312</td>\n",
       "      <td>2312</td>\n",
       "      <td>2312</td>\n",
       "      <td>2312</td>\n",
       "      <td>2312</td>\n",
       "    </tr>\n",
       "    <tr>\n",
       "      <th>unique</th>\n",
       "      <td>NaN</td>\n",
       "      <td>63</td>\n",
       "      <td>NaN</td>\n",
       "      <td>56</td>\n",
       "      <td>1436</td>\n",
       "      <td>NaN</td>\n",
       "      <td>21</td>\n",
       "      <td>2270</td>\n",
       "      <td>NaN</td>\n",
       "      <td>5</td>\n",
       "      <td>13</td>\n",
       "      <td>5</td>\n",
       "      <td>10</td>\n",
       "      <td>493</td>\n",
       "      <td>527</td>\n",
       "    </tr>\n",
       "    <tr>\n",
       "      <th>top</th>\n",
       "      <td>NaN</td>\n",
       "      <td>U.S.A.</td>\n",
       "      <td>NaN</td>\n",
       "      <td>Venezuela</td>\n",
       "      <td>Madagascar</td>\n",
       "      <td>NaN</td>\n",
       "      <td>3- B,S,C</td>\n",
       "      <td>spicy, cocoa</td>\n",
       "      <td>NaN</td>\n",
       "      <td>Americas</td>\n",
       "      <td>Northern America</td>\n",
       "      <td>Americas</td>\n",
       "      <td>Latin America and the Caribbean</td>\n",
       "      <td>Soma</td>\n",
       "      <td>Soma</td>\n",
       "    </tr>\n",
       "    <tr>\n",
       "      <th>freq</th>\n",
       "      <td>NaN</td>\n",
       "      <td>966</td>\n",
       "      <td>NaN</td>\n",
       "      <td>245</td>\n",
       "      <td>55</td>\n",
       "      <td>NaN</td>\n",
       "      <td>885</td>\n",
       "      <td>4</td>\n",
       "      <td>NaN</td>\n",
       "      <td>1369</td>\n",
       "      <td>1127</td>\n",
       "      <td>1602</td>\n",
       "      <td>1572</td>\n",
       "      <td>52</td>\n",
       "      <td>52</td>\n",
       "    </tr>\n",
       "    <tr>\n",
       "      <th>mean</th>\n",
       "      <td>1317.821367</td>\n",
       "      <td>NaN</td>\n",
       "      <td>2013.760813</td>\n",
       "      <td>NaN</td>\n",
       "      <td>NaN</td>\n",
       "      <td>71.647708</td>\n",
       "      <td>NaN</td>\n",
       "      <td>NaN</td>\n",
       "      <td>3.184083</td>\n",
       "      <td>NaN</td>\n",
       "      <td>NaN</td>\n",
       "      <td>NaN</td>\n",
       "      <td>NaN</td>\n",
       "      <td>NaN</td>\n",
       "      <td>NaN</td>\n",
       "    </tr>\n",
       "    <tr>\n",
       "      <th>std</th>\n",
       "      <td>695.425750</td>\n",
       "      <td>NaN</td>\n",
       "      <td>3.591105</td>\n",
       "      <td>NaN</td>\n",
       "      <td>NaN</td>\n",
       "      <td>5.765289</td>\n",
       "      <td>NaN</td>\n",
       "      <td>NaN</td>\n",
       "      <td>0.451961</td>\n",
       "      <td>NaN</td>\n",
       "      <td>NaN</td>\n",
       "      <td>NaN</td>\n",
       "      <td>NaN</td>\n",
       "      <td>NaN</td>\n",
       "      <td>NaN</td>\n",
       "    </tr>\n",
       "    <tr>\n",
       "      <th>min</th>\n",
       "      <td>5.000000</td>\n",
       "      <td>NaN</td>\n",
       "      <td>2006.000000</td>\n",
       "      <td>NaN</td>\n",
       "      <td>NaN</td>\n",
       "      <td>42.000000</td>\n",
       "      <td>NaN</td>\n",
       "      <td>NaN</td>\n",
       "      <td>1.000000</td>\n",
       "      <td>NaN</td>\n",
       "      <td>NaN</td>\n",
       "      <td>NaN</td>\n",
       "      <td>NaN</td>\n",
       "      <td>NaN</td>\n",
       "      <td>NaN</td>\n",
       "    </tr>\n",
       "    <tr>\n",
       "      <th>25%</th>\n",
       "      <td>741.000000</td>\n",
       "      <td>NaN</td>\n",
       "      <td>2011.000000</td>\n",
       "      <td>NaN</td>\n",
       "      <td>NaN</td>\n",
       "      <td>70.000000</td>\n",
       "      <td>NaN</td>\n",
       "      <td>NaN</td>\n",
       "      <td>3.000000</td>\n",
       "      <td>NaN</td>\n",
       "      <td>NaN</td>\n",
       "      <td>NaN</td>\n",
       "      <td>NaN</td>\n",
       "      <td>NaN</td>\n",
       "      <td>NaN</td>\n",
       "    </tr>\n",
       "    <tr>\n",
       "      <th>50%</th>\n",
       "      <td>1351.000000</td>\n",
       "      <td>NaN</td>\n",
       "      <td>2014.000000</td>\n",
       "      <td>NaN</td>\n",
       "      <td>NaN</td>\n",
       "      <td>70.000000</td>\n",
       "      <td>NaN</td>\n",
       "      <td>NaN</td>\n",
       "      <td>3.250000</td>\n",
       "      <td>NaN</td>\n",
       "      <td>NaN</td>\n",
       "      <td>NaN</td>\n",
       "      <td>NaN</td>\n",
       "      <td>NaN</td>\n",
       "      <td>NaN</td>\n",
       "    </tr>\n",
       "    <tr>\n",
       "      <th>75%</th>\n",
       "      <td>1912.000000</td>\n",
       "      <td>NaN</td>\n",
       "      <td>2016.000000</td>\n",
       "      <td>NaN</td>\n",
       "      <td>NaN</td>\n",
       "      <td>75.000000</td>\n",
       "      <td>NaN</td>\n",
       "      <td>NaN</td>\n",
       "      <td>3.500000</td>\n",
       "      <td>NaN</td>\n",
       "      <td>NaN</td>\n",
       "      <td>NaN</td>\n",
       "      <td>NaN</td>\n",
       "      <td>NaN</td>\n",
       "      <td>NaN</td>\n",
       "    </tr>\n",
       "    <tr>\n",
       "      <th>max</th>\n",
       "      <td>2490.000000</td>\n",
       "      <td>NaN</td>\n",
       "      <td>2020.000000</td>\n",
       "      <td>NaN</td>\n",
       "      <td>NaN</td>\n",
       "      <td>100.000000</td>\n",
       "      <td>NaN</td>\n",
       "      <td>NaN</td>\n",
       "      <td>4.000000</td>\n",
       "      <td>NaN</td>\n",
       "      <td>NaN</td>\n",
       "      <td>NaN</td>\n",
       "      <td>NaN</td>\n",
       "      <td>NaN</td>\n",
       "      <td>NaN</td>\n",
       "    </tr>\n",
       "  </tbody>\n",
       "</table>\n",
       "</div>"
      ],
      "text/plain": [
       "                REF Company Location  Review Date Country of Bean Origin  \\\n",
       "count   2312.000000             2312  2312.000000                   2312   \n",
       "unique          NaN               63          NaN                     56   \n",
       "top             NaN           U.S.A.          NaN              Venezuela   \n",
       "freq            NaN              966          NaN                    245   \n",
       "mean    1317.821367              NaN  2013.760813                    NaN   \n",
       "std      695.425750              NaN     3.591105                    NaN   \n",
       "min        5.000000              NaN  2006.000000                    NaN   \n",
       "25%      741.000000              NaN  2011.000000                    NaN   \n",
       "50%     1351.000000              NaN  2014.000000                    NaN   \n",
       "75%     1912.000000              NaN  2016.000000                    NaN   \n",
       "max     2490.000000              NaN  2020.000000                    NaN   \n",
       "\n",
       "       Specific Bean Origin or Bar Name  Cocoa Percent Ingredients  \\\n",
       "count                              2312    2312.000000        2224   \n",
       "unique                             1436            NaN          21   \n",
       "top                          Madagascar            NaN    3- B,S,C   \n",
       "freq                                 55            NaN         885   \n",
       "mean                                NaN      71.647708         NaN   \n",
       "std                                 NaN       5.765289         NaN   \n",
       "min                                 NaN      42.000000         NaN   \n",
       "25%                                 NaN      70.000000         NaN   \n",
       "50%                                 NaN      70.000000         NaN   \n",
       "75%                                 NaN      75.000000         NaN   \n",
       "max                                 NaN     100.000000         NaN   \n",
       "\n",
       "       Most Memorable Characteristics       Rating Continent_company  \\\n",
       "count                            2312  2312.000000              2312   \n",
       "unique                           2270          NaN                 5   \n",
       "top                      spicy, cocoa          NaN          Americas   \n",
       "freq                                4          NaN              1369   \n",
       "mean                              NaN     3.184083               NaN   \n",
       "std                               NaN     0.451961               NaN   \n",
       "min                               NaN     1.000000               NaN   \n",
       "25%                               NaN     3.000000               NaN   \n",
       "50%                               NaN     3.250000               NaN   \n",
       "75%                               NaN     3.500000               NaN   \n",
       "max                               NaN     4.000000               NaN   \n",
       "\n",
       "       Sub-region_company Continent_origin                Sub-region_origin  \\\n",
       "count                2312             2312                             2312   \n",
       "unique                 13                5                               10   \n",
       "top      Northern America         Americas  Latin America and the Caribbean   \n",
       "freq                 1127             1602                             1572   \n",
       "mean                  NaN              NaN                              NaN   \n",
       "std                   NaN              NaN                              NaN   \n",
       "min                   NaN              NaN                              NaN   \n",
       "25%                   NaN              NaN                              NaN   \n",
       "50%                   NaN              NaN                              NaN   \n",
       "75%                   NaN              NaN                              NaN   \n",
       "max                   NaN              NaN                              NaN   \n",
       "\n",
       "       Manufacturer Company  \n",
       "count          2312    2312  \n",
       "unique          493     527  \n",
       "top            Soma    Soma  \n",
       "freq             52      52  \n",
       "mean            NaN     NaN  \n",
       "std             NaN     NaN  \n",
       "min             NaN     NaN  \n",
       "25%             NaN     NaN  \n",
       "50%             NaN     NaN  \n",
       "75%             NaN     NaN  \n",
       "max             NaN     NaN  "
      ]
     },
     "execution_count": 6,
     "metadata": {},
     "output_type": "execute_result"
    }
   ],
   "source": [
    "df.describe(include='all')"
   ]
  },
  {
   "cell_type": "markdown",
   "metadata": {},
   "source": [
    "## Data Exploration"
   ]
  },
  {
   "cell_type": "markdown",
   "metadata": {},
   "source": [
    "### Rating distribution"
   ]
  },
  {
   "cell_type": "code",
   "execution_count": 7,
   "metadata": {},
   "outputs": [
    {
     "data": {
      "text/plain": [
       "count    2312.000000\n",
       "mean        3.184083\n",
       "std         0.451961\n",
       "min         1.000000\n",
       "25%         3.000000\n",
       "50%         3.250000\n",
       "75%         3.500000\n",
       "max         4.000000\n",
       "Name: Rating, dtype: float64"
      ]
     },
     "execution_count": 7,
     "metadata": {},
     "output_type": "execute_result"
    }
   ],
   "source": [
    "df['Rating'].describe()"
   ]
  },
  {
   "cell_type": "code",
   "execution_count": 8,
   "metadata": {},
   "outputs": [
    {
     "data": {
      "image/png": "[encoded data removed]",
      "text/plain": [
       "<Figure size 432x288 with 1 Axes>"
      ]
     },
     "metadata": {
      "needs_background": "light"
     },
     "output_type": "display_data"
    }
   ],
   "source": [
    "sns.distplot(df['Rating'], kde=False);"
   ]
  },
  {
   "cell_type": "markdown",
   "metadata": {},
   "source": [
    "Let's plot a correlation matrix to check whether the rating is correlated to any numerical variable."
   ]
  },
  {
   "cell_type": "code",
   "execution_count": 9,
   "metadata": {
    "scrolled": true
   },
   "outputs": [
    {
     "data": {
      "image/png": "[encoded data removed]",
      "text/plain": [
       "<Figure size 432x288 with 2 Axes>"
      ]
     },
     "metadata": {
      "needs_background": "light"
     },
     "output_type": "display_data"
    }
   ],
   "source": [
    "corrmat = df.corr()\n",
    "sns.heatmap(corrmat, square=True);"
   ]
  },
  {
   "cell_type": "markdown",
   "metadata": {},
   "source": [
    "It looks like Rating is not correlated to any of them.\n",
    "\n",
    "However this plot confirms, as we expected from the dataset description, that REF is correlated with Review Date.\n",
    "\n",
    "---"
   ]
  },
  {
   "cell_type": "markdown",
   "metadata": {},
   "source": [
    "### Which companies are the top rated?\n",
    "\n",
    "Let's see how the ratings change among different companies. We create a pivot table which tells us, for each company, the average rating and the number of reviews."
   ]
  },
  {
   "cell_type": "code",
   "execution_count": 10,
   "metadata": {},
   "outputs": [
    {
     "data": {
      "text/html": [
       "<div>\n",
       "<style scoped>\n",
       "    .dataframe tbody tr th:only-of-type {\n",
       "        vertical-align: middle;\n",
       "    }\n",
       "\n",
       "    .dataframe tbody tr th {\n",
       "        vertical-align: top;\n",
       "    }\n",
       "\n",
       "    .dataframe thead tr th {\n",
       "        text-align: left;\n",
       "    }\n",
       "\n",
       "    .dataframe thead tr:last-of-type th {\n",
       "        text-align: right;\n",
       "    }\n",
       "</style>\n",
       "<table border=\"1\" class=\"dataframe\">\n",
       "  <thead>\n",
       "    <tr>\n",
       "      <th></th>\n",
       "      <th>mean</th>\n",
       "      <th>len</th>\n",
       "    </tr>\n",
       "    <tr>\n",
       "      <th></th>\n",
       "      <th>Rating</th>\n",
       "      <th>Rating</th>\n",
       "    </tr>\n",
       "    <tr>\n",
       "      <th>Company</th>\n",
       "      <th></th>\n",
       "      <th></th>\n",
       "    </tr>\n",
       "  </thead>\n",
       "  <tbody>\n",
       "    <tr>\n",
       "      <th>5150</th>\n",
       "      <td>3.5000</td>\n",
       "      <td>3.0</td>\n",
       "    </tr>\n",
       "    <tr>\n",
       "      <th>A. Morin</th>\n",
       "      <td>3.4000</td>\n",
       "      <td>25.0</td>\n",
       "    </tr>\n",
       "    <tr>\n",
       "      <th>AMMA</th>\n",
       "      <td>3.5000</td>\n",
       "      <td>5.0</td>\n",
       "    </tr>\n",
       "    <tr>\n",
       "      <th>Acalli</th>\n",
       "      <td>3.5625</td>\n",
       "      <td>4.0</td>\n",
       "    </tr>\n",
       "    <tr>\n",
       "      <th>Adi aka Fijiana</th>\n",
       "      <td>3.2500</td>\n",
       "      <td>4.0</td>\n",
       "    </tr>\n",
       "  </tbody>\n",
       "</table>\n",
       "</div>"
      ],
      "text/plain": [
       "                   mean    len\n",
       "                 Rating Rating\n",
       "Company                       \n",
       "5150             3.5000    3.0\n",
       "A. Morin         3.4000   25.0\n",
       "AMMA             3.5000    5.0\n",
       "Acalli           3.5625    4.0\n",
       "Adi aka Fijiana  3.2500    4.0"
      ]
     },
     "execution_count": 10,
     "metadata": {},
     "output_type": "execute_result"
    }
   ],
   "source": [
    "pivot_companies = pd.pivot_table(df, values='Rating', \n",
    "                                 index='Company',  \n",
    "                                 aggfunc=[np.mean, len])\n",
    "pivot_companies.head()"
   ]
  },
  {
   "cell_type": "markdown",
   "metadata": {},
   "source": [
    "Let's show the top 10 companies for average rating which have more than 10 reviews."
   ]
  },
  {
   "cell_type": "code",
   "execution_count": 11,
   "metadata": {},
   "outputs": [
    {
     "data": {
      "text/html": [
       "<div>\n",
       "<style scoped>\n",
       "    .dataframe tbody tr th:only-of-type {\n",
       "        vertical-align: middle;\n",
       "    }\n",
       "\n",
       "    .dataframe tbody tr th {\n",
       "        vertical-align: top;\n",
       "    }\n",
       "\n",
       "    .dataframe thead tr th {\n",
       "        text-align: left;\n",
       "    }\n",
       "\n",
       "    .dataframe thead tr:last-of-type th {\n",
       "        text-align: right;\n",
       "    }\n",
       "</style>\n",
       "<table border=\"1\" class=\"dataframe\">\n",
       "  <thead>\n",
       "    <tr>\n",
       "      <th></th>\n",
       "      <th>mean</th>\n",
       "      <th>len</th>\n",
       "    </tr>\n",
       "    <tr>\n",
       "      <th></th>\n",
       "      <th>Rating</th>\n",
       "      <th>Rating</th>\n",
       "    </tr>\n",
       "    <tr>\n",
       "      <th>Company</th>\n",
       "      <th></th>\n",
       "      <th></th>\n",
       "    </tr>\n",
       "  </thead>\n",
       "  <tbody>\n",
       "    <tr>\n",
       "      <th>Soma</th>\n",
       "      <td>3.591346</td>\n",
       "      <td>52.0</td>\n",
       "    </tr>\n",
       "    <tr>\n",
       "      <th>Brasstown aka It's Chocolate</th>\n",
       "      <td>3.583333</td>\n",
       "      <td>12.0</td>\n",
       "    </tr>\n",
       "    <tr>\n",
       "      <th>Heirloom Cacao Preservation</th>\n",
       "      <td>3.545455</td>\n",
       "      <td>11.0</td>\n",
       "    </tr>\n",
       "    <tr>\n",
       "      <th>Ritual</th>\n",
       "      <td>3.541667</td>\n",
       "      <td>12.0</td>\n",
       "    </tr>\n",
       "    <tr>\n",
       "      <th>Arete</th>\n",
       "      <td>3.531250</td>\n",
       "      <td>32.0</td>\n",
       "    </tr>\n",
       "    <tr>\n",
       "      <th>Smooth Chocolator, The</th>\n",
       "      <td>3.514706</td>\n",
       "      <td>17.0</td>\n",
       "    </tr>\n",
       "    <tr>\n",
       "      <th>Domori</th>\n",
       "      <td>3.500000</td>\n",
       "      <td>23.0</td>\n",
       "    </tr>\n",
       "    <tr>\n",
       "      <th>Bonnat</th>\n",
       "      <td>3.456897</td>\n",
       "      <td>29.0</td>\n",
       "    </tr>\n",
       "    <tr>\n",
       "      <th>Marou</th>\n",
       "      <td>3.454545</td>\n",
       "      <td>11.0</td>\n",
       "    </tr>\n",
       "    <tr>\n",
       "      <th>Friis Holm</th>\n",
       "      <td>3.450000</td>\n",
       "      <td>25.0</td>\n",
       "    </tr>\n",
       "  </tbody>\n",
       "</table>\n",
       "</div>"
      ],
      "text/plain": [
       "                                  mean    len\n",
       "                                Rating Rating\n",
       "Company                                      \n",
       "Soma                          3.591346   52.0\n",
       "Brasstown aka It's Chocolate  3.583333   12.0\n",
       "Heirloom Cacao Preservation   3.545455   11.0\n",
       "Ritual                        3.541667   12.0\n",
       "Arete                         3.531250   32.0\n",
       "Smooth Chocolator, The        3.514706   17.0\n",
       "Domori                        3.500000   23.0\n",
       "Bonnat                        3.456897   29.0\n",
       "Marou                         3.454545   11.0\n",
       "Friis Holm                    3.450000   25.0"
      ]
     },
     "execution_count": 11,
     "metadata": {},
     "output_type": "execute_result"
    }
   ],
   "source": [
    "pivot_companies[pivot_companies[('len', 'Rating')]>10].sort_values(('mean', 'Rating'), ascending=False).head(10)"
   ]
  },
  {
   "cell_type": "markdown",
   "metadata": {},
   "source": [
    "Now let's see which are the 40 most reviewed companies and plot the corresponding rating distribution."
   ]
  },
  {
   "cell_type": "code",
   "execution_count": 12,
   "metadata": {},
   "outputs": [
    {
     "data": {
      "image/png": "[encoded data removed]",
      "text/plain": [
       "<Figure size 1080x432 with 1 Axes>"
      ]
     },
     "metadata": {
      "needs_background": "light"
     },
     "output_type": "display_data"
    }
   ],
   "source": [
    "values = df['Company'].value_counts()[:40]\n",
    "fig, ax = plt.subplots(figsize=(15, 6))\n",
    "sns.barplot(x=values.index, y=values)\n",
    "plt.xticks(rotation=90);"
   ]
  },
  {
   "cell_type": "code",
   "execution_count": 13,
   "metadata": {},
   "outputs": [
    {
     "data": {
      "image/png": "[encoded data removed]",
      "text/plain": [
       "<Figure size 720x360 with 1 Axes>"
      ]
     },
     "metadata": {
      "needs_background": "light"
     },
     "output_type": "display_data"
    }
   ],
   "source": [
    "most_freq = df['Company'].value_counts()[:40].index\n",
    "sns.catplot(x=\"Company\", y=\"Rating\", \n",
    "            kind=\"box\", \n",
    "            aspect=2, \n",
    "            order=most_freq, \n",
    "            data=df[df['Company'].isin(most_freq)])\n",
    "plt.xticks(rotation=90);"
   ]
  },
  {
   "cell_type": "markdown",
   "metadata": {},
   "source": [
    "### Where are most companies located?"
   ]
  },
  {
   "cell_type": "code",
   "execution_count": 14,
   "metadata": {},
   "outputs": [
    {
     "data": {
      "image/png": "[encoded data removed]",
      "text/plain": [
       "<Figure size 1080x432 with 1 Axes>"
      ]
     },
     "metadata": {
      "needs_background": "light"
     },
     "output_type": "display_data"
    }
   ],
   "source": [
    "values = df['Company Location'].value_counts()\n",
    "fig, ax = plt.subplots(figsize=(15, 6))\n",
    "sns.barplot(x=values.index, y=values)\n",
    "plt.xticks(rotation=90);"
   ]
  },
  {
   "cell_type": "code",
   "execution_count": 15,
   "metadata": {
    "scrolled": true
   },
   "outputs": [
    {
     "data": {
      "image/png": "[encoded data removed]",
      "text/plain": [
       "<Figure size 432x288 with 1 Axes>"
      ]
     },
     "metadata": {
      "needs_background": "light"
     },
     "output_type": "display_data"
    }
   ],
   "source": [
    "values = df['Continent_company'].value_counts()\n",
    "sns.barplot(x=values.index, y=values);"
   ]
  },
  {
   "cell_type": "code",
   "execution_count": 16,
   "metadata": {},
   "outputs": [
    {
     "data": {
      "image/png": "[encoded data removed]",
      "text/plain": [
       "<Figure size 432x288 with 1 Axes>"
      ]
     },
     "metadata": {
      "needs_background": "light"
     },
     "output_type": "display_data"
    }
   ],
   "source": [
    "values = df['Sub-region_company'].value_counts()\n",
    "fig, ax = plt.subplots()\n",
    "sns.barplot(x=values.index, y=values)\n",
    "plt.xticks(rotation=90);"
   ]
  },
  {
   "cell_type": "markdown",
   "metadata": {},
   "source": [
    "We see that most of the bars reviewed are produced by U.S. companies, and about half of them are produced in Northern America."
   ]
  },
  {
   "cell_type": "markdown",
   "metadata": {},
   "source": [
    "Let's now check the rating of different locations. We create a pivot table where, for each location, we calculate the average rating, the number of reviews and the number of distinct companies."
   ]
  },
  {
   "cell_type": "code",
   "execution_count": 17,
   "metadata": {},
   "outputs": [
    {
     "data": {
      "text/html": [
       "<div>\n",
       "<style scoped>\n",
       "    .dataframe tbody tr th:only-of-type {\n",
       "        vertical-align: middle;\n",
       "    }\n",
       "\n",
       "    .dataframe tbody tr th {\n",
       "        vertical-align: top;\n",
       "    }\n",
       "\n",
       "    .dataframe thead tr th {\n",
       "        text-align: left;\n",
       "    }\n",
       "\n",
       "    .dataframe thead tr:last-of-type th {\n",
       "        text-align: right;\n",
       "    }\n",
       "</style>\n",
       "<table border=\"1\" class=\"dataframe\">\n",
       "  <thead>\n",
       "    <tr>\n",
       "      <th></th>\n",
       "      <th>Company</th>\n",
       "      <th colspan=\"2\" halign=\"left\">Rating</th>\n",
       "    </tr>\n",
       "    <tr>\n",
       "      <th></th>\n",
       "      <th>num_companies</th>\n",
       "      <th>len</th>\n",
       "      <th>mean</th>\n",
       "    </tr>\n",
       "    <tr>\n",
       "      <th>Company Location</th>\n",
       "      <th></th>\n",
       "      <th></th>\n",
       "      <th></th>\n",
       "    </tr>\n",
       "  </thead>\n",
       "  <tbody>\n",
       "    <tr>\n",
       "      <th>Argentina</th>\n",
       "      <td>2</td>\n",
       "      <td>9.0</td>\n",
       "      <td>3.305556</td>\n",
       "    </tr>\n",
       "    <tr>\n",
       "      <th>Australia</th>\n",
       "      <td>12</td>\n",
       "      <td>53.0</td>\n",
       "      <td>3.358491</td>\n",
       "    </tr>\n",
       "    <tr>\n",
       "      <th>Austria</th>\n",
       "      <td>3</td>\n",
       "      <td>30.0</td>\n",
       "      <td>3.258333</td>\n",
       "    </tr>\n",
       "    <tr>\n",
       "      <th>Belgium</th>\n",
       "      <td>14</td>\n",
       "      <td>59.0</td>\n",
       "      <td>3.105932</td>\n",
       "    </tr>\n",
       "    <tr>\n",
       "      <th>Bolivia</th>\n",
       "      <td>1</td>\n",
       "      <td>2.0</td>\n",
       "      <td>3.250000</td>\n",
       "    </tr>\n",
       "  </tbody>\n",
       "</table>\n",
       "</div>"
      ],
      "text/plain": [
       "                       Company Rating          \n",
       "                 num_companies    len      mean\n",
       "Company Location                               \n",
       "Argentina                    2    9.0  3.305556\n",
       "Australia                   12   53.0  3.358491\n",
       "Austria                      3   30.0  3.258333\n",
       "Belgium                     14   59.0  3.105932\n",
       "Bolivia                      1    2.0  3.250000"
      ]
     },
     "execution_count": 17,
     "metadata": {},
     "output_type": "execute_result"
    }
   ],
   "source": [
    "def num_companies(data):\n",
    "    return data.nunique()\n",
    "\n",
    "pivot_locations = pd.pivot_table(df, values=['Rating', 'Company'], \n",
    "                                 index='Company Location',  \n",
    "                                 aggfunc={'Rating':[np.mean, len],\n",
    "                                          'Company':num_companies})\n",
    "pivot_locations.head()"
   ]
  },
  {
   "cell_type": "markdown",
   "metadata": {},
   "source": [
    "Here are the top 10 company locations for average rating:"
   ]
  },
  {
   "cell_type": "code",
   "execution_count": 18,
   "metadata": {},
   "outputs": [
    {
     "data": {
      "text/html": [
       "<div>\n",
       "<style scoped>\n",
       "    .dataframe tbody tr th:only-of-type {\n",
       "        vertical-align: middle;\n",
       "    }\n",
       "\n",
       "    .dataframe tbody tr th {\n",
       "        vertical-align: top;\n",
       "    }\n",
       "\n",
       "    .dataframe thead tr th {\n",
       "        text-align: left;\n",
       "    }\n",
       "\n",
       "    .dataframe thead tr:last-of-type th {\n",
       "        text-align: right;\n",
       "    }\n",
       "</style>\n",
       "<table border=\"1\" class=\"dataframe\">\n",
       "  <thead>\n",
       "    <tr>\n",
       "      <th></th>\n",
       "      <th>Company</th>\n",
       "      <th colspan=\"2\" halign=\"left\">Rating</th>\n",
       "    </tr>\n",
       "    <tr>\n",
       "      <th></th>\n",
       "      <th>num_companies</th>\n",
       "      <th>len</th>\n",
       "      <th>mean</th>\n",
       "    </tr>\n",
       "    <tr>\n",
       "      <th>Company Location</th>\n",
       "      <th></th>\n",
       "      <th></th>\n",
       "      <th></th>\n",
       "    </tr>\n",
       "  </thead>\n",
       "  <tbody>\n",
       "    <tr>\n",
       "      <th>Australia</th>\n",
       "      <td>12</td>\n",
       "      <td>53.0</td>\n",
       "      <td>3.358491</td>\n",
       "    </tr>\n",
       "    <tr>\n",
       "      <th>Denmark</th>\n",
       "      <td>3</td>\n",
       "      <td>31.0</td>\n",
       "      <td>3.338710</td>\n",
       "    </tr>\n",
       "    <tr>\n",
       "      <th>Vietnam</th>\n",
       "      <td>4</td>\n",
       "      <td>15.0</td>\n",
       "      <td>3.333333</td>\n",
       "    </tr>\n",
       "    <tr>\n",
       "      <th>Switzerland</th>\n",
       "      <td>10</td>\n",
       "      <td>43.0</td>\n",
       "      <td>3.313953</td>\n",
       "    </tr>\n",
       "    <tr>\n",
       "      <th>Canada</th>\n",
       "      <td>31</td>\n",
       "      <td>161.0</td>\n",
       "      <td>3.301242</td>\n",
       "    </tr>\n",
       "    <tr>\n",
       "      <th>Brazil</th>\n",
       "      <td>10</td>\n",
       "      <td>24.0</td>\n",
       "      <td>3.281250</td>\n",
       "    </tr>\n",
       "    <tr>\n",
       "      <th>Spain</th>\n",
       "      <td>8</td>\n",
       "      <td>36.0</td>\n",
       "      <td>3.263889</td>\n",
       "    </tr>\n",
       "    <tr>\n",
       "      <th>Austria</th>\n",
       "      <td>3</td>\n",
       "      <td>30.0</td>\n",
       "      <td>3.258333</td>\n",
       "    </tr>\n",
       "    <tr>\n",
       "      <th>France</th>\n",
       "      <td>25</td>\n",
       "      <td>175.0</td>\n",
       "      <td>3.250000</td>\n",
       "    </tr>\n",
       "    <tr>\n",
       "      <th>Netherlands</th>\n",
       "      <td>6</td>\n",
       "      <td>20.0</td>\n",
       "      <td>3.237500</td>\n",
       "    </tr>\n",
       "  </tbody>\n",
       "</table>\n",
       "</div>"
      ],
      "text/plain": [
       "                       Company Rating          \n",
       "                 num_companies    len      mean\n",
       "Company Location                               \n",
       "Australia                   12   53.0  3.358491\n",
       "Denmark                      3   31.0  3.338710\n",
       "Vietnam                      4   15.0  3.333333\n",
       "Switzerland                 10   43.0  3.313953\n",
       "Canada                      31  161.0  3.301242\n",
       "Brazil                      10   24.0  3.281250\n",
       "Spain                        8   36.0  3.263889\n",
       "Austria                      3   30.0  3.258333\n",
       "France                      25  175.0  3.250000\n",
       "Netherlands                  6   20.0  3.237500"
      ]
     },
     "execution_count": 18,
     "metadata": {},
     "output_type": "execute_result"
    }
   ],
   "source": [
    "pivot_locations[pivot_locations[('Rating', 'len')]>10].sort_values(('Rating', 'mean'), ascending=False).head(10)"
   ]
  },
  {
   "cell_type": "markdown",
   "metadata": {},
   "source": [
    "Let's plot the distribution of ratings in the 40 most reviewed company locations."
   ]
  },
  {
   "cell_type": "code",
   "execution_count": 19,
   "metadata": {},
   "outputs": [
    {
     "data": {
      "image/png": "[encoded data removed]",
      "text/plain": [
       "<Figure size 720x360 with 1 Axes>"
      ]
     },
     "metadata": {
      "needs_background": "light"
     },
     "output_type": "display_data"
    }
   ],
   "source": [
    "most_freq = df['Company Location'].value_counts()[:40].index\n",
    "sns.catplot(x=\"Company Location\", y=\"Rating\", \n",
    "            kind=\"box\", \n",
    "            aspect=2, \n",
    "            order=most_freq, \n",
    "            data=df[df['Company Location'].isin(most_freq)])\n",
    "plt.xticks(rotation=90);"
   ]
  },
  {
   "cell_type": "markdown",
   "metadata": {},
   "source": [
    "### Country of origin\n",
    "\n",
    "Let's see where the chocolate beans of the reviewed bars come from."
   ]
  },
  {
   "cell_type": "code",
   "execution_count": 20,
   "metadata": {
    "scrolled": false
   },
   "outputs": [
    {
     "data": {
      "image/png": "[encoded data removed]",
      "text/plain": [
       "<Figure size 1080x432 with 1 Axes>"
      ]
     },
     "metadata": {
      "needs_background": "light"
     },
     "output_type": "display_data"
    }
   ],
   "source": [
    "values = df['Country of Bean Origin'].value_counts()\n",
    "fig, ax = plt.subplots(figsize=(15, 6))\n",
    "sns.barplot(x=values.index, y=values)\n",
    "plt.xticks(rotation=90);"
   ]
  },
  {
   "cell_type": "code",
   "execution_count": 21,
   "metadata": {},
   "outputs": [
    {
     "data": {
      "image/png": "[encoded data removed]",
      "text/plain": [
       "<Figure size 432x288 with 1 Axes>"
      ]
     },
     "metadata": {
      "needs_background": "light"
     },
     "output_type": "display_data"
    }
   ],
   "source": [
    "values = df['Continent_origin'].value_counts()\n",
    "sns.barplot(x=values.index, y=values);"
   ]
  },
  {
   "cell_type": "code",
   "execution_count": 22,
   "metadata": {},
   "outputs": [
    {
     "data": {
      "image/png": "[encoded data removed]",
      "text/plain": [
       "<Figure size 432x288 with 1 Axes>"
      ]
     },
     "metadata": {
      "needs_background": "light"
     },
     "output_type": "display_data"
    }
   ],
   "source": [
    "values = df['Sub-region_origin'].value_counts()\n",
    "fig, ax = plt.subplots()\n",
    "sns.barplot(x=values.index, y=values)\n",
    "plt.xticks(rotation=90);"
   ]
  },
  {
   "cell_type": "markdown",
   "metadata": {},
   "source": [
    "Let's now check the rating of different locations. We create a pivot table where, for each location, we calculate the average rating, the number of reviews and the number of distinct companies."
   ]
  },
  {
   "cell_type": "code",
   "execution_count": 23,
   "metadata": {},
   "outputs": [
    {
     "data": {
      "text/html": [
       "<div>\n",
       "<style scoped>\n",
       "    .dataframe tbody tr th:only-of-type {\n",
       "        vertical-align: middle;\n",
       "    }\n",
       "\n",
       "    .dataframe tbody tr th {\n",
       "        vertical-align: top;\n",
       "    }\n",
       "\n",
       "    .dataframe thead tr th {\n",
       "        text-align: left;\n",
       "    }\n",
       "\n",
       "    .dataframe thead tr:last-of-type th {\n",
       "        text-align: right;\n",
       "    }\n",
       "</style>\n",
       "<table border=\"1\" class=\"dataframe\">\n",
       "  <thead>\n",
       "    <tr>\n",
       "      <th></th>\n",
       "      <th>Company</th>\n",
       "      <th colspan=\"2\" halign=\"left\">Rating</th>\n",
       "    </tr>\n",
       "    <tr>\n",
       "      <th></th>\n",
       "      <th>num_companies</th>\n",
       "      <th>len</th>\n",
       "      <th>mean</th>\n",
       "    </tr>\n",
       "    <tr>\n",
       "      <th>Country of Bean Origin</th>\n",
       "      <th></th>\n",
       "      <th></th>\n",
       "      <th></th>\n",
       "    </tr>\n",
       "  </thead>\n",
       "  <tbody>\n",
       "    <tr>\n",
       "      <th>Australia</th>\n",
       "      <td>2</td>\n",
       "      <td>3.0</td>\n",
       "      <td>3.250000</td>\n",
       "    </tr>\n",
       "    <tr>\n",
       "      <th>Belize</th>\n",
       "      <td>58</td>\n",
       "      <td>67.0</td>\n",
       "      <td>3.227612</td>\n",
       "    </tr>\n",
       "    <tr>\n",
       "      <th>Blend</th>\n",
       "      <td>70</td>\n",
       "      <td>152.0</td>\n",
       "      <td>3.034539</td>\n",
       "    </tr>\n",
       "    <tr>\n",
       "      <th>Bolivia</th>\n",
       "      <td>55</td>\n",
       "      <td>73.0</td>\n",
       "      <td>3.181507</td>\n",
       "    </tr>\n",
       "    <tr>\n",
       "      <th>Brazil</th>\n",
       "      <td>51</td>\n",
       "      <td>75.0</td>\n",
       "      <td>3.253333</td>\n",
       "    </tr>\n",
       "  </tbody>\n",
       "</table>\n",
       "</div>"
      ],
      "text/plain": [
       "                             Company Rating          \n",
       "                       num_companies    len      mean\n",
       "Country of Bean Origin                               \n",
       "Australia                          2    3.0  3.250000\n",
       "Belize                            58   67.0  3.227612\n",
       "Blend                             70  152.0  3.034539\n",
       "Bolivia                           55   73.0  3.181507\n",
       "Brazil                            51   75.0  3.253333"
      ]
     },
     "execution_count": 23,
     "metadata": {},
     "output_type": "execute_result"
    }
   ],
   "source": [
    "pivot_origin = pd.pivot_table(df, values=['Rating', 'Company'], \n",
    "                                 index='Country of Bean Origin',  \n",
    "                                 aggfunc={'Rating':[np.mean, len],\n",
    "                                          'Company':num_companies})\n",
    "pivot_origin.head()"
   ]
  },
  {
   "cell_type": "markdown",
   "metadata": {},
   "source": [
    "Here are the top 10 countries of bean origin for average rating:"
   ]
  },
  {
   "cell_type": "code",
   "execution_count": 24,
   "metadata": {},
   "outputs": [
    {
     "data": {
      "text/html": [
       "<div>\n",
       "<style scoped>\n",
       "    .dataframe tbody tr th:only-of-type {\n",
       "        vertical-align: middle;\n",
       "    }\n",
       "\n",
       "    .dataframe tbody tr th {\n",
       "        vertical-align: top;\n",
       "    }\n",
       "\n",
       "    .dataframe thead tr th {\n",
       "        text-align: left;\n",
       "    }\n",
       "\n",
       "    .dataframe thead tr:last-of-type th {\n",
       "        text-align: right;\n",
       "    }\n",
       "</style>\n",
       "<table border=\"1\" class=\"dataframe\">\n",
       "  <thead>\n",
       "    <tr>\n",
       "      <th></th>\n",
       "      <th>Company</th>\n",
       "      <th colspan=\"2\" halign=\"left\">Rating</th>\n",
       "    </tr>\n",
       "    <tr>\n",
       "      <th></th>\n",
       "      <th>num_companies</th>\n",
       "      <th>len</th>\n",
       "      <th>mean</th>\n",
       "    </tr>\n",
       "    <tr>\n",
       "      <th>Country of Bean Origin</th>\n",
       "      <th></th>\n",
       "      <th></th>\n",
       "      <th></th>\n",
       "    </tr>\n",
       "  </thead>\n",
       "  <tbody>\n",
       "    <tr>\n",
       "      <th>Congo</th>\n",
       "      <td>9</td>\n",
       "      <td>11.0</td>\n",
       "      <td>3.318182</td>\n",
       "    </tr>\n",
       "    <tr>\n",
       "      <th>Cuba</th>\n",
       "      <td>10</td>\n",
       "      <td>12.0</td>\n",
       "      <td>3.291667</td>\n",
       "    </tr>\n",
       "    <tr>\n",
       "      <th>Guatemala</th>\n",
       "      <td>40</td>\n",
       "      <td>53.0</td>\n",
       "      <td>3.273585</td>\n",
       "    </tr>\n",
       "    <tr>\n",
       "      <th>Haiti</th>\n",
       "      <td>22</td>\n",
       "      <td>24.0</td>\n",
       "      <td>3.270833</td>\n",
       "    </tr>\n",
       "    <tr>\n",
       "      <th>Papua New Guinea</th>\n",
       "      <td>39</td>\n",
       "      <td>49.0</td>\n",
       "      <td>3.270408</td>\n",
       "    </tr>\n",
       "    <tr>\n",
       "      <th>Madagascar</th>\n",
       "      <td>119</td>\n",
       "      <td>163.0</td>\n",
       "      <td>3.260736</td>\n",
       "    </tr>\n",
       "    <tr>\n",
       "      <th>Vietnam</th>\n",
       "      <td>47</td>\n",
       "      <td>64.0</td>\n",
       "      <td>3.253906</td>\n",
       "    </tr>\n",
       "    <tr>\n",
       "      <th>Brazil</th>\n",
       "      <td>51</td>\n",
       "      <td>75.0</td>\n",
       "      <td>3.253333</td>\n",
       "    </tr>\n",
       "    <tr>\n",
       "      <th>Nicaragua</th>\n",
       "      <td>47</td>\n",
       "      <td>92.0</td>\n",
       "      <td>3.239130</td>\n",
       "    </tr>\n",
       "    <tr>\n",
       "      <th>Trinidad and Tobago</th>\n",
       "      <td>36</td>\n",
       "      <td>40.0</td>\n",
       "      <td>3.237500</td>\n",
       "    </tr>\n",
       "  </tbody>\n",
       "</table>\n",
       "</div>"
      ],
      "text/plain": [
       "                             Company Rating          \n",
       "                       num_companies    len      mean\n",
       "Country of Bean Origin                               \n",
       "Congo                              9   11.0  3.318182\n",
       "Cuba                              10   12.0  3.291667\n",
       "Guatemala                         40   53.0  3.273585\n",
       "Haiti                             22   24.0  3.270833\n",
       "Papua New Guinea                  39   49.0  3.270408\n",
       "Madagascar                       119  163.0  3.260736\n",
       "Vietnam                           47   64.0  3.253906\n",
       "Brazil                            51   75.0  3.253333\n",
       "Nicaragua                         47   92.0  3.239130\n",
       "Trinidad and Tobago               36   40.0  3.237500"
      ]
     },
     "execution_count": 24,
     "metadata": {},
     "output_type": "execute_result"
    }
   ],
   "source": [
    "pivot_origin[pivot_origin[('Rating', 'len')]>10].sort_values(('Rating', 'mean'), ascending=False).head(10)"
   ]
  },
  {
   "cell_type": "markdown",
   "metadata": {},
   "source": [
    "Plot distribution of rating of most frequent countries of origin."
   ]
  },
  {
   "cell_type": "code",
   "execution_count": 25,
   "metadata": {},
   "outputs": [
    {
     "data": {
      "image/png": "[encoded data removed]",
      "text/plain": [
       "<Figure size 720x360 with 1 Axes>"
      ]
     },
     "metadata": {
      "needs_background": "light"
     },
     "output_type": "display_data"
    }
   ],
   "source": [
    "most_freq = df['Country of Bean Origin'].value_counts()[:40].index\n",
    "sns.catplot(x=\"Country of Bean Origin\", y=\"Rating\", \n",
    "            kind=\"box\", \n",
    "            aspect=2, \n",
    "            order=most_freq, \n",
    "            data=df[df['Country of Bean Origin'].isin(most_freq)])\n",
    "plt.xticks(rotation=90);"
   ]
  },
  {
   "cell_type": "markdown",
   "metadata": {},
   "source": [
    "Plot distribution of rating of most frequent continents of origin."
   ]
  },
  {
   "cell_type": "code",
   "execution_count": 26,
   "metadata": {},
   "outputs": [
    {
     "data": {
      "image/png": "[encoded data removed]",
      "text/plain": [
       "<Figure size 360x360 with 1 Axes>"
      ]
     },
     "metadata": {
      "needs_background": "light"
     },
     "output_type": "display_data"
    }
   ],
   "source": [
    "sns.catplot(x=\"Continent_origin\", y=\"Rating\", \n",
    "            kind=\"box\", \n",
    "            data=df)\n",
    "plt.xticks(rotation=90);"
   ]
  },
  {
   "cell_type": "markdown",
   "metadata": {},
   "source": [
    "Plot distribution of rating of most frequent sub-regions of origin."
   ]
  },
  {
   "cell_type": "code",
   "execution_count": 27,
   "metadata": {},
   "outputs": [
    {
     "data": {
      "image/png": "[encoded data removed]",
      "text/plain": [
       "<Figure size 360x360 with 1 Axes>"
      ]
     },
     "metadata": {
      "needs_background": "light"
     },
     "output_type": "display_data"
    }
   ],
   "source": [
    "sns.catplot(x=\"Sub-region_origin\", y=\"Rating\", \n",
    "            kind=\"box\", \n",
    "            data=df)\n",
    "plt.xticks(rotation=90);"
   ]
  },
  {
   "cell_type": "markdown",
   "metadata": {},
   "source": [
    "Some bars use beans of different origins and are denoted by \"blend\". Let's compare the rating of blend and non-blend bars."
   ]
  },
  {
   "cell_type": "code",
   "execution_count": 28,
   "metadata": {},
   "outputs": [],
   "source": [
    "df['isBlend'] = (df['Country of Bean Origin'] == 'Blend')+0"
   ]
  },
  {
   "cell_type": "code",
   "execution_count": 29,
   "metadata": {},
   "outputs": [
    {
     "data": {
      "image/png": "[encoded data removed]",
      "text/plain": [
       "<Figure size 360x360 with 1 Axes>"
      ]
     },
     "metadata": {
      "needs_background": "light"
     },
     "output_type": "display_data"
    }
   ],
   "source": [
    "sns.catplot(x=\"isBlend\", y=\"Rating\", \n",
    "            kind=\"box\", \n",
    "            data=df)\n",
    "plt.xticks(rotation=90);"
   ]
  },
  {
   "cell_type": "markdown",
   "metadata": {},
   "source": [
    "### Ingredients"
   ]
  },
  {
   "cell_type": "markdown",
   "metadata": {},
   "source": [
    "From http://flavorsofcacao.com:\n",
    "\n",
    "> \"#\" = represents the number of ingredients in the chocolate; B = Beans, S = Sugar, S* = Sweetener other than white cane or beet sugar, C = Cocoa Butter, V = Vanilla, L = Lecithin, Sa = Salt\n",
    "\n",
    "For each of the above ingredients, let's create a column which indicates whether that ingredient is used or not."
   ]
  },
  {
   "cell_type": "code",
   "execution_count": 7,
   "metadata": {},
   "outputs": [
    {
     "data": {
      "text/html": [
       "<div>\n",
       "<style scoped>\n",
       "    .dataframe tbody tr th:only-of-type {\n",
       "        vertical-align: middle;\n",
       "    }\n",
       "\n",
       "    .dataframe tbody tr th {\n",
       "        vertical-align: top;\n",
       "    }\n",
       "\n",
       "    .dataframe thead th {\n",
       "        text-align: right;\n",
       "    }\n",
       "</style>\n",
       "<table border=\"1\" class=\"dataframe\">\n",
       "  <thead>\n",
       "    <tr style=\"text-align: right;\">\n",
       "      <th></th>\n",
       "      <th>B</th>\n",
       "      <th>C</th>\n",
       "      <th>L</th>\n",
       "      <th>S</th>\n",
       "      <th>S*</th>\n",
       "      <th>Sa</th>\n",
       "      <th>V</th>\n",
       "    </tr>\n",
       "  </thead>\n",
       "  <tbody>\n",
       "    <tr>\n",
       "      <th>0</th>\n",
       "      <td>1</td>\n",
       "      <td>1</td>\n",
       "      <td>0</td>\n",
       "      <td>1</td>\n",
       "      <td>0</td>\n",
       "      <td>0</td>\n",
       "      <td>0</td>\n",
       "    </tr>\n",
       "    <tr>\n",
       "      <th>1</th>\n",
       "      <td>1</td>\n",
       "      <td>1</td>\n",
       "      <td>0</td>\n",
       "      <td>1</td>\n",
       "      <td>0</td>\n",
       "      <td>0</td>\n",
       "      <td>0</td>\n",
       "    </tr>\n",
       "    <tr>\n",
       "      <th>2</th>\n",
       "      <td>1</td>\n",
       "      <td>1</td>\n",
       "      <td>0</td>\n",
       "      <td>1</td>\n",
       "      <td>0</td>\n",
       "      <td>0</td>\n",
       "      <td>0</td>\n",
       "    </tr>\n",
       "    <tr>\n",
       "      <th>3</th>\n",
       "      <td>1</td>\n",
       "      <td>1</td>\n",
       "      <td>1</td>\n",
       "      <td>1</td>\n",
       "      <td>0</td>\n",
       "      <td>0</td>\n",
       "      <td>0</td>\n",
       "    </tr>\n",
       "    <tr>\n",
       "      <th>4</th>\n",
       "      <td>1</td>\n",
       "      <td>1</td>\n",
       "      <td>1</td>\n",
       "      <td>1</td>\n",
       "      <td>0</td>\n",
       "      <td>0</td>\n",
       "      <td>0</td>\n",
       "    </tr>\n",
       "  </tbody>\n",
       "</table>\n",
       "</div>"
      ],
      "text/plain": [
       "   B  C  L  S  S*  Sa  V\n",
       "0  1  1  0  1   0   0  0\n",
       "1  1  1  0  1   0   0  0\n",
       "2  1  1  0  1   0   0  0\n",
       "3  1  1  1  1   0   0  0\n",
       "4  1  1  1  1   0   0  0"
      ]
     },
     "execution_count": 7,
     "metadata": {},
     "output_type": "execute_result"
    }
   ],
   "source": [
    "# Remove numbers, dashes and spaces\n",
    "df['Ingredients'] = df['Ingredients'].str.replace('[\\s\\d-]', '')\n",
    "\n",
    "ingredient_dummies = df['Ingredients'].str.get_dummies(sep=',')\n",
    "ingredient_dummies.head()"
   ]
  },
  {
   "cell_type": "markdown",
   "metadata": {},
   "source": [
    "Let's plot for each ingredient the number of bars that contain it."
   ]
  },
  {
   "cell_type": "code",
   "execution_count": 8,
   "metadata": {
    "scrolled": true
   },
   "outputs": [
    {
     "data": {
      "image/png": "[encoded data removed]",
      "text/plain": [
       "<Figure size 432x288 with 1 Axes>"
      ]
     },
     "metadata": {
      "needs_background": "light"
     },
     "output_type": "display_data"
    }
   ],
   "source": [
    "values = ingredient_dummies.sum()\n",
    "sns.barplot(x=values.index, y=values);"
   ]
  },
  {
   "cell_type": "markdown",
   "metadata": {},
   "source": [
    "Note that some values of the ingredient column are missing and the corresponding dummies are all 0:"
   ]
  },
  {
   "cell_type": "code",
   "execution_count": 9,
   "metadata": {},
   "outputs": [
    {
     "data": {
      "text/html": [
       "<div>\n",
       "<style scoped>\n",
       "    .dataframe tbody tr th:only-of-type {\n",
       "        vertical-align: middle;\n",
       "    }\n",
       "\n",
       "    .dataframe tbody tr th {\n",
       "        vertical-align: top;\n",
       "    }\n",
       "\n",
       "    .dataframe thead th {\n",
       "        text-align: right;\n",
       "    }\n",
       "</style>\n",
       "<table border=\"1\" class=\"dataframe\">\n",
       "  <thead>\n",
       "    <tr style=\"text-align: right;\">\n",
       "      <th></th>\n",
       "      <th>B</th>\n",
       "      <th>C</th>\n",
       "      <th>L</th>\n",
       "      <th>S</th>\n",
       "      <th>S*</th>\n",
       "      <th>Sa</th>\n",
       "      <th>V</th>\n",
       "    </tr>\n",
       "  </thead>\n",
       "  <tbody>\n",
       "    <tr>\n",
       "      <th>80</th>\n",
       "      <td>0</td>\n",
       "      <td>0</td>\n",
       "      <td>0</td>\n",
       "      <td>0</td>\n",
       "      <td>0</td>\n",
       "      <td>0</td>\n",
       "      <td>0</td>\n",
       "    </tr>\n",
       "    <tr>\n",
       "      <th>81</th>\n",
       "      <td>0</td>\n",
       "      <td>0</td>\n",
       "      <td>0</td>\n",
       "      <td>0</td>\n",
       "      <td>0</td>\n",
       "      <td>0</td>\n",
       "      <td>0</td>\n",
       "    </tr>\n",
       "    <tr>\n",
       "      <th>161</th>\n",
       "      <td>0</td>\n",
       "      <td>0</td>\n",
       "      <td>0</td>\n",
       "      <td>0</td>\n",
       "      <td>0</td>\n",
       "      <td>0</td>\n",
       "      <td>0</td>\n",
       "    </tr>\n",
       "    <tr>\n",
       "      <th>283</th>\n",
       "      <td>0</td>\n",
       "      <td>0</td>\n",
       "      <td>0</td>\n",
       "      <td>0</td>\n",
       "      <td>0</td>\n",
       "      <td>0</td>\n",
       "      <td>0</td>\n",
       "    </tr>\n",
       "    <tr>\n",
       "      <th>307</th>\n",
       "      <td>0</td>\n",
       "      <td>0</td>\n",
       "      <td>0</td>\n",
       "      <td>0</td>\n",
       "      <td>0</td>\n",
       "      <td>0</td>\n",
       "      <td>0</td>\n",
       "    </tr>\n",
       "  </tbody>\n",
       "</table>\n",
       "</div>"
      ],
      "text/plain": [
       "     B  C  L  S  S*  Sa  V\n",
       "80   0  0  0  0   0   0  0\n",
       "81   0  0  0  0   0   0  0\n",
       "161  0  0  0  0   0   0  0\n",
       "283  0  0  0  0   0   0  0\n",
       "307  0  0  0  0   0   0  0"
      ]
     },
     "execution_count": 9,
     "metadata": {},
     "output_type": "execute_result"
    }
   ],
   "source": [
    "ingredient_dummies[df.isna().any(axis=1)].head()"
   ]
  },
  {
   "cell_type": "markdown",
   "metadata": {},
   "source": [
    "We replace these missing values by the mean of the corresponding dummy variable."
   ]
  },
  {
   "cell_type": "code",
   "execution_count": 10,
   "metadata": {},
   "outputs": [],
   "source": [
    "ingr_means = ingredient_dummies.drop(ingredient_dummies[df.isna().any(axis=1)].index).mean()\n",
    "ingredient_dummies[df.isna().any(axis=1)] += ingr_means"
   ]
  },
  {
   "cell_type": "markdown",
   "metadata": {},
   "source": [
    "### Most Memorable Characteristics"
   ]
  },
  {
   "cell_type": "markdown",
   "metadata": {},
   "source": [
    "From http://flavorsofcacao.com:\n",
    "\n",
    "> Most Memorable Characteristics column is a summary review of the most memorable characteristics of that bar. Terms generally relate to anything from texture, flavor, overall opinion, etc.\n",
    "\n",
    "Some more insights about such characteristics can be found at http://flavorsofcacao.com/review_guide.html. Here we list some of the most frequent terms (especially those related to flavor, since it is the most influential component in ratings) and we check which reviews contain them."
   ]
  },
  {
   "cell_type": "code",
   "execution_count": 11,
   "metadata": {},
   "outputs": [],
   "source": [
    "characteristics_list = ['nutty', 'fruit', 'floral', 'spicy', 'cocoa', 'earthy', \n",
    "                        'sweet', 'sour', 'roasty', 'dairy', 'grass', 'pungent', \n",
    "                        'dirty', 'musty', 'smokey', 'rubbery', 'hammy', 'bland', \n",
    "                        'off', 'bitter', 'astringent']"
   ]
  },
  {
   "cell_type": "code",
   "execution_count": 12,
   "metadata": {},
   "outputs": [],
   "source": [
    "def contains(w):\n",
    "    return df['Most Memorable Characteristics'].str.contains(w) + 0\n",
    "\n",
    "for ch in characteristics_list:\n",
    "    df[ch] = contains(ch)"
   ]
  },
  {
   "cell_type": "code",
   "execution_count": 13,
   "metadata": {
    "scrolled": true
   },
   "outputs": [
    {
     "data": {
      "image/png": "[encoded data removed]",
      "text/plain": [
       "<Figure size 1080x432 with 1 Axes>"
      ]
     },
     "metadata": {
      "needs_background": "light"
     },
     "output_type": "display_data"
    }
   ],
   "source": [
    "values = df[characteristics_list].sum().sort_values(ascending=False)\n",
    "fig, ax = plt.subplots(figsize=(15, 6))\n",
    "sns.barplot(x=values.index, y=values)\n",
    "plt.xticks(rotation=90);"
   ]
  },
  {
   "cell_type": "markdown",
   "metadata": {},
   "source": [
    "# Models"
   ]
  },
  {
   "cell_type": "markdown",
   "metadata": {},
   "source": [
    "Apply transformations."
   ]
  },
  {
   "cell_type": "code",
   "execution_count": 91,
   "metadata": {},
   "outputs": [],
   "source": [
    "# Drop REF since it is highly correlated with review date\n",
    "# Drop Ingredients, Most Memorable Characteristics since we already encoded them\n",
    "df_trans = df.drop(['REF', 'Ingredients', 'Most Memorable Characteristics'], axis=1)\n",
    "\n",
    "# Add ingredient dummies\n",
    "df_trans = pd.concat([df_trans, ingredient_dummies], axis=1)\n",
    "\n",
    "# Drop B, S since they are almost constant\n",
    "df_trans = df_trans.drop(['B', 'S'], axis=1)"
   ]
  },
  {
   "cell_type": "code",
   "execution_count": 92,
   "metadata": {},
   "outputs": [],
   "source": [
    "# Split into train/test\n",
    "X = df_trans.drop('Rating', axis=1)\n",
    "y = df_trans['Rating']\n",
    "X_train, X_test, y_train, y_test = train_test_split(X, y, test_size=0.3, random_state=42)"
   ]
  },
  {
   "cell_type": "code",
   "execution_count": 93,
   "metadata": {},
   "outputs": [],
   "source": [
    "num_columns = ['Review Date', 'Cocoa Percent']\n",
    "cat_columns = df_trans.select_dtypes(exclude='number').columns.tolist()\n",
    "\n",
    "# Categorical encoding\n",
    "cat_enc = MEstimateEncoder()\n",
    "cat_enc.fit(X_train, y_train)\n",
    "\n",
    "X_train_trans = cat_enc.transform(X_train, y_train)\n",
    "X_test_trans = cat_enc.transform(X_test, y_test)\n",
    "\n",
    "# Normalize numeric columns\n",
    "num_enc = ColumnTransformer(\n",
    "    transformers=[\n",
    "        ('num', StandardScaler(), num_columns)],\n",
    "    remainder='passthrough')\n",
    "#num_enc.fit(X_train_trans)"
   ]
  },
  {
   "cell_type": "code",
   "execution_count": 94,
   "metadata": {},
   "outputs": [],
   "source": [
    "# Utility function for evaluation\n",
    "def eval_mod(model):\n",
    "    y_pred = model.predict(X_test_trans)\n",
    "    \n",
    "    print('RMSE:', np.sqrt(mean_squared_error(y_test, y_pred)))\n",
    "    print('MAE:', mean_absolute_error(y_test, y_pred))\n",
    "    print('R^2:', r2_score(y_test, y_pred))"
   ]
  },
  {
   "cell_type": "code",
   "execution_count": 119,
   "metadata": {},
   "outputs": [],
   "source": [
    "feature_names = X_train_trans.columns"
   ]
  },
  {
   "cell_type": "markdown",
   "metadata": {},
   "source": [
    "## Linear regression"
   ]
  },
  {
   "cell_type": "code",
   "execution_count": 97,
   "metadata": {},
   "outputs": [
    {
     "data": {
      "text/plain": [
       "Pipeline(steps=[('scaler',\n",
       "                 ColumnTransformer(remainder='passthrough',\n",
       "                                   transformers=[('num', StandardScaler(),\n",
       "                                                  ['Review Date',\n",
       "                                                   'Cocoa Percent'])])),\n",
       "                ('lr', LinearRegression())])"
      ]
     },
     "execution_count": 97,
     "metadata": {},
     "output_type": "execute_result"
    }
   ],
   "source": [
    "lr_mod = Pipeline([('scaler', num_enc), ('lr', LinearRegression())])\n",
    "lr_mod.fit(X_train_trans, y_train)"
   ]
  },
  {
   "cell_type": "code",
   "execution_count": 98,
   "metadata": {},
   "outputs": [
    {
     "name": "stdout",
     "output_type": "stream",
     "text": [
      "RMSE: 0.43136410845331236\n",
      "MAE: 0.33501280118758436\n",
      "R^2: 0.143650865537006\n"
     ]
    }
   ],
   "source": [
    "eval_mod(lr_mod)"
   ]
  },
  {
   "cell_type": "code",
   "execution_count": 120,
   "metadata": {
    "scrolled": true
   },
   "outputs": [
    {
     "data": {
      "text/html": [
       "<div>\n",
       "<style scoped>\n",
       "    .dataframe tbody tr th:only-of-type {\n",
       "        vertical-align: middle;\n",
       "    }\n",
       "\n",
       "    .dataframe tbody tr th {\n",
       "        vertical-align: top;\n",
       "    }\n",
       "\n",
       "    .dataframe thead th {\n",
       "        text-align: right;\n",
       "    }\n",
       "</style>\n",
       "<table border=\"1\" class=\"dataframe\">\n",
       "  <thead>\n",
       "    <tr style=\"text-align: right;\">\n",
       "      <th></th>\n",
       "      <th>feature</th>\n",
       "      <th>coef</th>\n",
       "    </tr>\n",
       "  </thead>\n",
       "  <tbody>\n",
       "    <tr>\n",
       "      <th>4</th>\n",
       "      <td>Cocoa Percent</td>\n",
       "      <td>1.301175</td>\n",
       "    </tr>\n",
       "    <tr>\n",
       "      <th>10</th>\n",
       "      <td>Company</td>\n",
       "      <td>0.438294</td>\n",
       "    </tr>\n",
       "    <tr>\n",
       "      <th>7</th>\n",
       "      <td>Continent_origin</td>\n",
       "      <td>0.363127</td>\n",
       "    </tr>\n",
       "    <tr>\n",
       "      <th>26</th>\n",
       "      <td>rubbery</td>\n",
       "      <td>-0.176164</td>\n",
       "    </tr>\n",
       "    <tr>\n",
       "      <th>9</th>\n",
       "      <td>Manufacturer</td>\n",
       "      <td>0.152194</td>\n",
       "    </tr>\n",
       "    <tr>\n",
       "      <th>3</th>\n",
       "      <td>Specific Bean Origin or Bar Name</td>\n",
       "      <td>-0.148455</td>\n",
       "    </tr>\n",
       "    <tr>\n",
       "      <th>22</th>\n",
       "      <td>pungent</td>\n",
       "      <td>-0.136138</td>\n",
       "    </tr>\n",
       "    <tr>\n",
       "      <th>2</th>\n",
       "      <td>Country of Bean Origin</td>\n",
       "      <td>-0.118325</td>\n",
       "    </tr>\n",
       "    <tr>\n",
       "      <th>24</th>\n",
       "      <td>musty</td>\n",
       "      <td>0.108947</td>\n",
       "    </tr>\n",
       "    <tr>\n",
       "      <th>27</th>\n",
       "      <td>hammy</td>\n",
       "      <td>-0.104598</td>\n",
       "    </tr>\n",
       "    <tr>\n",
       "      <th>5</th>\n",
       "      <td>Continent_company</td>\n",
       "      <td>-0.081847</td>\n",
       "    </tr>\n",
       "    <tr>\n",
       "      <th>28</th>\n",
       "      <td>bland</td>\n",
       "      <td>-0.080805</td>\n",
       "    </tr>\n",
       "    <tr>\n",
       "      <th>6</th>\n",
       "      <td>Sub-region_company</td>\n",
       "      <td>0.079715</td>\n",
       "    </tr>\n",
       "    <tr>\n",
       "      <th>14</th>\n",
       "      <td>spicy</td>\n",
       "      <td>0.078819</td>\n",
       "    </tr>\n",
       "    <tr>\n",
       "      <th>16</th>\n",
       "      <td>earthy</td>\n",
       "      <td>-0.076278</td>\n",
       "    </tr>\n",
       "    <tr>\n",
       "      <th>18</th>\n",
       "      <td>sour</td>\n",
       "      <td>-0.075163</td>\n",
       "    </tr>\n",
       "    <tr>\n",
       "      <th>15</th>\n",
       "      <td>cocoa</td>\n",
       "      <td>0.071053</td>\n",
       "    </tr>\n",
       "    <tr>\n",
       "      <th>23</th>\n",
       "      <td>dirty</td>\n",
       "      <td>-0.068733</td>\n",
       "    </tr>\n",
       "    <tr>\n",
       "      <th>29</th>\n",
       "      <td>off</td>\n",
       "      <td>-0.057211</td>\n",
       "    </tr>\n",
       "    <tr>\n",
       "      <th>25</th>\n",
       "      <td>smokey</td>\n",
       "      <td>-0.053293</td>\n",
       "    </tr>\n",
       "    <tr>\n",
       "      <th>12</th>\n",
       "      <td>fruit</td>\n",
       "      <td>0.052773</td>\n",
       "    </tr>\n",
       "    <tr>\n",
       "      <th>20</th>\n",
       "      <td>dairy</td>\n",
       "      <td>-0.051945</td>\n",
       "    </tr>\n",
       "    <tr>\n",
       "      <th>30</th>\n",
       "      <td>bitter</td>\n",
       "      <td>-0.042723</td>\n",
       "    </tr>\n",
       "    <tr>\n",
       "      <th>31</th>\n",
       "      <td>astringent</td>\n",
       "      <td>-0.042139</td>\n",
       "    </tr>\n",
       "    <tr>\n",
       "      <th>35</th>\n",
       "      <td>Sa</td>\n",
       "      <td>-0.041075</td>\n",
       "    </tr>\n",
       "    <tr>\n",
       "      <th>8</th>\n",
       "      <td>Sub-region_origin</td>\n",
       "      <td>0.028147</td>\n",
       "    </tr>\n",
       "    <tr>\n",
       "      <th>17</th>\n",
       "      <td>sweet</td>\n",
       "      <td>-0.024175</td>\n",
       "    </tr>\n",
       "    <tr>\n",
       "      <th>13</th>\n",
       "      <td>floral</td>\n",
       "      <td>0.021025</td>\n",
       "    </tr>\n",
       "    <tr>\n",
       "      <th>1</th>\n",
       "      <td>Review Date</td>\n",
       "      <td>-0.019168</td>\n",
       "    </tr>\n",
       "    <tr>\n",
       "      <th>32</th>\n",
       "      <td>C</td>\n",
       "      <td>-0.019005</td>\n",
       "    </tr>\n",
       "    <tr>\n",
       "      <th>11</th>\n",
       "      <td>nutty</td>\n",
       "      <td>0.015281</td>\n",
       "    </tr>\n",
       "    <tr>\n",
       "      <th>19</th>\n",
       "      <td>roasty</td>\n",
       "      <td>0.013548</td>\n",
       "    </tr>\n",
       "    <tr>\n",
       "      <th>21</th>\n",
       "      <td>grass</td>\n",
       "      <td>0.012966</td>\n",
       "    </tr>\n",
       "    <tr>\n",
       "      <th>36</th>\n",
       "      <td>V</td>\n",
       "      <td>0.011188</td>\n",
       "    </tr>\n",
       "    <tr>\n",
       "      <th>34</th>\n",
       "      <td>S*</td>\n",
       "      <td>0.005704</td>\n",
       "    </tr>\n",
       "    <tr>\n",
       "      <th>33</th>\n",
       "      <td>L</td>\n",
       "      <td>0.005104</td>\n",
       "    </tr>\n",
       "    <tr>\n",
       "      <th>0</th>\n",
       "      <td>Company Location</td>\n",
       "      <td>0.004669</td>\n",
       "    </tr>\n",
       "  </tbody>\n",
       "</table>\n",
       "</div>"
      ],
      "text/plain": [
       "                             feature      coef\n",
       "4                      Cocoa Percent  1.301175\n",
       "10                           Company  0.438294\n",
       "7                   Continent_origin  0.363127\n",
       "26                           rubbery -0.176164\n",
       "9                       Manufacturer  0.152194\n",
       "3   Specific Bean Origin or Bar Name -0.148455\n",
       "22                           pungent -0.136138\n",
       "2             Country of Bean Origin -0.118325\n",
       "24                             musty  0.108947\n",
       "27                             hammy -0.104598\n",
       "5                  Continent_company -0.081847\n",
       "28                             bland -0.080805\n",
       "6                 Sub-region_company  0.079715\n",
       "14                             spicy  0.078819\n",
       "16                            earthy -0.076278\n",
       "18                              sour -0.075163\n",
       "15                             cocoa  0.071053\n",
       "23                             dirty -0.068733\n",
       "29                               off -0.057211\n",
       "25                            smokey -0.053293\n",
       "12                             fruit  0.052773\n",
       "20                             dairy -0.051945\n",
       "30                            bitter -0.042723\n",
       "31                        astringent -0.042139\n",
       "35                                Sa -0.041075\n",
       "8                  Sub-region_origin  0.028147\n",
       "17                             sweet -0.024175\n",
       "13                            floral  0.021025\n",
       "1                        Review Date -0.019168\n",
       "32                                 C -0.019005\n",
       "11                             nutty  0.015281\n",
       "19                            roasty  0.013548\n",
       "21                             grass  0.012966\n",
       "36                                 V  0.011188\n",
       "34                                S*  0.005704\n",
       "33                                 L  0.005104\n",
       "0                   Company Location  0.004669"
      ]
     },
     "execution_count": 120,
     "metadata": {},
     "output_type": "execute_result"
    }
   ],
   "source": [
    "coefs = pd.DataFrame({'feature': feature_names, 'coef': lr_mod['lr'].coef_})\n",
    "coefs['abs_coef'] = np.abs(coefs['coef'])\n",
    "coefs.sort_values('abs_coef', ascending=False).drop('abs_coef', axis=1)"
   ]
  },
  {
   "cell_type": "markdown",
   "metadata": {},
   "source": [
    "### Lasso regression"
   ]
  },
  {
   "cell_type": "code",
   "execution_count": 103,
   "metadata": {},
   "outputs": [
    {
     "data": {
      "text/plain": [
       "Pipeline(steps=[('scaler',\n",
       "                 ColumnTransformer(remainder='passthrough',\n",
       "                                   transformers=[('num', StandardScaler(),\n",
       "                                                  ['Review Date',\n",
       "                                                   'Cocoa Percent'])])),\n",
       "                ('lasso', LassoCV(max_iter=2000))])"
      ]
     },
     "execution_count": 103,
     "metadata": {},
     "output_type": "execute_result"
    }
   ],
   "source": [
    "lasso_mod = Pipeline([('scaler', num_enc), ('lasso', LassoCV(max_iter=2000))])\n",
    "lasso_mod.fit(X_train_trans, y_train)"
   ]
  },
  {
   "cell_type": "code",
   "execution_count": 104,
   "metadata": {},
   "outputs": [
    {
     "data": {
      "text/plain": [
       "0.0007769034709500233"
      ]
     },
     "execution_count": 104,
     "metadata": {},
     "output_type": "execute_result"
    }
   ],
   "source": [
    "lasso_mod['lasso'].alpha_"
   ]
  },
  {
   "cell_type": "code",
   "execution_count": 105,
   "metadata": {},
   "outputs": [
    {
     "name": "stdout",
     "output_type": "stream",
     "text": [
      "RMSE: 0.4336072406308984\n",
      "MAE: 0.3365388674538905\n",
      "R^2: 0.1347215239500833\n"
     ]
    }
   ],
   "source": [
    "eval_mod(lasso_mod)"
   ]
  },
  {
   "cell_type": "code",
   "execution_count": 107,
   "metadata": {
    "scrolled": true
   },
   "outputs": [
    {
     "data": {
      "text/html": [
       "<div>\n",
       "<style scoped>\n",
       "    .dataframe tbody tr th:only-of-type {\n",
       "        vertical-align: middle;\n",
       "    }\n",
       "\n",
       "    .dataframe tbody tr th {\n",
       "        vertical-align: top;\n",
       "    }\n",
       "\n",
       "    .dataframe thead th {\n",
       "        text-align: right;\n",
       "    }\n",
       "</style>\n",
       "<table border=\"1\" class=\"dataframe\">\n",
       "  <thead>\n",
       "    <tr style=\"text-align: right;\">\n",
       "      <th></th>\n",
       "      <th>feature</th>\n",
       "      <th>coef</th>\n",
       "    </tr>\n",
       "  </thead>\n",
       "  <tbody>\n",
       "    <tr>\n",
       "      <th>4</th>\n",
       "      <td>Cocoa Percent</td>\n",
       "      <td>1.291109</td>\n",
       "    </tr>\n",
       "    <tr>\n",
       "      <th>10</th>\n",
       "      <td>Company</td>\n",
       "      <td>0.445277</td>\n",
       "    </tr>\n",
       "    <tr>\n",
       "      <th>9</th>\n",
       "      <td>Manufacturer</td>\n",
       "      <td>0.127142</td>\n",
       "    </tr>\n",
       "    <tr>\n",
       "      <th>26</th>\n",
       "      <td>rubbery</td>\n",
       "      <td>-0.089560</td>\n",
       "    </tr>\n",
       "    <tr>\n",
       "      <th>22</th>\n",
       "      <td>pungent</td>\n",
       "      <td>-0.079353</td>\n",
       "    </tr>\n",
       "    <tr>\n",
       "      <th>18</th>\n",
       "      <td>sour</td>\n",
       "      <td>-0.070085</td>\n",
       "    </tr>\n",
       "    <tr>\n",
       "      <th>15</th>\n",
       "      <td>cocoa</td>\n",
       "      <td>0.069998</td>\n",
       "    </tr>\n",
       "    <tr>\n",
       "      <th>14</th>\n",
       "      <td>spicy</td>\n",
       "      <td>0.066515</td>\n",
       "    </tr>\n",
       "    <tr>\n",
       "      <th>16</th>\n",
       "      <td>earthy</td>\n",
       "      <td>-0.062560</td>\n",
       "    </tr>\n",
       "    <tr>\n",
       "      <th>27</th>\n",
       "      <td>hammy</td>\n",
       "      <td>-0.051302</td>\n",
       "    </tr>\n",
       "    <tr>\n",
       "      <th>29</th>\n",
       "      <td>off</td>\n",
       "      <td>-0.047806</td>\n",
       "    </tr>\n",
       "    <tr>\n",
       "      <th>12</th>\n",
       "      <td>fruit</td>\n",
       "      <td>0.045154</td>\n",
       "    </tr>\n",
       "    <tr>\n",
       "      <th>30</th>\n",
       "      <td>bitter</td>\n",
       "      <td>-0.023442</td>\n",
       "    </tr>\n",
       "    <tr>\n",
       "      <th>1</th>\n",
       "      <td>Review Date</td>\n",
       "      <td>-0.019878</td>\n",
       "    </tr>\n",
       "    <tr>\n",
       "      <th>17</th>\n",
       "      <td>sweet</td>\n",
       "      <td>-0.017383</td>\n",
       "    </tr>\n",
       "    <tr>\n",
       "      <th>25</th>\n",
       "      <td>smokey</td>\n",
       "      <td>-0.017008</td>\n",
       "    </tr>\n",
       "    <tr>\n",
       "      <th>32</th>\n",
       "      <td>C</td>\n",
       "      <td>-0.016156</td>\n",
       "    </tr>\n",
       "    <tr>\n",
       "      <th>20</th>\n",
       "      <td>dairy</td>\n",
       "      <td>-0.015257</td>\n",
       "    </tr>\n",
       "    <tr>\n",
       "      <th>13</th>\n",
       "      <td>floral</td>\n",
       "      <td>0.014398</td>\n",
       "    </tr>\n",
       "    <tr>\n",
       "      <th>2</th>\n",
       "      <td>Country of Bean Origin</td>\n",
       "      <td>-0.013193</td>\n",
       "    </tr>\n",
       "    <tr>\n",
       "      <th>11</th>\n",
       "      <td>nutty</td>\n",
       "      <td>0.010891</td>\n",
       "    </tr>\n",
       "    <tr>\n",
       "      <th>28</th>\n",
       "      <td>bland</td>\n",
       "      <td>-0.007782</td>\n",
       "    </tr>\n",
       "    <tr>\n",
       "      <th>19</th>\n",
       "      <td>roasty</td>\n",
       "      <td>0.003101</td>\n",
       "    </tr>\n",
       "    <tr>\n",
       "      <th>33</th>\n",
       "      <td>L</td>\n",
       "      <td>0.002208</td>\n",
       "    </tr>\n",
       "    <tr>\n",
       "      <th>0</th>\n",
       "      <td>Company Location</td>\n",
       "      <td>0.000728</td>\n",
       "    </tr>\n",
       "    <tr>\n",
       "      <th>24</th>\n",
       "      <td>musty</td>\n",
       "      <td>0.000000</td>\n",
       "    </tr>\n",
       "    <tr>\n",
       "      <th>23</th>\n",
       "      <td>dirty</td>\n",
       "      <td>-0.000000</td>\n",
       "    </tr>\n",
       "    <tr>\n",
       "      <th>21</th>\n",
       "      <td>grass</td>\n",
       "      <td>0.000000</td>\n",
       "    </tr>\n",
       "    <tr>\n",
       "      <th>8</th>\n",
       "      <td>Sub-region_origin</td>\n",
       "      <td>0.000000</td>\n",
       "    </tr>\n",
       "    <tr>\n",
       "      <th>7</th>\n",
       "      <td>Continent_origin</td>\n",
       "      <td>0.000000</td>\n",
       "    </tr>\n",
       "    <tr>\n",
       "      <th>6</th>\n",
       "      <td>Sub-region_company</td>\n",
       "      <td>-0.000000</td>\n",
       "    </tr>\n",
       "    <tr>\n",
       "      <th>31</th>\n",
       "      <td>astringent</td>\n",
       "      <td>-0.000000</td>\n",
       "    </tr>\n",
       "    <tr>\n",
       "      <th>5</th>\n",
       "      <td>Continent_company</td>\n",
       "      <td>-0.000000</td>\n",
       "    </tr>\n",
       "    <tr>\n",
       "      <th>3</th>\n",
       "      <td>Specific Bean Origin or Bar Name</td>\n",
       "      <td>-0.000000</td>\n",
       "    </tr>\n",
       "    <tr>\n",
       "      <th>34</th>\n",
       "      <td>S*</td>\n",
       "      <td>-0.000000</td>\n",
       "    </tr>\n",
       "    <tr>\n",
       "      <th>35</th>\n",
       "      <td>Sa</td>\n",
       "      <td>-0.000000</td>\n",
       "    </tr>\n",
       "    <tr>\n",
       "      <th>36</th>\n",
       "      <td>V</td>\n",
       "      <td>0.000000</td>\n",
       "    </tr>\n",
       "  </tbody>\n",
       "</table>\n",
       "</div>"
      ],
      "text/plain": [
       "                             feature      coef\n",
       "4                      Cocoa Percent  1.291109\n",
       "10                           Company  0.445277\n",
       "9                       Manufacturer  0.127142\n",
       "26                           rubbery -0.089560\n",
       "22                           pungent -0.079353\n",
       "18                              sour -0.070085\n",
       "15                             cocoa  0.069998\n",
       "14                             spicy  0.066515\n",
       "16                            earthy -0.062560\n",
       "27                             hammy -0.051302\n",
       "29                               off -0.047806\n",
       "12                             fruit  0.045154\n",
       "30                            bitter -0.023442\n",
       "1                        Review Date -0.019878\n",
       "17                             sweet -0.017383\n",
       "25                            smokey -0.017008\n",
       "32                                 C -0.016156\n",
       "20                             dairy -0.015257\n",
       "13                            floral  0.014398\n",
       "2             Country of Bean Origin -0.013193\n",
       "11                             nutty  0.010891\n",
       "28                             bland -0.007782\n",
       "19                            roasty  0.003101\n",
       "33                                 L  0.002208\n",
       "0                   Company Location  0.000728\n",
       "24                             musty  0.000000\n",
       "23                             dirty -0.000000\n",
       "21                             grass  0.000000\n",
       "8                  Sub-region_origin  0.000000\n",
       "7                   Continent_origin  0.000000\n",
       "6                 Sub-region_company -0.000000\n",
       "31                        astringent -0.000000\n",
       "5                  Continent_company -0.000000\n",
       "3   Specific Bean Origin or Bar Name -0.000000\n",
       "34                                S* -0.000000\n",
       "35                                Sa -0.000000\n",
       "36                                 V  0.000000"
      ]
     },
     "execution_count": 107,
     "metadata": {},
     "output_type": "execute_result"
    }
   ],
   "source": [
    "coefs = pd.DataFrame({'feature': feature_names, 'coef': lasso_mod['lasso'].coef_})\n",
    "coefs['abs_coef'] = np.abs(coefs['coef'])\n",
    "coefs.sort_values('abs_coef', ascending=False).drop('abs_coef', axis=1)"
   ]
  },
  {
   "cell_type": "code",
   "execution_count": 108,
   "metadata": {},
   "outputs": [
    {
     "data": {
      "text/plain": [
       "12"
      ]
     },
     "execution_count": 108,
     "metadata": {},
     "output_type": "execute_result"
    }
   ],
   "source": [
    "(lasso_mod['lasso'].coef_==0).sum()"
   ]
  },
  {
   "cell_type": "code",
   "execution_count": 49,
   "metadata": {
    "scrolled": true
   },
   "outputs": [
    {
     "data": {
      "text/plain": [
       "LassoLarsCV()"
      ]
     },
     "execution_count": 49,
     "metadata": {},
     "output_type": "execute_result"
    }
   ],
   "source": [
    "lassolars_mod = LassoLarsCV()\n",
    "lassolars_mod.fit(X_train_trans, y_train)"
   ]
  },
  {
   "cell_type": "code",
   "execution_count": 50,
   "metadata": {},
   "outputs": [
    {
     "data": {
      "text/plain": [
       "10"
      ]
     },
     "execution_count": 50,
     "metadata": {},
     "output_type": "execute_result"
    }
   ],
   "source": [
    "(lassolars_mod.coef_==0).sum()"
   ]
  },
  {
   "cell_type": "code",
   "execution_count": 51,
   "metadata": {},
   "outputs": [
    {
     "name": "stdout",
     "output_type": "stream",
     "text": [
      "RMSE: 0.4336479043225181\n",
      "MAE: 0.3366164317894974\n",
      "R^2: 0.13455922469092685\n"
     ]
    }
   ],
   "source": [
    "eval_mod(lassolars_mod)"
   ]
  },
  {
   "cell_type": "markdown",
   "metadata": {},
   "source": [
    "### Ridge regression"
   ]
  },
  {
   "cell_type": "code",
   "execution_count": 109,
   "metadata": {},
   "outputs": [
    {
     "data": {
      "text/plain": [
       "Pipeline(steps=[('scaler',\n",
       "                 ColumnTransformer(remainder='passthrough',\n",
       "                                   transformers=[('num', StandardScaler(),\n",
       "                                                  ['Review Date',\n",
       "                                                   'Cocoa Percent'])])),\n",
       "                ('ridge',\n",
       "                 RidgeCV(alphas=array([1.e-02, 1.e-01, 1.e+00, 1.e+01, 1.e+02])))])"
      ]
     },
     "execution_count": 109,
     "metadata": {},
     "output_type": "execute_result"
    }
   ],
   "source": [
    "ridge_mod = Pipeline([('scaler', num_enc), ('ridge', RidgeCV(alphas=np.logspace(-2, 2, num=5)))])\n",
    "ridge_mod.fit(X_train_trans, y_train)"
   ]
  },
  {
   "cell_type": "code",
   "execution_count": 110,
   "metadata": {},
   "outputs": [
    {
     "data": {
      "text/plain": [
       "1.0"
      ]
     },
     "execution_count": 110,
     "metadata": {},
     "output_type": "execute_result"
    }
   ],
   "source": [
    "ridge_mod['ridge'].alpha_"
   ]
  },
  {
   "cell_type": "code",
   "execution_count": 111,
   "metadata": {},
   "outputs": [
    {
     "name": "stdout",
     "output_type": "stream",
     "text": [
      "RMSE: 0.429822218726834\n",
      "MAE: 0.3338206006800712\n",
      "R^2: 0.14976187969796562\n"
     ]
    }
   ],
   "source": [
    "eval_mod(ridge_mod)"
   ]
  },
  {
   "cell_type": "markdown",
   "metadata": {},
   "source": [
    "### Feature importance"
   ]
  },
  {
   "cell_type": "code",
   "execution_count": 113,
   "metadata": {},
   "outputs": [],
   "source": [
    "pi = permutation_importance(lr_mod, X_train_trans, y_train, \n",
    "                            n_repeats=10, random_state=42)"
   ]
  },
  {
   "cell_type": "code",
   "execution_count": 114,
   "metadata": {},
   "outputs": [],
   "source": [
    "perm_sorted_idx = (-pi.importances_mean).argsort()"
   ]
  },
  {
   "cell_type": "code",
   "execution_count": 116,
   "metadata": {},
   "outputs": [
    {
     "data": {
      "text/html": [
       "<div>\n",
       "<style scoped>\n",
       "    .dataframe tbody tr th:only-of-type {\n",
       "        vertical-align: middle;\n",
       "    }\n",
       "\n",
       "    .dataframe tbody tr th {\n",
       "        vertical-align: top;\n",
       "    }\n",
       "\n",
       "    .dataframe thead th {\n",
       "        text-align: right;\n",
       "    }\n",
       "</style>\n",
       "<table border=\"1\" class=\"dataframe\">\n",
       "  <thead>\n",
       "    <tr style=\"text-align: right;\">\n",
       "      <th></th>\n",
       "      <th>Specific Bean Origin or Bar Name</th>\n",
       "      <th>Company</th>\n",
       "      <th>Manufacturer</th>\n",
       "    </tr>\n",
       "  </thead>\n",
       "  <tbody>\n",
       "    <tr>\n",
       "      <th>0</th>\n",
       "      <td>0.786636</td>\n",
       "      <td>0.107108</td>\n",
       "      <td>0.013977</td>\n",
       "    </tr>\n",
       "    <tr>\n",
       "      <th>1</th>\n",
       "      <td>0.734095</td>\n",
       "      <td>0.086781</td>\n",
       "      <td>0.008468</td>\n",
       "    </tr>\n",
       "    <tr>\n",
       "      <th>2</th>\n",
       "      <td>0.755592</td>\n",
       "      <td>0.095495</td>\n",
       "      <td>0.008962</td>\n",
       "    </tr>\n",
       "    <tr>\n",
       "      <th>3</th>\n",
       "      <td>0.744177</td>\n",
       "      <td>0.102545</td>\n",
       "      <td>0.011500</td>\n",
       "    </tr>\n",
       "    <tr>\n",
       "      <th>4</th>\n",
       "      <td>0.764922</td>\n",
       "      <td>0.102706</td>\n",
       "      <td>0.010803</td>\n",
       "    </tr>\n",
       "    <tr>\n",
       "      <th>5</th>\n",
       "      <td>0.778432</td>\n",
       "      <td>0.102081</td>\n",
       "      <td>0.011935</td>\n",
       "    </tr>\n",
       "    <tr>\n",
       "      <th>6</th>\n",
       "      <td>0.740351</td>\n",
       "      <td>0.099266</td>\n",
       "      <td>0.011741</td>\n",
       "    </tr>\n",
       "    <tr>\n",
       "      <th>7</th>\n",
       "      <td>0.757562</td>\n",
       "      <td>0.105752</td>\n",
       "      <td>0.013510</td>\n",
       "    </tr>\n",
       "    <tr>\n",
       "      <th>8</th>\n",
       "      <td>0.747117</td>\n",
       "      <td>0.096429</td>\n",
       "      <td>0.010099</td>\n",
       "    </tr>\n",
       "    <tr>\n",
       "      <th>9</th>\n",
       "      <td>0.786762</td>\n",
       "      <td>0.102374</td>\n",
       "      <td>0.011931</td>\n",
       "    </tr>\n",
       "  </tbody>\n",
       "</table>\n",
       "</div>"
      ],
      "text/plain": [
       "   Specific Bean Origin or Bar Name   Company  Manufacturer\n",
       "0                          0.786636  0.107108      0.013977\n",
       "1                          0.734095  0.086781      0.008468\n",
       "2                          0.755592  0.095495      0.008962\n",
       "3                          0.744177  0.102545      0.011500\n",
       "4                          0.764922  0.102706      0.010803\n",
       "5                          0.778432  0.102081      0.011935\n",
       "6                          0.740351  0.099266      0.011741\n",
       "7                          0.757562  0.105752      0.013510\n",
       "8                          0.747117  0.096429      0.010099\n",
       "9                          0.786762  0.102374      0.011931"
      ]
     },
     "execution_count": 116,
     "metadata": {},
     "output_type": "execute_result"
    }
   ],
   "source": [
    "importances = pd.DataFrame(pi.importances[perm_sorted_idx].T, columns=feature_names[perm_sorted_idx])\n",
    "importances.iloc[:, :3]"
   ]
  },
  {
   "cell_type": "code",
   "execution_count": 117,
   "metadata": {},
   "outputs": [
    {
     "data": {
      "image/png": "[encoded data removed]",
      "text/plain": [
       "<Figure size 1080x432 with 1 Axes>"
      ]
     },
     "metadata": {
      "needs_background": "light"
     },
     "output_type": "display_data"
    }
   ],
   "source": [
    "fig, ax = plt.subplots(figsize=(15, 6))\n",
    "importances.iloc[:, :10].boxplot()\n",
    "plt.xticks(rotation=90);"
   ]
  },
  {
   "cell_type": "code",
   "execution_count": 118,
   "metadata": {},
   "outputs": [
    {
     "data": {
      "text/plain": [
       "<matplotlib.axes._subplots.AxesSubplot at 0x1818d7e7748>"
      ]
     },
     "execution_count": 118,
     "metadata": {},
     "output_type": "execute_result"
    },
    {
     "data": {
      "image/png": "[encoded data removed]",
      "text/plain": [
       "<Figure size 432x288 with 1 Axes>"
      ]
     },
     "metadata": {
      "needs_background": "light"
     },
     "output_type": "display_data"
    }
   ],
   "source": [
    "sns.boxplot(x=\"variable\", y=\"value\", data=pd.melt(importances));"
   ]
  },
  {
   "cell_type": "code",
   "execution_count": 121,
   "metadata": {},
   "outputs": [
    {
     "data": {
      "text/html": [
       "<div>\n",
       "<style scoped>\n",
       "    .dataframe tbody tr th:only-of-type {\n",
       "        vertical-align: middle;\n",
       "    }\n",
       "\n",
       "    .dataframe tbody tr th {\n",
       "        vertical-align: top;\n",
       "    }\n",
       "\n",
       "    .dataframe thead th {\n",
       "        text-align: right;\n",
       "    }\n",
       "</style>\n",
       "<table border=\"1\" class=\"dataframe\">\n",
       "  <thead>\n",
       "    <tr style=\"text-align: right;\">\n",
       "      <th></th>\n",
       "      <th>feature</th>\n",
       "      <th>importances_mean</th>\n",
       "      <th>importances_std</th>\n",
       "    </tr>\n",
       "  </thead>\n",
       "  <tbody>\n",
       "    <tr>\n",
       "      <th>3</th>\n",
       "      <td>Specific Bean Origin or Bar Name</td>\n",
       "      <td>0.759565</td>\n",
       "      <td>0.018129</td>\n",
       "    </tr>\n",
       "    <tr>\n",
       "      <th>10</th>\n",
       "      <td>Company</td>\n",
       "      <td>0.100054</td>\n",
       "      <td>0.005618</td>\n",
       "    </tr>\n",
       "    <tr>\n",
       "      <th>9</th>\n",
       "      <td>Manufacturer</td>\n",
       "      <td>0.011293</td>\n",
       "      <td>0.001681</td>\n",
       "    </tr>\n",
       "    <tr>\n",
       "      <th>15</th>\n",
       "      <td>cocoa</td>\n",
       "      <td>0.006772</td>\n",
       "      <td>0.001356</td>\n",
       "    </tr>\n",
       "    <tr>\n",
       "      <th>18</th>\n",
       "      <td>sour</td>\n",
       "      <td>0.004528</td>\n",
       "      <td>0.000831</td>\n",
       "    </tr>\n",
       "    <tr>\n",
       "      <th>16</th>\n",
       "      <td>earthy</td>\n",
       "      <td>0.004169</td>\n",
       "      <td>0.001532</td>\n",
       "    </tr>\n",
       "    <tr>\n",
       "      <th>4</th>\n",
       "      <td>Cocoa Percent</td>\n",
       "      <td>0.004016</td>\n",
       "      <td>0.000917</td>\n",
       "    </tr>\n",
       "    <tr>\n",
       "      <th>14</th>\n",
       "      <td>spicy</td>\n",
       "      <td>0.003582</td>\n",
       "      <td>0.000605</td>\n",
       "    </tr>\n",
       "    <tr>\n",
       "      <th>26</th>\n",
       "      <td>rubbery</td>\n",
       "      <td>0.003579</td>\n",
       "      <td>0.000855</td>\n",
       "    </tr>\n",
       "    <tr>\n",
       "      <th>22</th>\n",
       "      <td>pungent</td>\n",
       "      <td>0.003494</td>\n",
       "      <td>0.000797</td>\n",
       "    </tr>\n",
       "    <tr>\n",
       "      <th>12</th>\n",
       "      <td>fruit</td>\n",
       "      <td>0.002764</td>\n",
       "      <td>0.000703</td>\n",
       "    </tr>\n",
       "    <tr>\n",
       "      <th>29</th>\n",
       "      <td>off</td>\n",
       "      <td>0.002458</td>\n",
       "      <td>0.000720</td>\n",
       "    </tr>\n",
       "    <tr>\n",
       "      <th>0</th>\n",
       "      <td>Company Location</td>\n",
       "      <td>0.001402</td>\n",
       "      <td>0.000454</td>\n",
       "    </tr>\n",
       "    <tr>\n",
       "      <th>7</th>\n",
       "      <td>Continent_origin</td>\n",
       "      <td>0.001354</td>\n",
       "      <td>0.000456</td>\n",
       "    </tr>\n",
       "    <tr>\n",
       "      <th>27</th>\n",
       "      <td>hammy</td>\n",
       "      <td>0.001261</td>\n",
       "      <td>0.000687</td>\n",
       "    </tr>\n",
       "  </tbody>\n",
       "</table>\n",
       "</div>"
      ],
      "text/plain": [
       "                             feature  importances_mean  importances_std\n",
       "3   Specific Bean Origin or Bar Name          0.759565         0.018129\n",
       "10                           Company          0.100054         0.005618\n",
       "9                       Manufacturer          0.011293         0.001681\n",
       "15                             cocoa          0.006772         0.001356\n",
       "18                              sour          0.004528         0.000831\n",
       "16                            earthy          0.004169         0.001532\n",
       "4                      Cocoa Percent          0.004016         0.000917\n",
       "14                             spicy          0.003582         0.000605\n",
       "26                           rubbery          0.003579         0.000855\n",
       "22                           pungent          0.003494         0.000797\n",
       "12                             fruit          0.002764         0.000703\n",
       "29                               off          0.002458         0.000720\n",
       "0                   Company Location          0.001402         0.000454\n",
       "7                   Continent_origin          0.001354         0.000456\n",
       "27                             hammy          0.001261         0.000687"
      ]
     },
     "execution_count": 121,
     "metadata": {},
     "output_type": "execute_result"
    }
   ],
   "source": [
    "importances = pd.DataFrame({'feature': feature_names, \n",
    "                            'importances_mean': pi.importances_mean, \n",
    "                            'importances_std': pi.importances_std})\n",
    "importances.sort_values('importances_mean', ascending=False)[:15]"
   ]
  },
  {
   "cell_type": "markdown",
   "metadata": {},
   "source": [
    "## SVM"
   ]
  },
  {
   "cell_type": "code",
   "execution_count": 124,
   "metadata": {},
   "outputs": [
    {
     "data": {
      "text/plain": [
       "Pipeline(steps=[('scaler',\n",
       "                 ColumnTransformer(remainder='passthrough',\n",
       "                                   transformers=[('num', StandardScaler(),\n",
       "                                                  ['Review Date',\n",
       "                                                   'Cocoa Percent'])])),\n",
       "                ('svr', SVR())])"
      ]
     },
     "execution_count": 124,
     "metadata": {},
     "output_type": "execute_result"
    }
   ],
   "source": [
    "svr_mod = Pipeline([('scaler', num_enc), ('svr', SVR())])\n",
    "svr_mod.fit(X_train_trans, y_train)"
   ]
  },
  {
   "cell_type": "code",
   "execution_count": 125,
   "metadata": {},
   "outputs": [
    {
     "name": "stdout",
     "output_type": "stream",
     "text": [
      "Fitting 5 folds for each of 240 candidates, totalling 1200 fits\n"
     ]
    },
    {
     "name": "stderr",
     "output_type": "stream",
     "text": [
      "[Parallel(n_jobs=-1)]: Using backend LokyBackend with 8 concurrent workers.\n",
      "[Parallel(n_jobs=-1)]: Done  16 tasks      | elapsed:    4.6s\n",
      "[Parallel(n_jobs=-1)]: Done 112 tasks      | elapsed:   10.5s\n",
      "[Parallel(n_jobs=-1)]: Done 336 tasks      | elapsed:   19.4s\n",
      "[Parallel(n_jobs=-1)]: Done 584 tasks      | elapsed:   28.7s\n",
      "[Parallel(n_jobs=-1)]: Done 1082 tasks      | elapsed:  1.3min\n",
      "[Parallel(n_jobs=-1)]: Done 1200 out of 1200 | elapsed:  1.3min finished\n"
     ]
    },
    {
     "data": {
      "text/plain": [
       "GridSearchCV(cv=5,\n",
       "             estimator=Pipeline(steps=[('scaler',\n",
       "                                        ColumnTransformer(remainder='passthrough',\n",
       "                                                          transformers=[('num',\n",
       "                                                                         StandardScaler(),\n",
       "                                                                         ['Review '\n",
       "                                                                          'Date',\n",
       "                                                                          'Cocoa '\n",
       "                                                                          'Percent'])])),\n",
       "                                       ('svr', SVR())]),\n",
       "             n_jobs=-1,\n",
       "             param_grid={'svr__C': [0.03, 0.1, 0.3, 1, 3, 10],\n",
       "                         'svr__epsilon': [0.03, 0.1, 0.3, 1, 3],\n",
       "                         'svr__gamma': ['auto', 'scale'],\n",
       "                         'svr__kernel': ['rbf', 'linear', 'sigmoid', 'poly']},\n",
       "             return_train_score=True, scoring='neg_root_mean_squared_error',\n",
       "             verbose=3)"
      ]
     },
     "execution_count": 125,
     "metadata": {},
     "output_type": "execute_result"
    }
   ],
   "source": [
    "params = {'svr__kernel': ['rbf', 'linear', 'sigmoid', 'poly'], \n",
    "          'svr__C': [0.03, 0.1, 0.3, 1, 3, 10], \n",
    "          'svr__epsilon': [0.03, 0.1, 0.3, 1, 3], \n",
    "          'svr__gamma': ['auto', 'scale']}\n",
    "\n",
    "gs = GridSearchCV(svr_mod, params, \n",
    "                  cv=5, \n",
    "                  scoring='neg_root_mean_squared_error', \n",
    "                  return_train_score=True,\n",
    "                  n_jobs=-1,\n",
    "                  verbose=3)\n",
    "gs.fit(X_train_trans, y_train)"
   ]
  },
  {
   "cell_type": "code",
   "execution_count": 126,
   "metadata": {},
   "outputs": [
    {
     "data": {
      "text/plain": [
       "{'svr__C': 3, 'svr__epsilon': 0.1, 'svr__gamma': 'scale', 'svr__kernel': 'rbf'}"
      ]
     },
     "execution_count": 126,
     "metadata": {},
     "output_type": "execute_result"
    }
   ],
   "source": [
    "# Show best parameters\n",
    "gs.best_params_"
   ]
  },
  {
   "cell_type": "code",
   "execution_count": 127,
   "metadata": {},
   "outputs": [
    {
     "data": {
      "text/html": [
       "<div>\n",
       "<style scoped>\n",
       "    .dataframe tbody tr th:only-of-type {\n",
       "        vertical-align: middle;\n",
       "    }\n",
       "\n",
       "    .dataframe tbody tr th {\n",
       "        vertical-align: top;\n",
       "    }\n",
       "\n",
       "    .dataframe thead th {\n",
       "        text-align: right;\n",
       "    }\n",
       "</style>\n",
       "<table border=\"1\" class=\"dataframe\">\n",
       "  <thead>\n",
       "    <tr style=\"text-align: right;\">\n",
       "      <th></th>\n",
       "      <th>mean_train_score</th>\n",
       "      <th>mean_test_score</th>\n",
       "    </tr>\n",
       "  </thead>\n",
       "  <tbody>\n",
       "    <tr>\n",
       "      <th>172</th>\n",
       "      <td>-0.212333</td>\n",
       "      <td>-0.222346</td>\n",
       "    </tr>\n",
       "  </tbody>\n",
       "</table>\n",
       "</div>"
      ],
      "text/plain": [
       "     mean_train_score  mean_test_score\n",
       "172         -0.212333        -0.222346"
      ]
     },
     "execution_count": 127,
     "metadata": {},
     "output_type": "execute_result"
    }
   ],
   "source": [
    "# Compare the train and test scores\n",
    "results = pd.DataFrame(gs.cv_results_)\n",
    "results.loc[results['mean_test_score'] == gs.best_score_, ['mean_train_score', 'mean_test_score']]"
   ]
  },
  {
   "cell_type": "code",
   "execution_count": 130,
   "metadata": {},
   "outputs": [],
   "source": [
    "svr_best_mod = gs.best_estimator_"
   ]
  },
  {
   "cell_type": "code",
   "execution_count": 131,
   "metadata": {},
   "outputs": [
    {
     "name": "stdout",
     "output_type": "stream",
     "text": [
      "RMSE: 0.4268027211252317\n",
      "MAE: 0.3350450271104548\n",
      "R^2: 0.1616657518151452\n"
     ]
    }
   ],
   "source": [
    "eval_mod(svr_best_mod)"
   ]
  },
  {
   "cell_type": "code",
   "execution_count": null,
   "metadata": {},
   "outputs": [],
   "source": []
  }
 ],
 "metadata": {
  "kernelspec": {
   "display_name": "Python 3",
   "language": "python",
   "name": "python3"
  },
  "language_info": {
   "codemirror_mode": {
    "name": "ipython",
    "version": 3
   },
   "file_extension": ".py",
   "mimetype": "text/x-python",
   "name": "python",
   "nbconvert_exporter": "python",
   "pygments_lexer": "ipython3",
   "version": "3.7.7"
  }
 },
 "nbformat": 4,
 "nbformat_minor": 4
}
