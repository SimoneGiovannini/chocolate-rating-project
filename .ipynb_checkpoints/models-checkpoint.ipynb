{
 "cells": [
  {
   "cell_type": "markdown",
   "metadata": {},
   "source": [
    "# Models"
   ]
  },
  {
   "cell_type": "code",
   "execution_count": 2,
   "metadata": {},
   "outputs": [],
   "source": [
    "import pandas as pd\n",
    "import numpy as np\n",
    "\n",
    "import seaborn as sns\n",
    "import matplotlib.pyplot as plt\n",
    "%matplotlib inline\n",
    "\n",
    "from sklearn.preprocessing import StandardScaler, FunctionTransformer\n",
    "from sklearn.compose import ColumnTransformer\n",
    "from category_encoders import MEstimateEncoder, TargetEncoder\n",
    "from sklearn.base import TransformerMixin, BaseEstimator\n",
    "\n",
    "from sklearn.model_selection import train_test_split, GridSearchCV\n",
    "\n",
    "from sklearn.pipeline import Pipeline\n",
    "\n",
    "from sklearn.linear_model import LinearRegression, RidgeCV, LassoCV, LassoLarsCV\n",
    "from sklearn.svm import SVR\n",
    "\n",
    "from sklearn.metrics import mean_squared_error, mean_absolute_error, r2_score\n",
    "\n",
    "from sklearn.inspection import permutation_importance"
   ]
  },
  {
   "cell_type": "code",
   "execution_count": 3,
   "metadata": {},
   "outputs": [],
   "source": [
    "df = pd.read_csv('./data_prepared.csv')"
   ]
  },
  {
   "cell_type": "code",
   "execution_count": 4,
   "metadata": {},
   "outputs": [],
   "source": [
    "# Split into train/test\n",
    "X = df.drop('Rating', axis=1)\n",
    "y = df['Rating']\n",
    "X_train, X_test, y_train, y_test = train_test_split(X, y, test_size=0.3, random_state=42)"
   ]
  },
  {
   "cell_type": "markdown",
   "metadata": {},
   "source": [
    "Encode categorical features and normalize numerical features."
   ]
  },
  {
   "cell_type": "code",
   "execution_count": 143,
   "metadata": {},
   "outputs": [],
   "source": [
    "class CatEncoder(TransformerMixin):\n",
    "    def __init__(self, enc_name='MEstimateEncoder', **kwargs):\n",
    "        exec('from category_encoders import %s' % enc_name)\n",
    "        exec('self.encoder = %s(**kwargs)' % enc_name)\n",
    "    \n",
    "    def fit(self, X, y=None):\n",
    "        return self.encoder.fit(X, y)\n",
    "    \n",
    "    def transform(self, X, y=None):\n",
    "        return self.encoder.transform(X, y)\n",
    "    \n",
    "    def set_params(self, **params):\n",
    "        print(params)\n",
    "        return self.encoder.set_params(**params)"
   ]
  },
  {
   "cell_type": "code",
   "execution_count": 93,
   "metadata": {},
   "outputs": [],
   "source": [
    "num_columns = ['Review Date', 'Cocoa Percent']\n",
    "cat_columns = df_trans.select_dtypes(exclude='number').columns.tolist()\n",
    "\n",
    "# Categorical encoding\n",
    "#cat_enc = CatEncoder()\n",
    "#cat_enc.fit(X_train, y_train)\n",
    "\n",
    "#X_train_trans = cat_enc.transform(X_train, y_train)\n",
    "#X_test_trans = cat_enc.transform(X_test, y_test)\n",
    "\n",
    "# Normalize numerical columns\n",
    "num_enc = ColumnTransformer(\n",
    "    transformers=[\n",
    "        ('num', StandardScaler(), num_columns)],\n",
    "    remainder='passthrough')\n",
    "#num_enc.fit(X_train_trans)"
   ]
  },
  {
   "cell_type": "code",
   "execution_count": 94,
   "metadata": {},
   "outputs": [],
   "source": [
    "# Utility function for evaluation\n",
    "def eval_mod(model):\n",
    "    y_pred = model.predict(X_test)\n",
    "    \n",
    "    print('RMSE:', np.sqrt(mean_squared_error(y_test, y_pred)))\n",
    "    print('MAE:', mean_absolute_error(y_test, y_pred))\n",
    "    print('R^2:', r2_score(y_test, y_pred))"
   ]
  },
  {
   "cell_type": "code",
   "execution_count": 95,
   "metadata": {},
   "outputs": [],
   "source": [
    "feature_names = X_train.columns"
   ]
  },
  {
   "cell_type": "markdown",
   "metadata": {},
   "source": [
    "### Best encoder"
   ]
  },
  {
   "cell_type": "code",
   "execution_count": 146,
   "metadata": {},
   "outputs": [
    {
     "name": "stdout",
     "output_type": "stream",
     "text": [
      "CatBoostEncoder\n",
      "RMSE: 0.40637283331957436\n",
      "MAE: 0.3156510591485613\n",
      "R^2: 0.24000246580002793\n",
      "\n",
      "GLMMEncoder\n",
      "RMSE: 0.4231641743315339\n",
      "MAE: 0.3268109197382549\n",
      "R^2: 0.1758986330353426\n",
      "\n",
      "JamesSteinEncoder\n",
      "RMSE: 0.4223788501434007\n",
      "MAE: 0.3310236259008715\n",
      "R^2: 0.17895459211352893\n",
      "\n",
      "LeaveOneOutEncoder\n",
      "RMSE: 0.4064349503017523\n",
      "MAE: 0.315464748723329\n",
      "R^2: 0.23977010596928516\n",
      "\n",
      "MEstimateEncoder\n",
      "RMSE: 0.43136410845331236\n",
      "MAE: 0.33501280118758436\n",
      "R^2: 0.143650865537006\n",
      "\n",
      "TargetEncoder\n",
      "RMSE: 0.40679681924552796\n",
      "MAE: 0.3162441830266144\n",
      "R^2: 0.23841576349615312\n",
      "\n"
     ]
    }
   ],
   "source": [
    "encoders = ['CatBoostEncoder', 'GLMMEncoder', 'JamesSteinEncoder', \n",
    "            'LeaveOneOutEncoder', 'MEstimateEncoder', 'TargetEncoder']\n",
    "\n",
    "for enc in encoders:\n",
    "    lr_mod = Pipeline([('cat_enc', CatEncoder(enc)), \n",
    "                   ('scaler', num_enc), \n",
    "                   ('lr', LinearRegression())])\n",
    "    lr_mod.fit(X_train, y_train)\n",
    "    print(enc)\n",
    "    eval_mod(lr_mod)\n",
    "    print()"
   ]
  },
  {
   "cell_type": "markdown",
   "metadata": {},
   "source": [
    "## Linear regression"
   ]
  },
  {
   "cell_type": "code",
   "execution_count": 142,
   "metadata": {},
   "outputs": [
    {
     "name": "stdout",
     "output_type": "stream",
     "text": [
      "JamesSteinEncoder\n",
      "fit\n"
     ]
    },
    {
     "data": {
      "text/plain": [
       "Pipeline(steps=[('cat_enc', <__main__.CatEncoder object at 0x0000022BAC544F88>),\n",
       "                ('scaler',\n",
       "                 ColumnTransformer(remainder='passthrough',\n",
       "                                   transformers=[('num', StandardScaler(),\n",
       "                                                  ['Review Date',\n",
       "                                                   'Cocoa Percent'])])),\n",
       "                ('lr', LinearRegression())])"
      ]
     },
     "execution_count": 142,
     "metadata": {},
     "output_type": "execute_result"
    }
   ],
   "source": [
    "lr_mod = Pipeline([('cat_enc',CatEncoder('JamesSteinEncoder')), \n",
    "                   ('scaler', num_enc), \n",
    "                   ('lr', LinearRegression())])\n",
    "lr_mod.fit(X_train, y_train)"
   ]
  },
  {
   "cell_type": "code",
   "execution_count": 141,
   "metadata": {},
   "outputs": [
    {
     "name": "stdout",
     "output_type": "stream",
     "text": [
      "transform\n",
      "RMSE: 0.4231641743315339\n",
      "MAE: 0.3268109197382549\n",
      "R^2: 0.1758986330353426\n"
     ]
    }
   ],
   "source": [
    "eval_mod(lr_mod)"
   ]
  },
  {
   "cell_type": "code",
   "execution_count": 89,
   "metadata": {
    "scrolled": true
   },
   "outputs": [
    {
     "data": {
      "text/html": [
       "<div>\n",
       "<style scoped>\n",
       "    .dataframe tbody tr th:only-of-type {\n",
       "        vertical-align: middle;\n",
       "    }\n",
       "\n",
       "    .dataframe tbody tr th {\n",
       "        vertical-align: top;\n",
       "    }\n",
       "\n",
       "    .dataframe thead th {\n",
       "        text-align: right;\n",
       "    }\n",
       "</style>\n",
       "<table border=\"1\" class=\"dataframe\">\n",
       "  <thead>\n",
       "    <tr style=\"text-align: right;\">\n",
       "      <th></th>\n",
       "      <th>feature</th>\n",
       "      <th>coef</th>\n",
       "    </tr>\n",
       "  </thead>\n",
       "  <tbody>\n",
       "    <tr>\n",
       "      <th>4</th>\n",
       "      <td>Cocoa Percent</td>\n",
       "      <td>0.573651</td>\n",
       "    </tr>\n",
       "    <tr>\n",
       "      <th>7</th>\n",
       "      <td>Continent_origin</td>\n",
       "      <td>0.458458</td>\n",
       "    </tr>\n",
       "    <tr>\n",
       "      <th>9</th>\n",
       "      <td>Manufacturer</td>\n",
       "      <td>0.424281</td>\n",
       "    </tr>\n",
       "    <tr>\n",
       "      <th>10</th>\n",
       "      <td>Company</td>\n",
       "      <td>0.422004</td>\n",
       "    </tr>\n",
       "    <tr>\n",
       "      <th>3</th>\n",
       "      <td>Specific Bean Origin or Bar Name</td>\n",
       "      <td>0.242495</td>\n",
       "    </tr>\n",
       "    <tr>\n",
       "      <th>26</th>\n",
       "      <td>rubbery</td>\n",
       "      <td>-0.205524</td>\n",
       "    </tr>\n",
       "    <tr>\n",
       "      <th>22</th>\n",
       "      <td>pungent</td>\n",
       "      <td>-0.205320</td>\n",
       "    </tr>\n",
       "    <tr>\n",
       "      <th>27</th>\n",
       "      <td>hammy</td>\n",
       "      <td>-0.183993</td>\n",
       "    </tr>\n",
       "    <tr>\n",
       "      <th>23</th>\n",
       "      <td>dirty</td>\n",
       "      <td>-0.181822</td>\n",
       "    </tr>\n",
       "    <tr>\n",
       "      <th>30</th>\n",
       "      <td>bitter</td>\n",
       "      <td>-0.172878</td>\n",
       "    </tr>\n",
       "    <tr>\n",
       "      <th>28</th>\n",
       "      <td>bland</td>\n",
       "      <td>-0.166149</td>\n",
       "    </tr>\n",
       "    <tr>\n",
       "      <th>6</th>\n",
       "      <td>Sub-region_company</td>\n",
       "      <td>0.157170</td>\n",
       "    </tr>\n",
       "    <tr>\n",
       "      <th>16</th>\n",
       "      <td>earthy</td>\n",
       "      <td>-0.150130</td>\n",
       "    </tr>\n",
       "    <tr>\n",
       "      <th>14</th>\n",
       "      <td>spicy</td>\n",
       "      <td>0.132443</td>\n",
       "    </tr>\n",
       "    <tr>\n",
       "      <th>29</th>\n",
       "      <td>off</td>\n",
       "      <td>-0.132006</td>\n",
       "    </tr>\n",
       "    <tr>\n",
       "      <th>18</th>\n",
       "      <td>sour</td>\n",
       "      <td>-0.123969</td>\n",
       "    </tr>\n",
       "    <tr>\n",
       "      <th>15</th>\n",
       "      <td>cocoa</td>\n",
       "      <td>0.113465</td>\n",
       "    </tr>\n",
       "    <tr>\n",
       "      <th>25</th>\n",
       "      <td>smokey</td>\n",
       "      <td>-0.107398</td>\n",
       "    </tr>\n",
       "    <tr>\n",
       "      <th>17</th>\n",
       "      <td>sweet</td>\n",
       "      <td>-0.107357</td>\n",
       "    </tr>\n",
       "    <tr>\n",
       "      <th>12</th>\n",
       "      <td>fruit</td>\n",
       "      <td>0.081647</td>\n",
       "    </tr>\n",
       "    <tr>\n",
       "      <th>34</th>\n",
       "      <td>S*</td>\n",
       "      <td>-0.075847</td>\n",
       "    </tr>\n",
       "    <tr>\n",
       "      <th>31</th>\n",
       "      <td>astringent</td>\n",
       "      <td>-0.074201</td>\n",
       "    </tr>\n",
       "    <tr>\n",
       "      <th>11</th>\n",
       "      <td>nutty</td>\n",
       "      <td>0.062069</td>\n",
       "    </tr>\n",
       "    <tr>\n",
       "      <th>8</th>\n",
       "      <td>Sub-region_origin</td>\n",
       "      <td>-0.046868</td>\n",
       "    </tr>\n",
       "    <tr>\n",
       "      <th>21</th>\n",
       "      <td>grass</td>\n",
       "      <td>0.042468</td>\n",
       "    </tr>\n",
       "    <tr>\n",
       "      <th>13</th>\n",
       "      <td>floral</td>\n",
       "      <td>0.041226</td>\n",
       "    </tr>\n",
       "    <tr>\n",
       "      <th>1</th>\n",
       "      <td>Review Date</td>\n",
       "      <td>-0.033433</td>\n",
       "    </tr>\n",
       "    <tr>\n",
       "      <th>24</th>\n",
       "      <td>musty</td>\n",
       "      <td>-0.033125</td>\n",
       "    </tr>\n",
       "    <tr>\n",
       "      <th>35</th>\n",
       "      <td>Sa</td>\n",
       "      <td>-0.029903</td>\n",
       "    </tr>\n",
       "    <tr>\n",
       "      <th>36</th>\n",
       "      <td>V</td>\n",
       "      <td>-0.026696</td>\n",
       "    </tr>\n",
       "    <tr>\n",
       "      <th>20</th>\n",
       "      <td>dairy</td>\n",
       "      <td>-0.025911</td>\n",
       "    </tr>\n",
       "    <tr>\n",
       "      <th>19</th>\n",
       "      <td>roasty</td>\n",
       "      <td>-0.022815</td>\n",
       "    </tr>\n",
       "    <tr>\n",
       "      <th>2</th>\n",
       "      <td>Country of Bean Origin</td>\n",
       "      <td>0.018935</td>\n",
       "    </tr>\n",
       "    <tr>\n",
       "      <th>0</th>\n",
       "      <td>Company Location</td>\n",
       "      <td>0.015901</td>\n",
       "    </tr>\n",
       "    <tr>\n",
       "      <th>33</th>\n",
       "      <td>L</td>\n",
       "      <td>-0.009336</td>\n",
       "    </tr>\n",
       "    <tr>\n",
       "      <th>5</th>\n",
       "      <td>Continent_company</td>\n",
       "      <td>-0.004858</td>\n",
       "    </tr>\n",
       "    <tr>\n",
       "      <th>32</th>\n",
       "      <td>C</td>\n",
       "      <td>-0.002672</td>\n",
       "    </tr>\n",
       "  </tbody>\n",
       "</table>\n",
       "</div>"
      ],
      "text/plain": [
       "                             feature      coef\n",
       "4                      Cocoa Percent  0.573651\n",
       "7                   Continent_origin  0.458458\n",
       "9                       Manufacturer  0.424281\n",
       "10                           Company  0.422004\n",
       "3   Specific Bean Origin or Bar Name  0.242495\n",
       "26                           rubbery -0.205524\n",
       "22                           pungent -0.205320\n",
       "27                             hammy -0.183993\n",
       "23                             dirty -0.181822\n",
       "30                            bitter -0.172878\n",
       "28                             bland -0.166149\n",
       "6                 Sub-region_company  0.157170\n",
       "16                            earthy -0.150130\n",
       "14                             spicy  0.132443\n",
       "29                               off -0.132006\n",
       "18                              sour -0.123969\n",
       "15                             cocoa  0.113465\n",
       "25                            smokey -0.107398\n",
       "17                             sweet -0.107357\n",
       "12                             fruit  0.081647\n",
       "34                                S* -0.075847\n",
       "31                        astringent -0.074201\n",
       "11                             nutty  0.062069\n",
       "8                  Sub-region_origin -0.046868\n",
       "21                             grass  0.042468\n",
       "13                            floral  0.041226\n",
       "1                        Review Date -0.033433\n",
       "24                             musty -0.033125\n",
       "35                                Sa -0.029903\n",
       "36                                 V -0.026696\n",
       "20                             dairy -0.025911\n",
       "19                            roasty -0.022815\n",
       "2             Country of Bean Origin  0.018935\n",
       "0                   Company Location  0.015901\n",
       "33                                 L -0.009336\n",
       "5                  Continent_company -0.004858\n",
       "32                                 C -0.002672"
      ]
     },
     "execution_count": 89,
     "metadata": {},
     "output_type": "execute_result"
    }
   ],
   "source": [
    "coefs = pd.DataFrame({'feature': feature_names, 'coef': lr_mod['lr'].coef_})\n",
    "coefs['abs_coef'] = np.abs(coefs['coef'])\n",
    "coefs.sort_values('abs_coef', ascending=False).drop('abs_coef', axis=1)"
   ]
  },
  {
   "cell_type": "markdown",
   "metadata": {},
   "source": [
    "### Lasso regression"
   ]
  },
  {
   "cell_type": "code",
   "execution_count": 22,
   "metadata": {},
   "outputs": [
    {
     "data": {
      "text/plain": [
       "Pipeline(steps=[('scaler',\n",
       "                 ColumnTransformer(remainder='passthrough',\n",
       "                                   transformers=[('num', StandardScaler(),\n",
       "                                                  ['Review Date',\n",
       "                                                   'Cocoa Percent'])])),\n",
       "                ('lasso', LassoCV(max_iter=2000))])"
      ]
     },
     "execution_count": 22,
     "metadata": {},
     "output_type": "execute_result"
    }
   ],
   "source": [
    "lasso_mod = Pipeline([('scaler', num_enc), ('lasso', LassoCV(max_iter=2000))])\n",
    "lasso_mod.fit(X_train_trans, y_train)"
   ]
  },
  {
   "cell_type": "code",
   "execution_count": 23,
   "metadata": {},
   "outputs": [
    {
     "data": {
      "text/plain": [
       "0.0005319396893764457"
      ]
     },
     "execution_count": 23,
     "metadata": {},
     "output_type": "execute_result"
    }
   ],
   "source": [
    "lasso_mod['lasso'].alpha_"
   ]
  },
  {
   "cell_type": "code",
   "execution_count": 24,
   "metadata": {},
   "outputs": [
    {
     "name": "stdout",
     "output_type": "stream",
     "text": [
      "RMSE: 0.4088372644710224\n",
      "MAE: 0.31682342677712355\n",
      "R^2: 0.23075656797841793\n"
     ]
    }
   ],
   "source": [
    "eval_mod(lasso_mod)"
   ]
  },
  {
   "cell_type": "code",
   "execution_count": 25,
   "metadata": {
    "scrolled": true
   },
   "outputs": [
    {
     "data": {
      "text/html": [
       "<div>\n",
       "<style scoped>\n",
       "    .dataframe tbody tr th:only-of-type {\n",
       "        vertical-align: middle;\n",
       "    }\n",
       "\n",
       "    .dataframe tbody tr th {\n",
       "        vertical-align: top;\n",
       "    }\n",
       "\n",
       "    .dataframe thead th {\n",
       "        text-align: right;\n",
       "    }\n",
       "</style>\n",
       "<table border=\"1\" class=\"dataframe\">\n",
       "  <thead>\n",
       "    <tr style=\"text-align: right;\">\n",
       "      <th></th>\n",
       "      <th>feature</th>\n",
       "      <th>coef</th>\n",
       "    </tr>\n",
       "  </thead>\n",
       "  <tbody>\n",
       "    <tr>\n",
       "      <th>4</th>\n",
       "      <td>Cocoa Percent</td>\n",
       "      <td>0.558956</td>\n",
       "    </tr>\n",
       "    <tr>\n",
       "      <th>10</th>\n",
       "      <td>Company</td>\n",
       "      <td>0.443400</td>\n",
       "    </tr>\n",
       "    <tr>\n",
       "      <th>9</th>\n",
       "      <td>Manufacturer</td>\n",
       "      <td>0.419689</td>\n",
       "    </tr>\n",
       "    <tr>\n",
       "      <th>3</th>\n",
       "      <td>Specific Bean Origin or Bar Name</td>\n",
       "      <td>0.245599</td>\n",
       "    </tr>\n",
       "    <tr>\n",
       "      <th>30</th>\n",
       "      <td>bitter</td>\n",
       "      <td>-0.165455</td>\n",
       "    </tr>\n",
       "    <tr>\n",
       "      <th>22</th>\n",
       "      <td>pungent</td>\n",
       "      <td>-0.163385</td>\n",
       "    </tr>\n",
       "    <tr>\n",
       "      <th>27</th>\n",
       "      <td>hammy</td>\n",
       "      <td>-0.148680</td>\n",
       "    </tr>\n",
       "    <tr>\n",
       "      <th>26</th>\n",
       "      <td>rubbery</td>\n",
       "      <td>-0.147334</td>\n",
       "    </tr>\n",
       "    <tr>\n",
       "      <th>23</th>\n",
       "      <td>dirty</td>\n",
       "      <td>-0.142225</td>\n",
       "    </tr>\n",
       "    <tr>\n",
       "      <th>16</th>\n",
       "      <td>earthy</td>\n",
       "      <td>-0.140192</td>\n",
       "    </tr>\n",
       "    <tr>\n",
       "      <th>14</th>\n",
       "      <td>spicy</td>\n",
       "      <td>0.125972</td>\n",
       "    </tr>\n",
       "    <tr>\n",
       "      <th>29</th>\n",
       "      <td>off</td>\n",
       "      <td>-0.123518</td>\n",
       "    </tr>\n",
       "    <tr>\n",
       "      <th>18</th>\n",
       "      <td>sour</td>\n",
       "      <td>-0.119241</td>\n",
       "    </tr>\n",
       "    <tr>\n",
       "      <th>15</th>\n",
       "      <td>cocoa</td>\n",
       "      <td>0.111649</td>\n",
       "    </tr>\n",
       "    <tr>\n",
       "      <th>28</th>\n",
       "      <td>bland</td>\n",
       "      <td>-0.108734</td>\n",
       "    </tr>\n",
       "    <tr>\n",
       "      <th>17</th>\n",
       "      <td>sweet</td>\n",
       "      <td>-0.101216</td>\n",
       "    </tr>\n",
       "    <tr>\n",
       "      <th>12</th>\n",
       "      <td>fruit</td>\n",
       "      <td>0.081173</td>\n",
       "    </tr>\n",
       "    <tr>\n",
       "      <th>25</th>\n",
       "      <td>smokey</td>\n",
       "      <td>-0.079933</td>\n",
       "    </tr>\n",
       "    <tr>\n",
       "      <th>34</th>\n",
       "      <td>S*</td>\n",
       "      <td>-0.065072</td>\n",
       "    </tr>\n",
       "    <tr>\n",
       "      <th>11</th>\n",
       "      <td>nutty</td>\n",
       "      <td>0.059598</td>\n",
       "    </tr>\n",
       "    <tr>\n",
       "      <th>13</th>\n",
       "      <td>floral</td>\n",
       "      <td>0.035889</td>\n",
       "    </tr>\n",
       "    <tr>\n",
       "      <th>1</th>\n",
       "      <td>Review Date</td>\n",
       "      <td>-0.033052</td>\n",
       "    </tr>\n",
       "    <tr>\n",
       "      <th>31</th>\n",
       "      <td>astringent</td>\n",
       "      <td>-0.031235</td>\n",
       "    </tr>\n",
       "    <tr>\n",
       "      <th>36</th>\n",
       "      <td>V</td>\n",
       "      <td>-0.026871</td>\n",
       "    </tr>\n",
       "    <tr>\n",
       "      <th>6</th>\n",
       "      <td>Sub-region_company</td>\n",
       "      <td>0.016211</td>\n",
       "    </tr>\n",
       "    <tr>\n",
       "      <th>21</th>\n",
       "      <td>grass</td>\n",
       "      <td>0.015494</td>\n",
       "    </tr>\n",
       "    <tr>\n",
       "      <th>0</th>\n",
       "      <td>Company Location</td>\n",
       "      <td>0.015110</td>\n",
       "    </tr>\n",
       "    <tr>\n",
       "      <th>2</th>\n",
       "      <td>Country of Bean Origin</td>\n",
       "      <td>0.013795</td>\n",
       "    </tr>\n",
       "    <tr>\n",
       "      <th>19</th>\n",
       "      <td>roasty</td>\n",
       "      <td>-0.012289</td>\n",
       "    </tr>\n",
       "    <tr>\n",
       "      <th>33</th>\n",
       "      <td>L</td>\n",
       "      <td>-0.009807</td>\n",
       "    </tr>\n",
       "    <tr>\n",
       "      <th>32</th>\n",
       "      <td>C</td>\n",
       "      <td>-0.002787</td>\n",
       "    </tr>\n",
       "    <tr>\n",
       "      <th>24</th>\n",
       "      <td>musty</td>\n",
       "      <td>-0.000000</td>\n",
       "    </tr>\n",
       "    <tr>\n",
       "      <th>20</th>\n",
       "      <td>dairy</td>\n",
       "      <td>-0.000000</td>\n",
       "    </tr>\n",
       "    <tr>\n",
       "      <th>8</th>\n",
       "      <td>Sub-region_origin</td>\n",
       "      <td>0.000000</td>\n",
       "    </tr>\n",
       "    <tr>\n",
       "      <th>7</th>\n",
       "      <td>Continent_origin</td>\n",
       "      <td>0.000000</td>\n",
       "    </tr>\n",
       "    <tr>\n",
       "      <th>5</th>\n",
       "      <td>Continent_company</td>\n",
       "      <td>0.000000</td>\n",
       "    </tr>\n",
       "    <tr>\n",
       "      <th>35</th>\n",
       "      <td>Sa</td>\n",
       "      <td>-0.000000</td>\n",
       "    </tr>\n",
       "  </tbody>\n",
       "</table>\n",
       "</div>"
      ],
      "text/plain": [
       "                             feature      coef\n",
       "4                      Cocoa Percent  0.558956\n",
       "10                           Company  0.443400\n",
       "9                       Manufacturer  0.419689\n",
       "3   Specific Bean Origin or Bar Name  0.245599\n",
       "30                            bitter -0.165455\n",
       "22                           pungent -0.163385\n",
       "27                             hammy -0.148680\n",
       "26                           rubbery -0.147334\n",
       "23                             dirty -0.142225\n",
       "16                            earthy -0.140192\n",
       "14                             spicy  0.125972\n",
       "29                               off -0.123518\n",
       "18                              sour -0.119241\n",
       "15                             cocoa  0.111649\n",
       "28                             bland -0.108734\n",
       "17                             sweet -0.101216\n",
       "12                             fruit  0.081173\n",
       "25                            smokey -0.079933\n",
       "34                                S* -0.065072\n",
       "11                             nutty  0.059598\n",
       "13                            floral  0.035889\n",
       "1                        Review Date -0.033052\n",
       "31                        astringent -0.031235\n",
       "36                                 V -0.026871\n",
       "6                 Sub-region_company  0.016211\n",
       "21                             grass  0.015494\n",
       "0                   Company Location  0.015110\n",
       "2             Country of Bean Origin  0.013795\n",
       "19                            roasty -0.012289\n",
       "33                                 L -0.009807\n",
       "32                                 C -0.002787\n",
       "24                             musty -0.000000\n",
       "20                             dairy -0.000000\n",
       "8                  Sub-region_origin  0.000000\n",
       "7                   Continent_origin  0.000000\n",
       "5                  Continent_company  0.000000\n",
       "35                                Sa -0.000000"
      ]
     },
     "execution_count": 25,
     "metadata": {},
     "output_type": "execute_result"
    }
   ],
   "source": [
    "coefs = pd.DataFrame({'feature': feature_names, 'coef': lasso_mod['lasso'].coef_})\n",
    "coefs['abs_coef'] = np.abs(coefs['coef'])\n",
    "coefs.sort_values('abs_coef', ascending=False).drop('abs_coef', axis=1)"
   ]
  },
  {
   "cell_type": "code",
   "execution_count": 108,
   "metadata": {},
   "outputs": [
    {
     "data": {
      "text/plain": [
       "12"
      ]
     },
     "execution_count": 108,
     "metadata": {},
     "output_type": "execute_result"
    }
   ],
   "source": [
    "(lasso_mod['lasso'].coef_==0).sum()"
   ]
  },
  {
   "cell_type": "code",
   "execution_count": 49,
   "metadata": {
    "scrolled": true
   },
   "outputs": [
    {
     "data": {
      "text/plain": [
       "LassoLarsCV()"
      ]
     },
     "execution_count": 49,
     "metadata": {},
     "output_type": "execute_result"
    }
   ],
   "source": [
    "lassolars_mod = LassoLarsCV()\n",
    "lassolars_mod.fit(X_train_trans, y_train)"
   ]
  },
  {
   "cell_type": "code",
   "execution_count": 50,
   "metadata": {},
   "outputs": [
    {
     "data": {
      "text/plain": [
       "10"
      ]
     },
     "execution_count": 50,
     "metadata": {},
     "output_type": "execute_result"
    }
   ],
   "source": [
    "(lassolars_mod.coef_==0).sum()"
   ]
  },
  {
   "cell_type": "code",
   "execution_count": 51,
   "metadata": {},
   "outputs": [
    {
     "name": "stdout",
     "output_type": "stream",
     "text": [
      "RMSE: 0.4336479043225181\n",
      "MAE: 0.3366164317894974\n",
      "R^2: 0.13455922469092685\n"
     ]
    }
   ],
   "source": [
    "eval_mod(lassolars_mod)"
   ]
  },
  {
   "cell_type": "markdown",
   "metadata": {},
   "source": [
    "### Ridge regression"
   ]
  },
  {
   "cell_type": "code",
   "execution_count": 26,
   "metadata": {},
   "outputs": [
    {
     "data": {
      "text/plain": [
       "Pipeline(steps=[('scaler',\n",
       "                 ColumnTransformer(remainder='passthrough',\n",
       "                                   transformers=[('num', StandardScaler(),\n",
       "                                                  ['Review Date',\n",
       "                                                   'Cocoa Percent'])])),\n",
       "                ('ridge',\n",
       "                 RidgeCV(alphas=array([1.e-02, 1.e-01, 1.e+00, 1.e+01, 1.e+02])))])"
      ]
     },
     "execution_count": 26,
     "metadata": {},
     "output_type": "execute_result"
    }
   ],
   "source": [
    "ridge_mod = Pipeline([('scaler', num_enc), ('ridge', RidgeCV(alphas=np.logspace(-2, 2, num=5)))])\n",
    "ridge_mod.fit(X_train_trans, y_train)"
   ]
  },
  {
   "cell_type": "code",
   "execution_count": 27,
   "metadata": {},
   "outputs": [
    {
     "data": {
      "text/plain": [
       "10.0"
      ]
     },
     "execution_count": 27,
     "metadata": {},
     "output_type": "execute_result"
    }
   ],
   "source": [
    "ridge_mod['ridge'].alpha_"
   ]
  },
  {
   "cell_type": "code",
   "execution_count": 28,
   "metadata": {},
   "outputs": [
    {
     "name": "stdout",
     "output_type": "stream",
     "text": [
      "RMSE: 0.40639781938168873\n",
      "MAE: 0.31573780110341937\n",
      "R^2: 0.239909005175574\n"
     ]
    }
   ],
   "source": [
    "eval_mod(ridge_mod)"
   ]
  },
  {
   "cell_type": "markdown",
   "metadata": {},
   "source": [
    "### Feature importance"
   ]
  },
  {
   "cell_type": "code",
   "execution_count": 29,
   "metadata": {},
   "outputs": [],
   "source": [
    "pi = permutation_importance(lr_mod, X_train_trans, y_train, \n",
    "                            n_repeats=10, random_state=42)"
   ]
  },
  {
   "cell_type": "code",
   "execution_count": 30,
   "metadata": {},
   "outputs": [],
   "source": [
    "perm_sorted_idx = (-pi.importances_mean).argsort()"
   ]
  },
  {
   "cell_type": "code",
   "execution_count": 31,
   "metadata": {},
   "outputs": [
    {
     "data": {
      "text/html": [
       "<div>\n",
       "<style scoped>\n",
       "    .dataframe tbody tr th:only-of-type {\n",
       "        vertical-align: middle;\n",
       "    }\n",
       "\n",
       "    .dataframe tbody tr th {\n",
       "        vertical-align: top;\n",
       "    }\n",
       "\n",
       "    .dataframe thead th {\n",
       "        text-align: right;\n",
       "    }\n",
       "</style>\n",
       "<table border=\"1\" class=\"dataframe\">\n",
       "  <thead>\n",
       "    <tr style=\"text-align: right;\">\n",
       "      <th></th>\n",
       "      <th>Manufacturer</th>\n",
       "      <th>Company</th>\n",
       "      <th>Specific Bean Origin or Bar Name</th>\n",
       "    </tr>\n",
       "  </thead>\n",
       "  <tbody>\n",
       "    <tr>\n",
       "      <th>0</th>\n",
       "      <td>0.124448</td>\n",
       "      <td>0.119509</td>\n",
       "      <td>0.078788</td>\n",
       "    </tr>\n",
       "    <tr>\n",
       "      <th>1</th>\n",
       "      <td>0.081583</td>\n",
       "      <td>0.080171</td>\n",
       "      <td>0.072012</td>\n",
       "    </tr>\n",
       "    <tr>\n",
       "      <th>2</th>\n",
       "      <td>0.106641</td>\n",
       "      <td>0.107218</td>\n",
       "      <td>0.064598</td>\n",
       "    </tr>\n",
       "    <tr>\n",
       "      <th>3</th>\n",
       "      <td>0.114360</td>\n",
       "      <td>0.113734</td>\n",
       "      <td>0.061881</td>\n",
       "    </tr>\n",
       "    <tr>\n",
       "      <th>4</th>\n",
       "      <td>0.096812</td>\n",
       "      <td>0.095453</td>\n",
       "      <td>0.068250</td>\n",
       "    </tr>\n",
       "    <tr>\n",
       "      <th>5</th>\n",
       "      <td>0.102609</td>\n",
       "      <td>0.100931</td>\n",
       "      <td>0.070333</td>\n",
       "    </tr>\n",
       "    <tr>\n",
       "      <th>6</th>\n",
       "      <td>0.103294</td>\n",
       "      <td>0.103253</td>\n",
       "      <td>0.076227</td>\n",
       "    </tr>\n",
       "    <tr>\n",
       "      <th>7</th>\n",
       "      <td>0.106950</td>\n",
       "      <td>0.104294</td>\n",
       "      <td>0.070824</td>\n",
       "    </tr>\n",
       "    <tr>\n",
       "      <th>8</th>\n",
       "      <td>0.109204</td>\n",
       "      <td>0.104727</td>\n",
       "      <td>0.061260</td>\n",
       "    </tr>\n",
       "    <tr>\n",
       "      <th>9</th>\n",
       "      <td>0.104273</td>\n",
       "      <td>0.105048</td>\n",
       "      <td>0.077759</td>\n",
       "    </tr>\n",
       "  </tbody>\n",
       "</table>\n",
       "</div>"
      ],
      "text/plain": [
       "   Manufacturer   Company  Specific Bean Origin or Bar Name\n",
       "0      0.124448  0.119509                          0.078788\n",
       "1      0.081583  0.080171                          0.072012\n",
       "2      0.106641  0.107218                          0.064598\n",
       "3      0.114360  0.113734                          0.061881\n",
       "4      0.096812  0.095453                          0.068250\n",
       "5      0.102609  0.100931                          0.070333\n",
       "6      0.103294  0.103253                          0.076227\n",
       "7      0.106950  0.104294                          0.070824\n",
       "8      0.109204  0.104727                          0.061260\n",
       "9      0.104273  0.105048                          0.077759"
      ]
     },
     "execution_count": 31,
     "metadata": {},
     "output_type": "execute_result"
    }
   ],
   "source": [
    "importances = pd.DataFrame(pi.importances[perm_sorted_idx].T, columns=feature_names[perm_sorted_idx])\n",
    "importances.iloc[:, :3]"
   ]
  },
  {
   "cell_type": "code",
   "execution_count": 32,
   "metadata": {},
   "outputs": [
    {
     "data": {
      "image/png": "[encoded data removed]",
      "text/plain": [
       "<Figure size 1080x432 with 1 Axes>"
      ]
     },
     "metadata": {
      "needs_background": "light"
     },
     "output_type": "display_data"
    }
   ],
   "source": [
    "fig, ax = plt.subplots(figsize=(15, 6))\n",
    "importances.iloc[:, :10].boxplot()\n",
    "plt.xticks(rotation=90);"
   ]
  },
  {
   "cell_type": "code",
   "execution_count": 33,
   "metadata": {},
   "outputs": [
    {
     "data": {
      "image/png": "[encoded data removed]",
      "text/plain": [
       "<Figure size 432x288 with 1 Axes>"
      ]
     },
     "metadata": {
      "needs_background": "light"
     },
     "output_type": "display_data"
    }
   ],
   "source": [
    "sns.boxplot(x=\"variable\", y=\"value\", data=pd.melt(importances));"
   ]
  },
  {
   "cell_type": "code",
   "execution_count": 34,
   "metadata": {},
   "outputs": [
    {
     "data": {
      "text/html": [
       "<div>\n",
       "<style scoped>\n",
       "    .dataframe tbody tr th:only-of-type {\n",
       "        vertical-align: middle;\n",
       "    }\n",
       "\n",
       "    .dataframe tbody tr th {\n",
       "        vertical-align: top;\n",
       "    }\n",
       "\n",
       "    .dataframe thead th {\n",
       "        text-align: right;\n",
       "    }\n",
       "</style>\n",
       "<table border=\"1\" class=\"dataframe\">\n",
       "  <thead>\n",
       "    <tr style=\"text-align: right;\">\n",
       "      <th></th>\n",
       "      <th>feature</th>\n",
       "      <th>importances_mean</th>\n",
       "      <th>importances_std</th>\n",
       "    </tr>\n",
       "  </thead>\n",
       "  <tbody>\n",
       "    <tr>\n",
       "      <th>9</th>\n",
       "      <td>Manufacturer</td>\n",
       "      <td>0.105017</td>\n",
       "      <td>0.010557</td>\n",
       "    </tr>\n",
       "    <tr>\n",
       "      <th>10</th>\n",
       "      <td>Company</td>\n",
       "      <td>0.103434</td>\n",
       "      <td>0.009975</td>\n",
       "    </tr>\n",
       "    <tr>\n",
       "      <th>3</th>\n",
       "      <td>Specific Bean Origin or Bar Name</td>\n",
       "      <td>0.070193</td>\n",
       "      <td>0.005960</td>\n",
       "    </tr>\n",
       "    <tr>\n",
       "      <th>16</th>\n",
       "      <td>earthy</td>\n",
       "      <td>0.017013</td>\n",
       "      <td>0.004703</td>\n",
       "    </tr>\n",
       "    <tr>\n",
       "      <th>15</th>\n",
       "      <td>cocoa</td>\n",
       "      <td>0.016849</td>\n",
       "      <td>0.003529</td>\n",
       "    </tr>\n",
       "    <tr>\n",
       "      <th>30</th>\n",
       "      <td>bitter</td>\n",
       "      <td>0.015257</td>\n",
       "      <td>0.002202</td>\n",
       "    </tr>\n",
       "    <tr>\n",
       "      <th>29</th>\n",
       "      <td>off</td>\n",
       "      <td>0.014030</td>\n",
       "      <td>0.002426</td>\n",
       "    </tr>\n",
       "    <tr>\n",
       "      <th>4</th>\n",
       "      <td>Cocoa Percent</td>\n",
       "      <td>0.012817</td>\n",
       "      <td>0.001848</td>\n",
       "    </tr>\n",
       "    <tr>\n",
       "      <th>17</th>\n",
       "      <td>sweet</td>\n",
       "      <td>0.011402</td>\n",
       "      <td>0.002138</td>\n",
       "    </tr>\n",
       "    <tr>\n",
       "      <th>18</th>\n",
       "      <td>sour</td>\n",
       "      <td>0.011380</td>\n",
       "      <td>0.002391</td>\n",
       "    </tr>\n",
       "    <tr>\n",
       "      <th>14</th>\n",
       "      <td>spicy</td>\n",
       "      <td>0.011021</td>\n",
       "      <td>0.002627</td>\n",
       "    </tr>\n",
       "    <tr>\n",
       "      <th>12</th>\n",
       "      <td>fruit</td>\n",
       "      <td>0.007512</td>\n",
       "      <td>0.002044</td>\n",
       "    </tr>\n",
       "    <tr>\n",
       "      <th>22</th>\n",
       "      <td>pungent</td>\n",
       "      <td>0.007157</td>\n",
       "      <td>0.002537</td>\n",
       "    </tr>\n",
       "    <tr>\n",
       "      <th>26</th>\n",
       "      <td>rubbery</td>\n",
       "      <td>0.005337</td>\n",
       "      <td>0.001151</td>\n",
       "    </tr>\n",
       "    <tr>\n",
       "      <th>2</th>\n",
       "      <td>Country of Bean Origin</td>\n",
       "      <td>0.004593</td>\n",
       "      <td>0.002205</td>\n",
       "    </tr>\n",
       "  </tbody>\n",
       "</table>\n",
       "</div>"
      ],
      "text/plain": [
       "                             feature  importances_mean  importances_std\n",
       "9                       Manufacturer          0.105017         0.010557\n",
       "10                           Company          0.103434         0.009975\n",
       "3   Specific Bean Origin or Bar Name          0.070193         0.005960\n",
       "16                            earthy          0.017013         0.004703\n",
       "15                             cocoa          0.016849         0.003529\n",
       "30                            bitter          0.015257         0.002202\n",
       "29                               off          0.014030         0.002426\n",
       "4                      Cocoa Percent          0.012817         0.001848\n",
       "17                             sweet          0.011402         0.002138\n",
       "18                              sour          0.011380         0.002391\n",
       "14                             spicy          0.011021         0.002627\n",
       "12                             fruit          0.007512         0.002044\n",
       "22                           pungent          0.007157         0.002537\n",
       "26                           rubbery          0.005337         0.001151\n",
       "2             Country of Bean Origin          0.004593         0.002205"
      ]
     },
     "execution_count": 34,
     "metadata": {},
     "output_type": "execute_result"
    }
   ],
   "source": [
    "importances = pd.DataFrame({'feature': feature_names, \n",
    "                            'importances_mean': pi.importances_mean, \n",
    "                            'importances_std': pi.importances_std})\n",
    "importances.sort_values('importances_mean', ascending=False)[:15]"
   ]
  },
  {
   "cell_type": "markdown",
   "metadata": {},
   "source": [
    "## SVM"
   ]
  },
  {
   "cell_type": "code",
   "execution_count": 167,
   "metadata": {},
   "outputs": [
    {
     "data": {
      "text/plain": [
       "Pipeline(steps=[('cat_enc', <__main__.CatEncoder object at 0x0000022BAC632FC8>),\n",
       "                ('scaler',\n",
       "                 ColumnTransformer(remainder='passthrough',\n",
       "                                   transformers=[('num', StandardScaler(),\n",
       "                                                  ['Review Date',\n",
       "                                                   'Cocoa Percent'])])),\n",
       "                ('svr', SVR())])"
      ]
     },
     "execution_count": 167,
     "metadata": {},
     "output_type": "execute_result"
    }
   ],
   "source": [
    "svr_mod = Pipeline([('cat_enc', CatEncoder('GLMMEncoder')), \n",
    "                   ('scaler', num_enc), \n",
    "                   ('svr', SVR())])\n",
    "svr_mod.fit(X_train, y_train)"
   ]
  },
  {
   "cell_type": "code",
   "execution_count": 168,
   "metadata": {},
   "outputs": [
    {
     "name": "stdout",
     "output_type": "stream",
     "text": [
      "Fitting 5 folds for each of 60 candidates, totalling 300 fits\n"
     ]
    },
    {
     "name": "stderr",
     "output_type": "stream",
     "text": [
      "[Parallel(n_jobs=-1)]: Using backend LokyBackend with 8 concurrent workers.\n",
      "[Parallel(n_jobs=-1)]: Done  16 tasks      | elapsed:   41.0s\n",
      "[Parallel(n_jobs=-1)]: Done 112 tasks      | elapsed:  4.0min\n",
      "[Parallel(n_jobs=-1)]: Done 272 tasks      | elapsed: 10.0min\n",
      "[Parallel(n_jobs=-1)]: Done 300 out of 300 | elapsed: 10.9min finished\n"
     ]
    },
    {
     "data": {
      "text/plain": [
       "GridSearchCV(cv=5,\n",
       "             estimator=Pipeline(steps=[('cat_enc',\n",
       "                                        <__main__.CatEncoder object at 0x0000022BAC632FC8>),\n",
       "                                       ('scaler',\n",
       "                                        ColumnTransformer(remainder='passthrough',\n",
       "                                                          transformers=[('num',\n",
       "                                                                         StandardScaler(),\n",
       "                                                                         ['Review '\n",
       "                                                                          'Date',\n",
       "                                                                          'Cocoa '\n",
       "                                                                          'Percent'])])),\n",
       "                                       ('svr', SVR())]),\n",
       "             n_jobs=-1,\n",
       "             param_grid={'svr__C': [0.03, 0.1, 0.3, 1, 3],\n",
       "                         'svr__epsilon': [0.03, 0.1, 0.3, 1],\n",
       "                         'svr__kernel': ['rbf', 'linear', 'poly']},\n",
       "             return_train_score=True, scoring='neg_root_mean_squared_error',\n",
       "             verbose=3)"
      ]
     },
     "execution_count": 168,
     "metadata": {},
     "output_type": "execute_result"
    }
   ],
   "source": [
    "params = {'svr__kernel': ['rbf', 'linear', 'poly'], \n",
    "          'svr__C': [0.03, 0.1, 0.3, 1, 3], \n",
    "          'svr__epsilon': [0.03, 0.1, 0.3, 1]}\n",
    "\n",
    "gs = GridSearchCV(svr_mod, params, \n",
    "                  cv=5, \n",
    "                  scoring='neg_root_mean_squared_error', \n",
    "                  return_train_score=True,\n",
    "                  n_jobs=-1,\n",
    "                  verbose=3)\n",
    "gs.fit(X_train, y_train)"
   ]
  },
  {
   "cell_type": "code",
   "execution_count": 169,
   "metadata": {},
   "outputs": [
    {
     "data": {
      "text/plain": [
       "{'svr__C': 0.1, 'svr__epsilon': 0.03, 'svr__kernel': 'rbf'}"
      ]
     },
     "execution_count": 169,
     "metadata": {},
     "output_type": "execute_result"
    }
   ],
   "source": [
    "# Show best parameters\n",
    "gs.best_params_"
   ]
  },
  {
   "cell_type": "code",
   "execution_count": 170,
   "metadata": {},
   "outputs": [
    {
     "data": {
      "text/html": [
       "<div>\n",
       "<style scoped>\n",
       "    .dataframe tbody tr th:only-of-type {\n",
       "        vertical-align: middle;\n",
       "    }\n",
       "\n",
       "    .dataframe tbody tr th {\n",
       "        vertical-align: top;\n",
       "    }\n",
       "\n",
       "    .dataframe thead th {\n",
       "        text-align: right;\n",
       "    }\n",
       "</style>\n",
       "<table border=\"1\" class=\"dataframe\">\n",
       "  <thead>\n",
       "    <tr style=\"text-align: right;\">\n",
       "      <th></th>\n",
       "      <th>mean_train_score</th>\n",
       "      <th>mean_test_score</th>\n",
       "    </tr>\n",
       "  </thead>\n",
       "  <tbody>\n",
       "    <tr>\n",
       "      <th>12</th>\n",
       "      <td>-0.293435</td>\n",
       "      <td>-0.376526</td>\n",
       "    </tr>\n",
       "  </tbody>\n",
       "</table>\n",
       "</div>"
      ],
      "text/plain": [
       "    mean_train_score  mean_test_score\n",
       "12         -0.293435        -0.376526"
      ]
     },
     "execution_count": 170,
     "metadata": {},
     "output_type": "execute_result"
    }
   ],
   "source": [
    "# Compare the train and test scores\n",
    "results = pd.DataFrame(gs.cv_results_)\n",
    "results.loc[results['mean_test_score'] == gs.best_score_, ['mean_train_score', 'mean_test_score']]"
   ]
  },
  {
   "cell_type": "code",
   "execution_count": 171,
   "metadata": {},
   "outputs": [],
   "source": [
    "svr_best_mod = gs.best_estimator_"
   ]
  },
  {
   "cell_type": "code",
   "execution_count": 172,
   "metadata": {},
   "outputs": [
    {
     "name": "stdout",
     "output_type": "stream",
     "text": [
      "RMSE: 0.3925465816174548\n",
      "MAE: 0.3055427844748745\n",
      "R^2: 0.2908383384883748\n"
     ]
    }
   ],
   "source": [
    "eval_mod(svr_best_mod)"
   ]
  },
  {
   "cell_type": "code",
   "execution_count": 173,
   "metadata": {},
   "outputs": [
    {
     "name": "stdout",
     "output_type": "stream",
     "text": [
      "CatBoostEncoder\n",
      "RMSE: 0.4017946806446094\n",
      "MAE: 0.31302068828373875\n",
      "R^2: 0.257030107773878\n",
      "\n",
      "GLMMEncoder\n",
      "RMSE: 0.38735918727134977\n",
      "MAE: 0.30457430278435055\n",
      "R^2: 0.30945724822225396\n",
      "\n",
      "JamesSteinEncoder\n",
      "RMSE: 0.43104572858412027\n",
      "MAE: 0.34300967180712133\n",
      "R^2: 0.1449145020048418\n",
      "\n",
      "LeaveOneOutEncoder\n",
      "RMSE: 0.40518105499872453\n",
      "MAE: 0.31568922551660733\n",
      "R^2: 0.24445365129696883\n",
      "\n",
      "MEstimateEncoder\n",
      "RMSE: 0.40706834332946445\n",
      "MAE: 0.31841339736634017\n",
      "R^2: 0.2373987571442423\n",
      "\n",
      "TargetEncoder\n",
      "RMSE: 0.40275669472550124\n",
      "MAE: 0.31417629515351037\n",
      "R^2: 0.25346807378069736\n",
      "\n"
     ]
    }
   ],
   "source": [
    "encoders = ['CatBoostEncoder', 'GLMMEncoder', 'JamesSteinEncoder', \n",
    "            'LeaveOneOutEncoder', 'MEstimateEncoder', 'TargetEncoder']\n",
    "\n",
    "for enc in encoders:\n",
    "    svr_mod = Pipeline([('cat_enc', CatEncoder(enc)), \n",
    "                   ('scaler', num_enc), \n",
    "                   ('svr', SVR(C=0.3, epsilon=0.03))])\n",
    "    svr_mod.fit(X_train, y_train)\n",
    "    print(enc)\n",
    "    eval_mod(svr_mod)\n",
    "    print()"
   ]
  },
  {
   "cell_type": "code",
   "execution_count": null,
   "metadata": {},
   "outputs": [],
   "source": []
  }
 ],
 "metadata": {
  "kernelspec": {
   "display_name": "Python 3",
   "language": "python",
   "name": "python3"
  },
  "language_info": {
   "codemirror_mode": {
    "name": "ipython",
    "version": 3
   },
   "file_extension": ".py",
   "mimetype": "text/x-python",
   "name": "python",
   "nbconvert_exporter": "python",
   "pygments_lexer": "ipython3",
   "version": "3.7.7"
  }
 },
 "nbformat": 4,
 "nbformat_minor": 4
}
