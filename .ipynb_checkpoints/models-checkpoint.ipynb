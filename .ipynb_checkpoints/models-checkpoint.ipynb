{
 "cells": [
  {
   "cell_type": "markdown",
   "metadata": {},
   "source": [
    "# Models"
   ]
  },
  {
   "cell_type": "code",
   "execution_count": 1,
   "metadata": {},
   "outputs": [],
   "source": [
    "import pandas as pd\n",
    "import numpy as np\n",
    "\n",
    "import seaborn as sns\n",
    "import matplotlib.pyplot as plt\n",
    "%matplotlib inline\n",
    "\n",
    "from sklearn.preprocessing import StandardScaler\n",
    "from sklearn.compose import ColumnTransformer\n",
    "from sklearn.base import TransformerMixin\n",
    "\n",
    "from sklearn.model_selection import train_test_split, GridSearchCV\n",
    "\n",
    "from sklearn.pipeline import Pipeline\n",
    "\n",
    "from sklearn.linear_model import LinearRegression, RidgeCV, LassoCV, LassoLarsCV\n",
    "from sklearn.svm import SVR\n",
    "from sklearn.ensemble import RandomForestRegressor\n",
    "\n",
    "from sklearn.metrics import mean_squared_error, mean_absolute_error, r2_score\n",
    "\n",
    "from sklearn.inspection import permutation_importance"
   ]
  },
  {
   "cell_type": "code",
   "execution_count": 2,
   "metadata": {},
   "outputs": [],
   "source": [
    "df = pd.read_csv('./data_prepared.csv')"
   ]
  },
  {
   "cell_type": "code",
   "execution_count": 3,
   "metadata": {},
   "outputs": [],
   "source": [
    "# Split into train/test\n",
    "X = df.drop('Rating', axis=1)\n",
    "y = df['Rating']\n",
    "X_train, X_test, y_train, y_test = train_test_split(X, y, test_size=0.3, random_state=42)"
   ]
  },
  {
   "cell_type": "markdown",
   "metadata": {},
   "source": [
    "Encode categorical features and normalize numerical features."
   ]
  },
  {
   "cell_type": "code",
   "execution_count": 4,
   "metadata": {},
   "outputs": [],
   "source": [
    "encoders = ['CatBoostEncoder', 'GLMMEncoder', 'JamesSteinEncoder', \n",
    "            'LeaveOneOutEncoder', 'MEstimateEncoder', 'TargetEncoder', \n",
    "            'BinaryEncoder', 'HashingEncoder', 'OrdinalEncoder']\n",
    "\n",
    "class CatEncoder(TransformerMixin):\n",
    "    def __init__(self, enc_name='MEstimateEncoder', **kwargs):\n",
    "        exec('from category_encoders import %s' % enc_name)\n",
    "        exec('self.encoder = %s(**kwargs)' % enc_name)\n",
    "    \n",
    "    def fit(self, X, y=None):\n",
    "        return self.encoder.fit(X, y)\n",
    "    \n",
    "    def transform(self, X, y=None):\n",
    "        return self.encoder.transform(X, y)\n",
    "    \n",
    "    def set_params(self, **params):\n",
    "        print(params)\n",
    "        return self.encoder.set_params(**params)"
   ]
  },
  {
   "cell_type": "code",
   "execution_count": 5,
   "metadata": {},
   "outputs": [],
   "source": [
    "num_columns = ['Review Date', 'Cocoa Percent']\n",
    "cat_columns = df.select_dtypes(exclude='number').columns.tolist()\n",
    "\n",
    "# Categorical encoding\n",
    "#cat_enc = CatEncoder()\n",
    "#cat_enc.fit(X_train, y_train)\n",
    "\n",
    "#X_train_trans = cat_enc.transform(X_train, y_train)\n",
    "#X_test_trans = cat_enc.transform(X_test, y_test)\n",
    "\n",
    "# Normalize numerical columns\n",
    "num_enc = ColumnTransformer(\n",
    "    transformers=[\n",
    "        ('num', StandardScaler(), num_columns)],\n",
    "    remainder='passthrough')\n",
    "#num_enc.fit(X_train_trans)"
   ]
  },
  {
   "cell_type": "code",
   "execution_count": 6,
   "metadata": {},
   "outputs": [],
   "source": [
    "# Utility function for evaluation\n",
    "def eval_mod(model):\n",
    "    y_pred = model.predict(X_test)\n",
    "    \n",
    "    print('RMSE:', np.sqrt(mean_squared_error(y_test, y_pred)))\n",
    "    print('MAE:', mean_absolute_error(y_test, y_pred))\n",
    "    print('R^2:', r2_score(y_test, y_pred))\n",
    "\n",
    "# Evaluate encoders\n",
    "def eval_encoders(model):\n",
    "    scores = []\n",
    "    for enc in encoders:\n",
    "        pipeline = Pipeline([('cat_enc', CatEncoder(enc)), \n",
    "                             ('scaler', num_enc), \n",
    "                             ('mod', model)])\n",
    "        pipeline.fit(X_train, y_train)\n",
    "        y_pred = pipeline.predict(X_test)\n",
    "        rmse = np.sqrt(mean_squared_error(y_test, y_pred))\n",
    "        scores.append(rmse)\n",
    "    \n",
    "    return pd.Series(scores, index=encoders).sort_values()"
   ]
  },
  {
   "cell_type": "code",
   "execution_count": 7,
   "metadata": {},
   "outputs": [],
   "source": [
    "feature_names = X_train.columns"
   ]
  },
  {
   "cell_type": "markdown",
   "metadata": {},
   "source": [
    "## PCA"
   ]
  },
  {
   "cell_type": "code",
   "execution_count": 8,
   "metadata": {},
   "outputs": [
    {
     "data": {
      "text/plain": [
       "Pipeline(steps=[('cat_enc', <__main__.CatEncoder object at 0x000001C6C9282248>),\n",
       "                ('scaler',\n",
       "                 ColumnTransformer(remainder='passthrough',\n",
       "                                   transformers=[('num', StandardScaler(),\n",
       "                                                  ['Review Date',\n",
       "                                                   'Cocoa Percent'])])),\n",
       "                ('pca', PCA(n_components=3))])"
      ]
     },
     "execution_count": 8,
     "metadata": {},
     "output_type": "execute_result"
    }
   ],
   "source": [
    "from sklearn.decomposition import PCA\n",
    "\n",
    "pca = Pipeline([('cat_enc',CatEncoder('CatBoostEncoder')), \n",
    "                   ('scaler', num_enc), \n",
    "                   ('pca', PCA(n_components=3))])\n",
    "pca.fit(X_train, y_train)"
   ]
  },
  {
   "cell_type": "code",
   "execution_count": 10,
   "metadata": {
    "scrolled": true
   },
   "outputs": [],
   "source": [
    "X_pca = pd.DataFrame(pca.transform(X_train))\n",
    "#sns.scatterplot(x=0, y=1, data=X_pca);"
   ]
  },
  {
   "cell_type": "code",
   "execution_count": 11,
   "metadata": {},
   "outputs": [
    {
     "data": {
      "application/javascript": [
       "/* Put everything inside the global mpl namespace */\n",
       "window.mpl = {};\n",
       "\n",
       "\n",
       "mpl.get_websocket_type = function() {\n",
       "    if (typeof(WebSocket) !== 'undefined') {\n",
       "        return WebSocket;\n",
       "    } else if (typeof(MozWebSocket) !== 'undefined') {\n",
       "        return MozWebSocket;\n",
       "    } else {\n",
       "        alert('Your browser does not have WebSocket support. ' +\n",
       "              'Please try Chrome, Safari or Firefox ≥ 6. ' +\n",
       "              'Firefox 4 and 5 are also supported but you ' +\n",
       "              'have to enable WebSockets in about:config.');\n",
       "    };\n",
       "}\n",
       "\n",
       "mpl.figure = function(figure_id, websocket, ondownload, parent_element) {\n",
       "    this.id = figure_id;\n",
       "\n",
       "    this.ws = websocket;\n",
       "\n",
       "    this.supports_binary = (this.ws.binaryType != undefined);\n",
       "\n",
       "    if (!this.supports_binary) {\n",
       "        var warnings = document.getElementById(\"mpl-warnings\");\n",
       "        if (warnings) {\n",
       "            warnings.style.display = 'block';\n",
       "            warnings.textContent = (\n",
       "                \"This browser does not support binary websocket messages. \" +\n",
       "                    \"Performance may be slow.\");\n",
       "        }\n",
       "    }\n",
       "\n",
       "    this.imageObj = new Image();\n",
       "\n",
       "    this.context = undefined;\n",
       "    this.message = undefined;\n",
       "    this.canvas = undefined;\n",
       "    this.rubberband_canvas = undefined;\n",
       "    this.rubberband_context = undefined;\n",
       "    this.format_dropdown = undefined;\n",
       "\n",
       "    this.image_mode = 'full';\n",
       "\n",
       "    this.root = $('<div/>');\n",
       "    this._root_extra_style(this.root)\n",
       "    this.root.attr('style', 'display: inline-block');\n",
       "\n",
       "    $(parent_element).append(this.root);\n",
       "\n",
       "    this._init_header(this);\n",
       "    this._init_canvas(this);\n",
       "    this._init_toolbar(this);\n",
       "\n",
       "    var fig = this;\n",
       "\n",
       "    this.waiting = false;\n",
       "\n",
       "    this.ws.onopen =  function () {\n",
       "            fig.send_message(\"supports_binary\", {value: fig.supports_binary});\n",
       "            fig.send_message(\"send_image_mode\", {});\n",
       "            if (mpl.ratio != 1) {\n",
       "                fig.send_message(\"set_dpi_ratio\", {'dpi_ratio': mpl.ratio});\n",
       "            }\n",
       "            fig.send_message(\"refresh\", {});\n",
       "        }\n",
       "\n",
       "    this.imageObj.onload = function() {\n",
       "            if (fig.image_mode == 'full') {\n",
       "                // Full images could contain transparency (where diff images\n",
       "                // almost always do), so we need to clear the canvas so that\n",
       "                // there is no ghosting.\n",
       "                fig.context.clearRect(0, 0, fig.canvas.width, fig.canvas.height);\n",
       "            }\n",
       "            fig.context.drawImage(fig.imageObj, 0, 0);\n",
       "        };\n",
       "\n",
       "    this.imageObj.onunload = function() {\n",
       "        fig.ws.close();\n",
       "    }\n",
       "\n",
       "    this.ws.onmessage = this._make_on_message_function(this);\n",
       "\n",
       "    this.ondownload = ondownload;\n",
       "}\n",
       "\n",
       "mpl.figure.prototype._init_header = function() {\n",
       "    var titlebar = $(\n",
       "        '<div class=\"ui-dialog-titlebar ui-widget-header ui-corner-all ' +\n",
       "        'ui-helper-clearfix\"/>');\n",
       "    var titletext = $(\n",
       "        '<div class=\"ui-dialog-title\" style=\"width: 100%; ' +\n",
       "        'text-align: center; padding: 3px;\"/>');\n",
       "    titlebar.append(titletext)\n",
       "    this.root.append(titlebar);\n",
       "    this.header = titletext[0];\n",
       "}\n",
       "\n",
       "\n",
       "\n",
       "mpl.figure.prototype._canvas_extra_style = function(canvas_div) {\n",
       "\n",
       "}\n",
       "\n",
       "\n",
       "mpl.figure.prototype._root_extra_style = function(canvas_div) {\n",
       "\n",
       "}\n",
       "\n",
       "mpl.figure.prototype._init_canvas = function() {\n",
       "    var fig = this;\n",
       "\n",
       "    var canvas_div = $('<div/>');\n",
       "\n",
       "    canvas_div.attr('style', 'position: relative; clear: both; outline: 0');\n",
       "\n",
       "    function canvas_keyboard_event(event) {\n",
       "        return fig.key_event(event, event['data']);\n",
       "    }\n",
       "\n",
       "    canvas_div.keydown('key_press', canvas_keyboard_event);\n",
       "    canvas_div.keyup('key_release', canvas_keyboard_event);\n",
       "    this.canvas_div = canvas_div\n",
       "    this._canvas_extra_style(canvas_div)\n",
       "    this.root.append(canvas_div);\n",
       "\n",
       "    var canvas = $('<canvas/>');\n",
       "    canvas.addClass('mpl-canvas');\n",
       "    canvas.attr('style', \"left: 0; top: 0; z-index: 0; outline: 0\")\n",
       "\n",
       "    this.canvas = canvas[0];\n",
       "    this.context = canvas[0].getContext(\"2d\");\n",
       "\n",
       "    var backingStore = this.context.backingStorePixelRatio ||\n",
       "\tthis.context.webkitBackingStorePixelRatio ||\n",
       "\tthis.context.mozBackingStorePixelRatio ||\n",
       "\tthis.context.msBackingStorePixelRatio ||\n",
       "\tthis.context.oBackingStorePixelRatio ||\n",
       "\tthis.context.backingStorePixelRatio || 1;\n",
       "\n",
       "    mpl.ratio = (window.devicePixelRatio || 1) / backingStore;\n",
       "\n",
       "    var rubberband = $('<canvas/>');\n",
       "    rubberband.attr('style', \"position: absolute; left: 0; top: 0; z-index: 1;\")\n",
       "\n",
       "    var pass_mouse_events = true;\n",
       "\n",
       "    canvas_div.resizable({\n",
       "        start: function(event, ui) {\n",
       "            pass_mouse_events = false;\n",
       "        },\n",
       "        resize: function(event, ui) {\n",
       "            fig.request_resize(ui.size.width, ui.size.height);\n",
       "        },\n",
       "        stop: function(event, ui) {\n",
       "            pass_mouse_events = true;\n",
       "            fig.request_resize(ui.size.width, ui.size.height);\n",
       "        },\n",
       "    });\n",
       "\n",
       "    function mouse_event_fn(event) {\n",
       "        if (pass_mouse_events)\n",
       "            return fig.mouse_event(event, event['data']);\n",
       "    }\n",
       "\n",
       "    rubberband.mousedown('button_press', mouse_event_fn);\n",
       "    rubberband.mouseup('button_release', mouse_event_fn);\n",
       "    // Throttle sequential mouse events to 1 every 20ms.\n",
       "    rubberband.mousemove('motion_notify', mouse_event_fn);\n",
       "\n",
       "    rubberband.mouseenter('figure_enter', mouse_event_fn);\n",
       "    rubberband.mouseleave('figure_leave', mouse_event_fn);\n",
       "\n",
       "    canvas_div.on(\"wheel\", function (event) {\n",
       "        event = event.originalEvent;\n",
       "        event['data'] = 'scroll'\n",
       "        if (event.deltaY < 0) {\n",
       "            event.step = 1;\n",
       "        } else {\n",
       "            event.step = -1;\n",
       "        }\n",
       "        mouse_event_fn(event);\n",
       "    });\n",
       "\n",
       "    canvas_div.append(canvas);\n",
       "    canvas_div.append(rubberband);\n",
       "\n",
       "    this.rubberband = rubberband;\n",
       "    this.rubberband_canvas = rubberband[0];\n",
       "    this.rubberband_context = rubberband[0].getContext(\"2d\");\n",
       "    this.rubberband_context.strokeStyle = \"#000000\";\n",
       "\n",
       "    this._resize_canvas = function(width, height) {\n",
       "        // Keep the size of the canvas, canvas container, and rubber band\n",
       "        // canvas in synch.\n",
       "        canvas_div.css('width', width)\n",
       "        canvas_div.css('height', height)\n",
       "\n",
       "        canvas.attr('width', width * mpl.ratio);\n",
       "        canvas.attr('height', height * mpl.ratio);\n",
       "        canvas.attr('style', 'width: ' + width + 'px; height: ' + height + 'px;');\n",
       "\n",
       "        rubberband.attr('width', width);\n",
       "        rubberband.attr('height', height);\n",
       "    }\n",
       "\n",
       "    // Set the figure to an initial 600x600px, this will subsequently be updated\n",
       "    // upon first draw.\n",
       "    this._resize_canvas(600, 600);\n",
       "\n",
       "    // Disable right mouse context menu.\n",
       "    $(this.rubberband_canvas).bind(\"contextmenu\",function(e){\n",
       "        return false;\n",
       "    });\n",
       "\n",
       "    function set_focus () {\n",
       "        canvas.focus();\n",
       "        canvas_div.focus();\n",
       "    }\n",
       "\n",
       "    window.setTimeout(set_focus, 100);\n",
       "}\n",
       "\n",
       "mpl.figure.prototype._init_toolbar = function() {\n",
       "    var fig = this;\n",
       "\n",
       "    var nav_element = $('<div/>');\n",
       "    nav_element.attr('style', 'width: 100%');\n",
       "    this.root.append(nav_element);\n",
       "\n",
       "    // Define a callback function for later on.\n",
       "    function toolbar_event(event) {\n",
       "        return fig.toolbar_button_onclick(event['data']);\n",
       "    }\n",
       "    function toolbar_mouse_event(event) {\n",
       "        return fig.toolbar_button_onmouseover(event['data']);\n",
       "    }\n",
       "\n",
       "    for(var toolbar_ind in mpl.toolbar_items) {\n",
       "        var name = mpl.toolbar_items[toolbar_ind][0];\n",
       "        var tooltip = mpl.toolbar_items[toolbar_ind][1];\n",
       "        var image = mpl.toolbar_items[toolbar_ind][2];\n",
       "        var method_name = mpl.toolbar_items[toolbar_ind][3];\n",
       "\n",
       "        if (!name) {\n",
       "            // put a spacer in here.\n",
       "            continue;\n",
       "        }\n",
       "        var button = $('<button/>');\n",
       "        button.addClass('ui-button ui-widget ui-state-default ui-corner-all ' +\n",
       "                        'ui-button-icon-only');\n",
       "        button.attr('role', 'button');\n",
       "        button.attr('aria-disabled', 'false');\n",
       "        button.click(method_name, toolbar_event);\n",
       "        button.mouseover(tooltip, toolbar_mouse_event);\n",
       "\n",
       "        var icon_img = $('<span/>');\n",
       "        icon_img.addClass('ui-button-icon-primary ui-icon');\n",
       "        icon_img.addClass(image);\n",
       "        icon_img.addClass('ui-corner-all');\n",
       "\n",
       "        var tooltip_span = $('<span/>');\n",
       "        tooltip_span.addClass('ui-button-text');\n",
       "        tooltip_span.html(tooltip);\n",
       "\n",
       "        button.append(icon_img);\n",
       "        button.append(tooltip_span);\n",
       "\n",
       "        nav_element.append(button);\n",
       "    }\n",
       "\n",
       "    var fmt_picker_span = $('<span/>');\n",
       "\n",
       "    var fmt_picker = $('<select/>');\n",
       "    fmt_picker.addClass('mpl-toolbar-option ui-widget ui-widget-content');\n",
       "    fmt_picker_span.append(fmt_picker);\n",
       "    nav_element.append(fmt_picker_span);\n",
       "    this.format_dropdown = fmt_picker[0];\n",
       "\n",
       "    for (var ind in mpl.extensions) {\n",
       "        var fmt = mpl.extensions[ind];\n",
       "        var option = $(\n",
       "            '<option/>', {selected: fmt === mpl.default_extension}).html(fmt);\n",
       "        fmt_picker.append(option);\n",
       "    }\n",
       "\n",
       "    // Add hover states to the ui-buttons\n",
       "    $( \".ui-button\" ).hover(\n",
       "        function() { $(this).addClass(\"ui-state-hover\");},\n",
       "        function() { $(this).removeClass(\"ui-state-hover\");}\n",
       "    );\n",
       "\n",
       "    var status_bar = $('<span class=\"mpl-message\"/>');\n",
       "    nav_element.append(status_bar);\n",
       "    this.message = status_bar[0];\n",
       "}\n",
       "\n",
       "mpl.figure.prototype.request_resize = function(x_pixels, y_pixels) {\n",
       "    // Request matplotlib to resize the figure. Matplotlib will then trigger a resize in the client,\n",
       "    // which will in turn request a refresh of the image.\n",
       "    this.send_message('resize', {'width': x_pixels, 'height': y_pixels});\n",
       "}\n",
       "\n",
       "mpl.figure.prototype.send_message = function(type, properties) {\n",
       "    properties['type'] = type;\n",
       "    properties['figure_id'] = this.id;\n",
       "    this.ws.send(JSON.stringify(properties));\n",
       "}\n",
       "\n",
       "mpl.figure.prototype.send_draw_message = function() {\n",
       "    if (!this.waiting) {\n",
       "        this.waiting = true;\n",
       "        this.ws.send(JSON.stringify({type: \"draw\", figure_id: this.id}));\n",
       "    }\n",
       "}\n",
       "\n",
       "\n",
       "mpl.figure.prototype.handle_save = function(fig, msg) {\n",
       "    var format_dropdown = fig.format_dropdown;\n",
       "    var format = format_dropdown.options[format_dropdown.selectedIndex].value;\n",
       "    fig.ondownload(fig, format);\n",
       "}\n",
       "\n",
       "\n",
       "mpl.figure.prototype.handle_resize = function(fig, msg) {\n",
       "    var size = msg['size'];\n",
       "    if (size[0] != fig.canvas.width || size[1] != fig.canvas.height) {\n",
       "        fig._resize_canvas(size[0], size[1]);\n",
       "        fig.send_message(\"refresh\", {});\n",
       "    };\n",
       "}\n",
       "\n",
       "mpl.figure.prototype.handle_rubberband = function(fig, msg) {\n",
       "    var x0 = msg['x0'] / mpl.ratio;\n",
       "    var y0 = (fig.canvas.height - msg['y0']) / mpl.ratio;\n",
       "    var x1 = msg['x1'] / mpl.ratio;\n",
       "    var y1 = (fig.canvas.height - msg['y1']) / mpl.ratio;\n",
       "    x0 = Math.floor(x0) + 0.5;\n",
       "    y0 = Math.floor(y0) + 0.5;\n",
       "    x1 = Math.floor(x1) + 0.5;\n",
       "    y1 = Math.floor(y1) + 0.5;\n",
       "    var min_x = Math.min(x0, x1);\n",
       "    var min_y = Math.min(y0, y1);\n",
       "    var width = Math.abs(x1 - x0);\n",
       "    var height = Math.abs(y1 - y0);\n",
       "\n",
       "    fig.rubberband_context.clearRect(\n",
       "        0, 0, fig.canvas.width / mpl.ratio, fig.canvas.height / mpl.ratio);\n",
       "\n",
       "    fig.rubberband_context.strokeRect(min_x, min_y, width, height);\n",
       "}\n",
       "\n",
       "mpl.figure.prototype.handle_figure_label = function(fig, msg) {\n",
       "    // Updates the figure title.\n",
       "    fig.header.textContent = msg['label'];\n",
       "}\n",
       "\n",
       "mpl.figure.prototype.handle_cursor = function(fig, msg) {\n",
       "    var cursor = msg['cursor'];\n",
       "    switch(cursor)\n",
       "    {\n",
       "    case 0:\n",
       "        cursor = 'pointer';\n",
       "        break;\n",
       "    case 1:\n",
       "        cursor = 'default';\n",
       "        break;\n",
       "    case 2:\n",
       "        cursor = 'crosshair';\n",
       "        break;\n",
       "    case 3:\n",
       "        cursor = 'move';\n",
       "        break;\n",
       "    }\n",
       "    fig.rubberband_canvas.style.cursor = cursor;\n",
       "}\n",
       "\n",
       "mpl.figure.prototype.handle_message = function(fig, msg) {\n",
       "    fig.message.textContent = msg['message'];\n",
       "}\n",
       "\n",
       "mpl.figure.prototype.handle_draw = function(fig, msg) {\n",
       "    // Request the server to send over a new figure.\n",
       "    fig.send_draw_message();\n",
       "}\n",
       "\n",
       "mpl.figure.prototype.handle_image_mode = function(fig, msg) {\n",
       "    fig.image_mode = msg['mode'];\n",
       "}\n",
       "\n",
       "mpl.figure.prototype.updated_canvas_event = function() {\n",
       "    // Called whenever the canvas gets updated.\n",
       "    this.send_message(\"ack\", {});\n",
       "}\n",
       "\n",
       "// A function to construct a web socket function for onmessage handling.\n",
       "// Called in the figure constructor.\n",
       "mpl.figure.prototype._make_on_message_function = function(fig) {\n",
       "    return function socket_on_message(evt) {\n",
       "        if (evt.data instanceof Blob) {\n",
       "            /* FIXME: We get \"Resource interpreted as Image but\n",
       "             * transferred with MIME type text/plain:\" errors on\n",
       "             * Chrome.  But how to set the MIME type?  It doesn't seem\n",
       "             * to be part of the websocket stream */\n",
       "            evt.data.type = \"image/png\";\n",
       "\n",
       "            /* Free the memory for the previous frames */\n",
       "            if (fig.imageObj.src) {\n",
       "                (window.URL || window.webkitURL).revokeObjectURL(\n",
       "                    fig.imageObj.src);\n",
       "            }\n",
       "\n",
       "            fig.imageObj.src = (window.URL || window.webkitURL).createObjectURL(\n",
       "                evt.data);\n",
       "            fig.updated_canvas_event();\n",
       "            fig.waiting = false;\n",
       "            return;\n",
       "        }\n",
       "        else if (typeof evt.data === 'string' && evt.data.slice(0, 21) == \"data:image/png;base64\") {\n",
       "            fig.imageObj.src = evt.data;\n",
       "            fig.updated_canvas_event();\n",
       "            fig.waiting = false;\n",
       "            return;\n",
       "        }\n",
       "\n",
       "        var msg = JSON.parse(evt.data);\n",
       "        var msg_type = msg['type'];\n",
       "\n",
       "        // Call the  \"handle_{type}\" callback, which takes\n",
       "        // the figure and JSON message as its only arguments.\n",
       "        try {\n",
       "            var callback = fig[\"handle_\" + msg_type];\n",
       "        } catch (e) {\n",
       "            console.log(\"No handler for the '\" + msg_type + \"' message type: \", msg);\n",
       "            return;\n",
       "        }\n",
       "\n",
       "        if (callback) {\n",
       "            try {\n",
       "                // console.log(\"Handling '\" + msg_type + \"' message: \", msg);\n",
       "                callback(fig, msg);\n",
       "            } catch (e) {\n",
       "                console.log(\"Exception inside the 'handler_\" + msg_type + \"' callback:\", e, e.stack, msg);\n",
       "            }\n",
       "        }\n",
       "    };\n",
       "}\n",
       "\n",
       "// from http://stackoverflow.com/questions/1114465/getting-mouse-location-in-canvas\n",
       "mpl.findpos = function(e) {\n",
       "    //this section is from http://www.quirksmode.org/js/events_properties.html\n",
       "    var targ;\n",
       "    if (!e)\n",
       "        e = window.event;\n",
       "    if (e.target)\n",
       "        targ = e.target;\n",
       "    else if (e.srcElement)\n",
       "        targ = e.srcElement;\n",
       "    if (targ.nodeType == 3) // defeat Safari bug\n",
       "        targ = targ.parentNode;\n",
       "\n",
       "    // jQuery normalizes the pageX and pageY\n",
       "    // pageX,Y are the mouse positions relative to the document\n",
       "    // offset() returns the position of the element relative to the document\n",
       "    var x = e.pageX - $(targ).offset().left;\n",
       "    var y = e.pageY - $(targ).offset().top;\n",
       "\n",
       "    return {\"x\": x, \"y\": y};\n",
       "};\n",
       "\n",
       "/*\n",
       " * return a copy of an object with only non-object keys\n",
       " * we need this to avoid circular references\n",
       " * http://stackoverflow.com/a/24161582/3208463\n",
       " */\n",
       "function simpleKeys (original) {\n",
       "  return Object.keys(original).reduce(function (obj, key) {\n",
       "    if (typeof original[key] !== 'object')\n",
       "        obj[key] = original[key]\n",
       "    return obj;\n",
       "  }, {});\n",
       "}\n",
       "\n",
       "mpl.figure.prototype.mouse_event = function(event, name) {\n",
       "    var canvas_pos = mpl.findpos(event)\n",
       "\n",
       "    if (name === 'button_press')\n",
       "    {\n",
       "        this.canvas.focus();\n",
       "        this.canvas_div.focus();\n",
       "    }\n",
       "\n",
       "    var x = canvas_pos.x * mpl.ratio;\n",
       "    var y = canvas_pos.y * mpl.ratio;\n",
       "\n",
       "    this.send_message(name, {x: x, y: y, button: event.button,\n",
       "                             step: event.step,\n",
       "                             guiEvent: simpleKeys(event)});\n",
       "\n",
       "    /* This prevents the web browser from automatically changing to\n",
       "     * the text insertion cursor when the button is pressed.  We want\n",
       "     * to control all of the cursor setting manually through the\n",
       "     * 'cursor' event from matplotlib */\n",
       "    event.preventDefault();\n",
       "    return false;\n",
       "}\n",
       "\n",
       "mpl.figure.prototype._key_event_extra = function(event, name) {\n",
       "    // Handle any extra behaviour associated with a key event\n",
       "}\n",
       "\n",
       "mpl.figure.prototype.key_event = function(event, name) {\n",
       "\n",
       "    // Prevent repeat events\n",
       "    if (name == 'key_press')\n",
       "    {\n",
       "        if (event.which === this._key)\n",
       "            return;\n",
       "        else\n",
       "            this._key = event.which;\n",
       "    }\n",
       "    if (name == 'key_release')\n",
       "        this._key = null;\n",
       "\n",
       "    var value = '';\n",
       "    if (event.ctrlKey && event.which != 17)\n",
       "        value += \"ctrl+\";\n",
       "    if (event.altKey && event.which != 18)\n",
       "        value += \"alt+\";\n",
       "    if (event.shiftKey && event.which != 16)\n",
       "        value += \"shift+\";\n",
       "\n",
       "    value += 'k';\n",
       "    value += event.which.toString();\n",
       "\n",
       "    this._key_event_extra(event, name);\n",
       "\n",
       "    this.send_message(name, {key: value,\n",
       "                             guiEvent: simpleKeys(event)});\n",
       "    return false;\n",
       "}\n",
       "\n",
       "mpl.figure.prototype.toolbar_button_onclick = function(name) {\n",
       "    if (name == 'download') {\n",
       "        this.handle_save(this, null);\n",
       "    } else {\n",
       "        this.send_message(\"toolbar_button\", {name: name});\n",
       "    }\n",
       "};\n",
       "\n",
       "mpl.figure.prototype.toolbar_button_onmouseover = function(tooltip) {\n",
       "    this.message.textContent = tooltip;\n",
       "};\n",
       "mpl.toolbar_items = [[\"Home\", \"Reset original view\", \"fa fa-home icon-home\", \"home\"], [\"Back\", \"Back to previous view\", \"fa fa-arrow-left icon-arrow-left\", \"back\"], [\"Forward\", \"Forward to next view\", \"fa fa-arrow-right icon-arrow-right\", \"forward\"], [\"\", \"\", \"\", \"\"], [\"Pan\", \"Pan axes with left mouse, zoom with right\", \"fa fa-arrows icon-move\", \"pan\"], [\"Zoom\", \"Zoom to rectangle\", \"fa fa-square-o icon-check-empty\", \"zoom\"], [\"\", \"\", \"\", \"\"], [\"Download\", \"Download plot\", \"fa fa-floppy-o icon-save\", \"download\"]];\n",
       "\n",
       "mpl.extensions = [\"eps\", \"jpeg\", \"pdf\", \"png\", \"ps\", \"raw\", \"svg\", \"tif\"];\n",
       "\n",
       "mpl.default_extension = \"png\";var comm_websocket_adapter = function(comm) {\n",
       "    // Create a \"websocket\"-like object which calls the given IPython comm\n",
       "    // object with the appropriate methods. Currently this is a non binary\n",
       "    // socket, so there is still some room for performance tuning.\n",
       "    var ws = {};\n",
       "\n",
       "    ws.close = function() {\n",
       "        comm.close()\n",
       "    };\n",
       "    ws.send = function(m) {\n",
       "        //console.log('sending', m);\n",
       "        comm.send(m);\n",
       "    };\n",
       "    // Register the callback with on_msg.\n",
       "    comm.on_msg(function(msg) {\n",
       "        //console.log('receiving', msg['content']['data'], msg);\n",
       "        // Pass the mpl event to the overridden (by mpl) onmessage function.\n",
       "        ws.onmessage(msg['content']['data'])\n",
       "    });\n",
       "    return ws;\n",
       "}\n",
       "\n",
       "mpl.mpl_figure_comm = function(comm, msg) {\n",
       "    // This is the function which gets called when the mpl process\n",
       "    // starts-up an IPython Comm through the \"matplotlib\" channel.\n",
       "\n",
       "    var id = msg.content.data.id;\n",
       "    // Get hold of the div created by the display call when the Comm\n",
       "    // socket was opened in Python.\n",
       "    var element = $(\"#\" + id);\n",
       "    var ws_proxy = comm_websocket_adapter(comm)\n",
       "\n",
       "    function ondownload(figure, format) {\n",
       "        window.open(figure.imageObj.src);\n",
       "    }\n",
       "\n",
       "    var fig = new mpl.figure(id, ws_proxy,\n",
       "                           ondownload,\n",
       "                           element.get(0));\n",
       "\n",
       "    // Call onopen now - mpl needs it, as it is assuming we've passed it a real\n",
       "    // web socket which is closed, not our websocket->open comm proxy.\n",
       "    ws_proxy.onopen();\n",
       "\n",
       "    fig.parent_element = element.get(0);\n",
       "    fig.cell_info = mpl.find_output_cell(\"<div id='\" + id + \"'></div>\");\n",
       "    if (!fig.cell_info) {\n",
       "        console.error(\"Failed to find cell for figure\", id, fig);\n",
       "        return;\n",
       "    }\n",
       "\n",
       "    var output_index = fig.cell_info[2]\n",
       "    var cell = fig.cell_info[0];\n",
       "\n",
       "};\n",
       "\n",
       "mpl.figure.prototype.handle_close = function(fig, msg) {\n",
       "    var width = fig.canvas.width/mpl.ratio\n",
       "    fig.root.unbind('remove')\n",
       "\n",
       "    // Update the output cell to use the data from the current canvas.\n",
       "    fig.push_to_output();\n",
       "    var dataURL = fig.canvas.toDataURL();\n",
       "    // Re-enable the keyboard manager in IPython - without this line, in FF,\n",
       "    // the notebook keyboard shortcuts fail.\n",
       "    IPython.keyboard_manager.enable()\n",
       "    $(fig.parent_element).html('<img src=\"' + dataURL + '\" width=\"' + width + '\">');\n",
       "    fig.close_ws(fig, msg);\n",
       "}\n",
       "\n",
       "mpl.figure.prototype.close_ws = function(fig, msg){\n",
       "    fig.send_message('closing', msg);\n",
       "    // fig.ws.close()\n",
       "}\n",
       "\n",
       "mpl.figure.prototype.push_to_output = function(remove_interactive) {\n",
       "    // Turn the data on the canvas into data in the output cell.\n",
       "    var width = this.canvas.width/mpl.ratio\n",
       "    var dataURL = this.canvas.toDataURL();\n",
       "    this.cell_info[1]['text/html'] = '<img src=\"' + dataURL + '\" width=\"' + width + '\">';\n",
       "}\n",
       "\n",
       "mpl.figure.prototype.updated_canvas_event = function() {\n",
       "    // Tell IPython that the notebook contents must change.\n",
       "    IPython.notebook.set_dirty(true);\n",
       "    this.send_message(\"ack\", {});\n",
       "    var fig = this;\n",
       "    // Wait a second, then push the new image to the DOM so\n",
       "    // that it is saved nicely (might be nice to debounce this).\n",
       "    setTimeout(function () { fig.push_to_output() }, 1000);\n",
       "}\n",
       "\n",
       "mpl.figure.prototype._init_toolbar = function() {\n",
       "    var fig = this;\n",
       "\n",
       "    var nav_element = $('<div/>');\n",
       "    nav_element.attr('style', 'width: 100%');\n",
       "    this.root.append(nav_element);\n",
       "\n",
       "    // Define a callback function for later on.\n",
       "    function toolbar_event(event) {\n",
       "        return fig.toolbar_button_onclick(event['data']);\n",
       "    }\n",
       "    function toolbar_mouse_event(event) {\n",
       "        return fig.toolbar_button_onmouseover(event['data']);\n",
       "    }\n",
       "\n",
       "    for(var toolbar_ind in mpl.toolbar_items){\n",
       "        var name = mpl.toolbar_items[toolbar_ind][0];\n",
       "        var tooltip = mpl.toolbar_items[toolbar_ind][1];\n",
       "        var image = mpl.toolbar_items[toolbar_ind][2];\n",
       "        var method_name = mpl.toolbar_items[toolbar_ind][3];\n",
       "\n",
       "        if (!name) { continue; };\n",
       "\n",
       "        var button = $('<button class=\"btn btn-default\" href=\"#\" title=\"' + name + '\"><i class=\"fa ' + image + ' fa-lg\"></i></button>');\n",
       "        button.click(method_name, toolbar_event);\n",
       "        button.mouseover(tooltip, toolbar_mouse_event);\n",
       "        nav_element.append(button);\n",
       "    }\n",
       "\n",
       "    // Add the status bar.\n",
       "    var status_bar = $('<span class=\"mpl-message\" style=\"text-align:right; float: right;\"/>');\n",
       "    nav_element.append(status_bar);\n",
       "    this.message = status_bar[0];\n",
       "\n",
       "    // Add the close button to the window.\n",
       "    var buttongrp = $('<div class=\"btn-group inline pull-right\"></div>');\n",
       "    var button = $('<button class=\"btn btn-mini btn-primary\" href=\"#\" title=\"Stop Interaction\"><i class=\"fa fa-power-off icon-remove icon-large\"></i></button>');\n",
       "    button.click(function (evt) { fig.handle_close(fig, {}); } );\n",
       "    button.mouseover('Stop Interaction', toolbar_mouse_event);\n",
       "    buttongrp.append(button);\n",
       "    var titlebar = this.root.find($('.ui-dialog-titlebar'));\n",
       "    titlebar.prepend(buttongrp);\n",
       "}\n",
       "\n",
       "mpl.figure.prototype._root_extra_style = function(el){\n",
       "    var fig = this\n",
       "    el.on(\"remove\", function(){\n",
       "\tfig.close_ws(fig, {});\n",
       "    });\n",
       "}\n",
       "\n",
       "mpl.figure.prototype._canvas_extra_style = function(el){\n",
       "    // this is important to make the div 'focusable\n",
       "    el.attr('tabindex', 0)\n",
       "    // reach out to IPython and tell the keyboard manager to turn it's self\n",
       "    // off when our div gets focus\n",
       "\n",
       "    // location in version 3\n",
       "    if (IPython.notebook.keyboard_manager) {\n",
       "        IPython.notebook.keyboard_manager.register_events(el);\n",
       "    }\n",
       "    else {\n",
       "        // location in version 2\n",
       "        IPython.keyboard_manager.register_events(el);\n",
       "    }\n",
       "\n",
       "}\n",
       "\n",
       "mpl.figure.prototype._key_event_extra = function(event, name) {\n",
       "    var manager = IPython.notebook.keyboard_manager;\n",
       "    if (!manager)\n",
       "        manager = IPython.keyboard_manager;\n",
       "\n",
       "    // Check for shift+enter\n",
       "    if (event.shiftKey && event.which == 13) {\n",
       "        this.canvas_div.blur();\n",
       "        // select the cell after this one\n",
       "        var index = IPython.notebook.find_cell_index(this.cell_info[0]);\n",
       "        IPython.notebook.select(index + 1);\n",
       "    }\n",
       "}\n",
       "\n",
       "mpl.figure.prototype.handle_save = function(fig, msg) {\n",
       "    fig.ondownload(fig, null);\n",
       "}\n",
       "\n",
       "\n",
       "mpl.find_output_cell = function(html_output) {\n",
       "    // Return the cell and output element which can be found *uniquely* in the notebook.\n",
       "    // Note - this is a bit hacky, but it is done because the \"notebook_saving.Notebook\"\n",
       "    // IPython event is triggered only after the cells have been serialised, which for\n",
       "    // our purposes (turning an active figure into a static one), is too late.\n",
       "    var cells = IPython.notebook.get_cells();\n",
       "    var ncells = cells.length;\n",
       "    for (var i=0; i<ncells; i++) {\n",
       "        var cell = cells[i];\n",
       "        if (cell.cell_type === 'code'){\n",
       "            for (var j=0; j<cell.output_area.outputs.length; j++) {\n",
       "                var data = cell.output_area.outputs[j];\n",
       "                if (data.data) {\n",
       "                    // IPython >= 3 moved mimebundle to data attribute of output\n",
       "                    data = data.data;\n",
       "                }\n",
       "                if (data['text/html'] == html_output) {\n",
       "                    return [cell, data, j];\n",
       "                }\n",
       "            }\n",
       "        }\n",
       "    }\n",
       "}\n",
       "\n",
       "// Register the function which deals with the matplotlib target/channel.\n",
       "// The kernel may be null if the page has been refreshed.\n",
       "if (IPython.notebook.kernel != null) {\n",
       "    IPython.notebook.kernel.comm_manager.register_target('matplotlib', mpl.mpl_figure_comm);\n",
       "}\n"
      ],
      "text/plain": [
       "<IPython.core.display.Javascript object>"
      ]
     },
     "metadata": {},
     "output_type": "display_data"
    },
    {
     "data": {
      "text/html": [
       "<img src=\"data:image/png;base64,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\" width=\"432\">"
      ],
      "text/plain": [
       "<IPython.core.display.HTML object>"
      ]
     },
     "metadata": {},
     "output_type": "display_data"
    }
   ],
   "source": [
    "from mpl_toolkits.mplot3d import Axes3D\n",
    "%matplotlib notebook\n",
    "\n",
    "fig = plt.figure(figsize=(6,6))\n",
    "\n",
    "ax = Axes3D(fig)\n",
    "x = X_pca[0]\n",
    "y = X_pca[1]\n",
    "z = X_pca[2]\n",
    "\n",
    "ax.scatter(x, y, z)\n",
    "plt.show()"
   ]
  },
  {
   "cell_type": "markdown",
   "metadata": {},
   "source": [
    "## Linear regression"
   ]
  },
  {
   "cell_type": "code",
   "execution_count": 78,
   "metadata": {},
   "outputs": [
    {
     "data": {
      "text/plain": [
       "CatBoostEncoder       0.406369\n",
       "LeaveOneOutEncoder    0.406429\n",
       "TargetEncoder         0.406792\n",
       "HashingEncoder        0.406811\n",
       "OrdinalEncoder        0.408809\n",
       "BinaryEncoder         0.411075\n",
       "JamesSteinEncoder     0.422154\n",
       "GLMMEncoder           0.423193\n",
       "MEstimateEncoder      0.431460\n",
       "dtype: float64"
      ]
     },
     "execution_count": 78,
     "metadata": {},
     "output_type": "execute_result"
    }
   ],
   "source": [
    "eval_encoders(LinearRegression())"
   ]
  },
  {
   "cell_type": "code",
   "execution_count": 70,
   "metadata": {},
   "outputs": [
    {
     "data": {
      "text/plain": [
       "Pipeline(steps=[('cat_enc', <__main__.CatEncoder object at 0x0000020935811748>),\n",
       "                ('scaler',\n",
       "                 ColumnTransformer(remainder='passthrough',\n",
       "                                   transformers=[('num', StandardScaler(),\n",
       "                                                  ['Review Date',\n",
       "                                                   'Cocoa Percent'])])),\n",
       "                ('lr', LinearRegression())])"
      ]
     },
     "execution_count": 70,
     "metadata": {},
     "output_type": "execute_result"
    }
   ],
   "source": [
    "lr_mod = Pipeline([('cat_enc',CatEncoder('CatBoostEncoder')), \n",
    "                   ('scaler', num_enc), \n",
    "                   ('lr', LinearRegression())])\n",
    "lr_mod.fit(X_train, y_train)"
   ]
  },
  {
   "cell_type": "code",
   "execution_count": 71,
   "metadata": {},
   "outputs": [
    {
     "name": "stdout",
     "output_type": "stream",
     "text": [
      "RMSE: 0.40636909151071005\n",
      "MAE: 0.3155722490041258\n",
      "R^2: 0.2400164615801822\n"
     ]
    }
   ],
   "source": [
    "eval_mod(lr_mod)"
   ]
  },
  {
   "cell_type": "code",
   "execution_count": 72,
   "metadata": {
    "scrolled": true
   },
   "outputs": [
    {
     "data": {
      "text/html": [
       "<div>\n",
       "<style scoped>\n",
       "    .dataframe tbody tr th:only-of-type {\n",
       "        vertical-align: middle;\n",
       "    }\n",
       "\n",
       "    .dataframe tbody tr th {\n",
       "        vertical-align: top;\n",
       "    }\n",
       "\n",
       "    .dataframe thead th {\n",
       "        text-align: right;\n",
       "    }\n",
       "</style>\n",
       "<table border=\"1\" class=\"dataframe\">\n",
       "  <thead>\n",
       "    <tr style=\"text-align: right;\">\n",
       "      <th></th>\n",
       "      <th>feature</th>\n",
       "      <th>coef</th>\n",
       "    </tr>\n",
       "  </thead>\n",
       "  <tbody>\n",
       "    <tr>\n",
       "      <th>4</th>\n",
       "      <td>Cocoa Percent</td>\n",
       "      <td>0.650457</td>\n",
       "    </tr>\n",
       "    <tr>\n",
       "      <th>7</th>\n",
       "      <td>Continent_origin</td>\n",
       "      <td>0.637516</td>\n",
       "    </tr>\n",
       "    <tr>\n",
       "      <th>10</th>\n",
       "      <td>Company</td>\n",
       "      <td>0.485254</td>\n",
       "    </tr>\n",
       "    <tr>\n",
       "      <th>9</th>\n",
       "      <td>Manufacturer</td>\n",
       "      <td>0.464666</td>\n",
       "    </tr>\n",
       "    <tr>\n",
       "      <th>3</th>\n",
       "      <td>Specific Bean Origin or Bar Name</td>\n",
       "      <td>0.254839</td>\n",
       "    </tr>\n",
       "    <tr>\n",
       "      <th>27</th>\n",
       "      <td>rubbery</td>\n",
       "      <td>-0.211428</td>\n",
       "    </tr>\n",
       "    <tr>\n",
       "      <th>23</th>\n",
       "      <td>pungent</td>\n",
       "      <td>-0.210102</td>\n",
       "    </tr>\n",
       "    <tr>\n",
       "      <th>28</th>\n",
       "      <td>hammy</td>\n",
       "      <td>-0.183995</td>\n",
       "    </tr>\n",
       "    <tr>\n",
       "      <th>24</th>\n",
       "      <td>dirty</td>\n",
       "      <td>-0.181694</td>\n",
       "    </tr>\n",
       "    <tr>\n",
       "      <th>6</th>\n",
       "      <td>Sub-region_company</td>\n",
       "      <td>0.176973</td>\n",
       "    </tr>\n",
       "    <tr>\n",
       "      <th>31</th>\n",
       "      <td>bitter</td>\n",
       "      <td>-0.173216</td>\n",
       "    </tr>\n",
       "    <tr>\n",
       "      <th>29</th>\n",
       "      <td>bland</td>\n",
       "      <td>-0.168344</td>\n",
       "    </tr>\n",
       "    <tr>\n",
       "      <th>17</th>\n",
       "      <td>earthy</td>\n",
       "      <td>-0.149537</td>\n",
       "    </tr>\n",
       "    <tr>\n",
       "      <th>15</th>\n",
       "      <td>spicy</td>\n",
       "      <td>0.134706</td>\n",
       "    </tr>\n",
       "    <tr>\n",
       "      <th>30</th>\n",
       "      <td>off</td>\n",
       "      <td>-0.129815</td>\n",
       "    </tr>\n",
       "    <tr>\n",
       "      <th>19</th>\n",
       "      <td>sour</td>\n",
       "      <td>-0.123561</td>\n",
       "    </tr>\n",
       "    <tr>\n",
       "      <th>16</th>\n",
       "      <td>cocoa</td>\n",
       "      <td>0.113714</td>\n",
       "    </tr>\n",
       "    <tr>\n",
       "      <th>26</th>\n",
       "      <td>smokey</td>\n",
       "      <td>-0.105977</td>\n",
       "    </tr>\n",
       "    <tr>\n",
       "      <th>18</th>\n",
       "      <td>sweet</td>\n",
       "      <td>-0.105591</td>\n",
       "    </tr>\n",
       "    <tr>\n",
       "      <th>13</th>\n",
       "      <td>fruit</td>\n",
       "      <td>0.081515</td>\n",
       "    </tr>\n",
       "    <tr>\n",
       "      <th>32</th>\n",
       "      <td>astringent</td>\n",
       "      <td>-0.075107</td>\n",
       "    </tr>\n",
       "    <tr>\n",
       "      <th>35</th>\n",
       "      <td>S*</td>\n",
       "      <td>-0.073189</td>\n",
       "    </tr>\n",
       "    <tr>\n",
       "      <th>12</th>\n",
       "      <td>nutty</td>\n",
       "      <td>0.062210</td>\n",
       "    </tr>\n",
       "    <tr>\n",
       "      <th>14</th>\n",
       "      <td>floral</td>\n",
       "      <td>0.043049</td>\n",
       "    </tr>\n",
       "    <tr>\n",
       "      <th>22</th>\n",
       "      <td>grass</td>\n",
       "      <td>0.042816</td>\n",
       "    </tr>\n",
       "    <tr>\n",
       "      <th>25</th>\n",
       "      <td>musty</td>\n",
       "      <td>-0.038491</td>\n",
       "    </tr>\n",
       "    <tr>\n",
       "      <th>36</th>\n",
       "      <td>Sa</td>\n",
       "      <td>-0.033039</td>\n",
       "    </tr>\n",
       "    <tr>\n",
       "      <th>1</th>\n",
       "      <td>Review Date</td>\n",
       "      <td>-0.032719</td>\n",
       "    </tr>\n",
       "    <tr>\n",
       "      <th>11</th>\n",
       "      <td>isBlend</td>\n",
       "      <td>0.031931</td>\n",
       "    </tr>\n",
       "    <tr>\n",
       "      <th>37</th>\n",
       "      <td>V</td>\n",
       "      <td>-0.028735</td>\n",
       "    </tr>\n",
       "    <tr>\n",
       "      <th>21</th>\n",
       "      <td>dairy</td>\n",
       "      <td>-0.025319</td>\n",
       "    </tr>\n",
       "    <tr>\n",
       "      <th>20</th>\n",
       "      <td>roasty</td>\n",
       "      <td>-0.022908</td>\n",
       "    </tr>\n",
       "    <tr>\n",
       "      <th>5</th>\n",
       "      <td>Continent_company</td>\n",
       "      <td>-0.019351</td>\n",
       "    </tr>\n",
       "    <tr>\n",
       "      <th>0</th>\n",
       "      <td>Company Location</td>\n",
       "      <td>0.016939</td>\n",
       "    </tr>\n",
       "    <tr>\n",
       "      <th>34</th>\n",
       "      <td>L</td>\n",
       "      <td>-0.008952</td>\n",
       "    </tr>\n",
       "    <tr>\n",
       "      <th>8</th>\n",
       "      <td>Sub-region_origin</td>\n",
       "      <td>0.006180</td>\n",
       "    </tr>\n",
       "    <tr>\n",
       "      <th>2</th>\n",
       "      <td>Country of Bean Origin</td>\n",
       "      <td>-0.003853</td>\n",
       "    </tr>\n",
       "    <tr>\n",
       "      <th>33</th>\n",
       "      <td>C</td>\n",
       "      <td>-0.002165</td>\n",
       "    </tr>\n",
       "  </tbody>\n",
       "</table>\n",
       "</div>"
      ],
      "text/plain": [
       "                             feature      coef\n",
       "4                      Cocoa Percent  0.650457\n",
       "7                   Continent_origin  0.637516\n",
       "10                           Company  0.485254\n",
       "9                       Manufacturer  0.464666\n",
       "3   Specific Bean Origin or Bar Name  0.254839\n",
       "27                           rubbery -0.211428\n",
       "23                           pungent -0.210102\n",
       "28                             hammy -0.183995\n",
       "24                             dirty -0.181694\n",
       "6                 Sub-region_company  0.176973\n",
       "31                            bitter -0.173216\n",
       "29                             bland -0.168344\n",
       "17                            earthy -0.149537\n",
       "15                             spicy  0.134706\n",
       "30                               off -0.129815\n",
       "19                              sour -0.123561\n",
       "16                             cocoa  0.113714\n",
       "26                            smokey -0.105977\n",
       "18                             sweet -0.105591\n",
       "13                             fruit  0.081515\n",
       "32                        astringent -0.075107\n",
       "35                                S* -0.073189\n",
       "12                             nutty  0.062210\n",
       "14                            floral  0.043049\n",
       "22                             grass  0.042816\n",
       "25                             musty -0.038491\n",
       "36                                Sa -0.033039\n",
       "1                        Review Date -0.032719\n",
       "11                           isBlend  0.031931\n",
       "37                                 V -0.028735\n",
       "21                             dairy -0.025319\n",
       "20                            roasty -0.022908\n",
       "5                  Continent_company -0.019351\n",
       "0                   Company Location  0.016939\n",
       "34                                 L -0.008952\n",
       "8                  Sub-region_origin  0.006180\n",
       "2             Country of Bean Origin -0.003853\n",
       "33                                 C -0.002165"
      ]
     },
     "execution_count": 72,
     "metadata": {},
     "output_type": "execute_result"
    }
   ],
   "source": [
    "coefs = pd.DataFrame({'feature': feature_names, 'coef': lr_mod['lr'].coef_})\n",
    "coefs['abs_coef'] = np.abs(coefs['coef'])\n",
    "coefs.sort_values('abs_coef', ascending=False).drop('abs_coef', axis=1)"
   ]
  },
  {
   "cell_type": "markdown",
   "metadata": {},
   "source": [
    "### Lasso regression"
   ]
  },
  {
   "cell_type": "code",
   "execution_count": 79,
   "metadata": {},
   "outputs": [
    {
     "data": {
      "text/plain": [
       "HashingEncoder        0.406842\n",
       "CatBoostEncoder       0.407948\n",
       "LeaveOneOutEncoder    0.408213\n",
       "TargetEncoder         0.408626\n",
       "BinaryEncoder         0.409286\n",
       "JamesSteinEncoder     0.423276\n",
       "GLMMEncoder           0.423418\n",
       "MEstimateEncoder      0.433513\n",
       "OrdinalEncoder        0.434596\n",
       "dtype: float64"
      ]
     },
     "execution_count": 79,
     "metadata": {},
     "output_type": "execute_result"
    }
   ],
   "source": [
    "eval_encoders(LassoCV(max_iter=2000))"
   ]
  },
  {
   "cell_type": "code",
   "execution_count": 81,
   "metadata": {},
   "outputs": [
    {
     "data": {
      "text/plain": [
       "Pipeline(steps=[('cat_enc', <__main__.CatEncoder object at 0x0000020935307A08>),\n",
       "                ('scaler',\n",
       "                 ColumnTransformer(remainder='passthrough',\n",
       "                                   transformers=[('num', StandardScaler(),\n",
       "                                                  ['Review Date',\n",
       "                                                   'Cocoa Percent'])])),\n",
       "                ('lasso', LassoCV(max_iter=2000))])"
      ]
     },
     "execution_count": 81,
     "metadata": {},
     "output_type": "execute_result"
    }
   ],
   "source": [
    "lasso_mod = Pipeline([('cat_enc',CatEncoder('HashingEncoder')), \n",
    "                    ('scaler', num_enc), \n",
    "                    ('lasso', LassoCV(max_iter=2000))])\n",
    "\n",
    "lasso_mod.fit(X_train, y_train)"
   ]
  },
  {
   "cell_type": "code",
   "execution_count": 82,
   "metadata": {},
   "outputs": [
    {
     "data": {
      "text/plain": [
       "0.0001782898167526528"
      ]
     },
     "execution_count": 82,
     "metadata": {},
     "output_type": "execute_result"
    }
   ],
   "source": [
    "lasso_mod['lasso'].alpha_"
   ]
  },
  {
   "cell_type": "code",
   "execution_count": 83,
   "metadata": {},
   "outputs": [
    {
     "name": "stdout",
     "output_type": "stream",
     "text": [
      "RMSE: 0.40684179554171135\n",
      "MAE: 0.3212007056804827\n",
      "R^2: 0.23824734953555482\n"
     ]
    }
   ],
   "source": [
    "eval_mod(lasso_mod)"
   ]
  },
  {
   "cell_type": "code",
   "execution_count": 84,
   "metadata": {
    "scrolled": true
   },
   "outputs": [
    {
     "ename": "ValueError",
     "evalue": "arrays must all be same length",
     "output_type": "error",
     "traceback": [
      "\u001b[1;31m---------------------------------------------------------------------------\u001b[0m",
      "\u001b[1;31mValueError\u001b[0m                                Traceback (most recent call last)",
      "\u001b[1;32m<ipython-input-84-d13f8a59ad51>\u001b[0m in \u001b[0;36m<module>\u001b[1;34m\u001b[0m\n\u001b[1;32m----> 1\u001b[1;33m \u001b[0mcoefs\u001b[0m \u001b[1;33m=\u001b[0m \u001b[0mpd\u001b[0m\u001b[1;33m.\u001b[0m\u001b[0mDataFrame\u001b[0m\u001b[1;33m(\u001b[0m\u001b[1;33m{\u001b[0m\u001b[1;34m'feature'\u001b[0m\u001b[1;33m:\u001b[0m \u001b[0mfeature_names\u001b[0m\u001b[1;33m,\u001b[0m \u001b[1;34m'coef'\u001b[0m\u001b[1;33m:\u001b[0m \u001b[0mlasso_mod\u001b[0m\u001b[1;33m[\u001b[0m\u001b[1;34m'lasso'\u001b[0m\u001b[1;33m]\u001b[0m\u001b[1;33m.\u001b[0m\u001b[0mcoef_\u001b[0m\u001b[1;33m}\u001b[0m\u001b[1;33m)\u001b[0m\u001b[1;33m\u001b[0m\u001b[1;33m\u001b[0m\u001b[0m\n\u001b[0m\u001b[0;32m      2\u001b[0m \u001b[0mcoefs\u001b[0m\u001b[1;33m[\u001b[0m\u001b[1;34m'abs_coef'\u001b[0m\u001b[1;33m]\u001b[0m \u001b[1;33m=\u001b[0m \u001b[0mnp\u001b[0m\u001b[1;33m.\u001b[0m\u001b[0mabs\u001b[0m\u001b[1;33m(\u001b[0m\u001b[0mcoefs\u001b[0m\u001b[1;33m[\u001b[0m\u001b[1;34m'coef'\u001b[0m\u001b[1;33m]\u001b[0m\u001b[1;33m)\u001b[0m\u001b[1;33m\u001b[0m\u001b[1;33m\u001b[0m\u001b[0m\n\u001b[0;32m      3\u001b[0m \u001b[0mcoefs\u001b[0m\u001b[1;33m.\u001b[0m\u001b[0msort_values\u001b[0m\u001b[1;33m(\u001b[0m\u001b[1;34m'abs_coef'\u001b[0m\u001b[1;33m,\u001b[0m \u001b[0mascending\u001b[0m\u001b[1;33m=\u001b[0m\u001b[1;32mFalse\u001b[0m\u001b[1;33m)\u001b[0m\u001b[1;33m.\u001b[0m\u001b[0mdrop\u001b[0m\u001b[1;33m(\u001b[0m\u001b[1;34m'abs_coef'\u001b[0m\u001b[1;33m,\u001b[0m \u001b[0maxis\u001b[0m\u001b[1;33m=\u001b[0m\u001b[1;36m1\u001b[0m\u001b[1;33m)\u001b[0m\u001b[1;33m\u001b[0m\u001b[1;33m\u001b[0m\u001b[0m\n",
      "\u001b[1;32m~\\Anaconda3\\lib\\site-packages\\pandas\\core\\frame.py\u001b[0m in \u001b[0;36m__init__\u001b[1;34m(self, data, index, columns, dtype, copy)\u001b[0m\n\u001b[0;32m    433\u001b[0m             )\n\u001b[0;32m    434\u001b[0m         \u001b[1;32melif\u001b[0m \u001b[0misinstance\u001b[0m\u001b[1;33m(\u001b[0m\u001b[0mdata\u001b[0m\u001b[1;33m,\u001b[0m \u001b[0mdict\u001b[0m\u001b[1;33m)\u001b[0m\u001b[1;33m:\u001b[0m\u001b[1;33m\u001b[0m\u001b[1;33m\u001b[0m\u001b[0m\n\u001b[1;32m--> 435\u001b[1;33m             \u001b[0mmgr\u001b[0m \u001b[1;33m=\u001b[0m \u001b[0minit_dict\u001b[0m\u001b[1;33m(\u001b[0m\u001b[0mdata\u001b[0m\u001b[1;33m,\u001b[0m \u001b[0mindex\u001b[0m\u001b[1;33m,\u001b[0m \u001b[0mcolumns\u001b[0m\u001b[1;33m,\u001b[0m \u001b[0mdtype\u001b[0m\u001b[1;33m=\u001b[0m\u001b[0mdtype\u001b[0m\u001b[1;33m)\u001b[0m\u001b[1;33m\u001b[0m\u001b[1;33m\u001b[0m\u001b[0m\n\u001b[0m\u001b[0;32m    436\u001b[0m         \u001b[1;32melif\u001b[0m \u001b[0misinstance\u001b[0m\u001b[1;33m(\u001b[0m\u001b[0mdata\u001b[0m\u001b[1;33m,\u001b[0m \u001b[0mma\u001b[0m\u001b[1;33m.\u001b[0m\u001b[0mMaskedArray\u001b[0m\u001b[1;33m)\u001b[0m\u001b[1;33m:\u001b[0m\u001b[1;33m\u001b[0m\u001b[1;33m\u001b[0m\u001b[0m\n\u001b[0;32m    437\u001b[0m             \u001b[1;32mimport\u001b[0m \u001b[0mnumpy\u001b[0m\u001b[1;33m.\u001b[0m\u001b[0mma\u001b[0m\u001b[1;33m.\u001b[0m\u001b[0mmrecords\u001b[0m \u001b[1;32mas\u001b[0m \u001b[0mmrecords\u001b[0m\u001b[1;33m\u001b[0m\u001b[1;33m\u001b[0m\u001b[0m\n",
      "\u001b[1;32m~\\Anaconda3\\lib\\site-packages\\pandas\\core\\internals\\construction.py\u001b[0m in \u001b[0;36minit_dict\u001b[1;34m(data, index, columns, dtype)\u001b[0m\n\u001b[0;32m    252\u001b[0m             \u001b[0marr\u001b[0m \u001b[1;32mif\u001b[0m \u001b[1;32mnot\u001b[0m \u001b[0mis_datetime64tz_dtype\u001b[0m\u001b[1;33m(\u001b[0m\u001b[0marr\u001b[0m\u001b[1;33m)\u001b[0m \u001b[1;32melse\u001b[0m \u001b[0marr\u001b[0m\u001b[1;33m.\u001b[0m\u001b[0mcopy\u001b[0m\u001b[1;33m(\u001b[0m\u001b[1;33m)\u001b[0m \u001b[1;32mfor\u001b[0m \u001b[0marr\u001b[0m \u001b[1;32min\u001b[0m \u001b[0marrays\u001b[0m\u001b[1;33m\u001b[0m\u001b[1;33m\u001b[0m\u001b[0m\n\u001b[0;32m    253\u001b[0m         ]\n\u001b[1;32m--> 254\u001b[1;33m     \u001b[1;32mreturn\u001b[0m \u001b[0marrays_to_mgr\u001b[0m\u001b[1;33m(\u001b[0m\u001b[0marrays\u001b[0m\u001b[1;33m,\u001b[0m \u001b[0mdata_names\u001b[0m\u001b[1;33m,\u001b[0m \u001b[0mindex\u001b[0m\u001b[1;33m,\u001b[0m \u001b[0mcolumns\u001b[0m\u001b[1;33m,\u001b[0m \u001b[0mdtype\u001b[0m\u001b[1;33m=\u001b[0m\u001b[0mdtype\u001b[0m\u001b[1;33m)\u001b[0m\u001b[1;33m\u001b[0m\u001b[1;33m\u001b[0m\u001b[0m\n\u001b[0m\u001b[0;32m    255\u001b[0m \u001b[1;33m\u001b[0m\u001b[0m\n\u001b[0;32m    256\u001b[0m \u001b[1;33m\u001b[0m\u001b[0m\n",
      "\u001b[1;32m~\\Anaconda3\\lib\\site-packages\\pandas\\core\\internals\\construction.py\u001b[0m in \u001b[0;36marrays_to_mgr\u001b[1;34m(arrays, arr_names, index, columns, dtype)\u001b[0m\n\u001b[0;32m     62\u001b[0m     \u001b[1;31m# figure out the index, if necessary\u001b[0m\u001b[1;33m\u001b[0m\u001b[1;33m\u001b[0m\u001b[1;33m\u001b[0m\u001b[0m\n\u001b[0;32m     63\u001b[0m     \u001b[1;32mif\u001b[0m \u001b[0mindex\u001b[0m \u001b[1;32mis\u001b[0m \u001b[1;32mNone\u001b[0m\u001b[1;33m:\u001b[0m\u001b[1;33m\u001b[0m\u001b[1;33m\u001b[0m\u001b[0m\n\u001b[1;32m---> 64\u001b[1;33m         \u001b[0mindex\u001b[0m \u001b[1;33m=\u001b[0m \u001b[0mextract_index\u001b[0m\u001b[1;33m(\u001b[0m\u001b[0marrays\u001b[0m\u001b[1;33m)\u001b[0m\u001b[1;33m\u001b[0m\u001b[1;33m\u001b[0m\u001b[0m\n\u001b[0m\u001b[0;32m     65\u001b[0m     \u001b[1;32melse\u001b[0m\u001b[1;33m:\u001b[0m\u001b[1;33m\u001b[0m\u001b[1;33m\u001b[0m\u001b[0m\n\u001b[0;32m     66\u001b[0m         \u001b[0mindex\u001b[0m \u001b[1;33m=\u001b[0m \u001b[0mensure_index\u001b[0m\u001b[1;33m(\u001b[0m\u001b[0mindex\u001b[0m\u001b[1;33m)\u001b[0m\u001b[1;33m\u001b[0m\u001b[1;33m\u001b[0m\u001b[0m\n",
      "\u001b[1;32m~\\Anaconda3\\lib\\site-packages\\pandas\\core\\internals\\construction.py\u001b[0m in \u001b[0;36mextract_index\u001b[1;34m(data)\u001b[0m\n\u001b[0;32m    363\u001b[0m             \u001b[0mlengths\u001b[0m \u001b[1;33m=\u001b[0m \u001b[0mlist\u001b[0m\u001b[1;33m(\u001b[0m\u001b[0mset\u001b[0m\u001b[1;33m(\u001b[0m\u001b[0mraw_lengths\u001b[0m\u001b[1;33m)\u001b[0m\u001b[1;33m)\u001b[0m\u001b[1;33m\u001b[0m\u001b[1;33m\u001b[0m\u001b[0m\n\u001b[0;32m    364\u001b[0m             \u001b[1;32mif\u001b[0m \u001b[0mlen\u001b[0m\u001b[1;33m(\u001b[0m\u001b[0mlengths\u001b[0m\u001b[1;33m)\u001b[0m \u001b[1;33m>\u001b[0m \u001b[1;36m1\u001b[0m\u001b[1;33m:\u001b[0m\u001b[1;33m\u001b[0m\u001b[1;33m\u001b[0m\u001b[0m\n\u001b[1;32m--> 365\u001b[1;33m                 \u001b[1;32mraise\u001b[0m \u001b[0mValueError\u001b[0m\u001b[1;33m(\u001b[0m\u001b[1;34m\"arrays must all be same length\"\u001b[0m\u001b[1;33m)\u001b[0m\u001b[1;33m\u001b[0m\u001b[1;33m\u001b[0m\u001b[0m\n\u001b[0m\u001b[0;32m    366\u001b[0m \u001b[1;33m\u001b[0m\u001b[0m\n\u001b[0;32m    367\u001b[0m             \u001b[1;32mif\u001b[0m \u001b[0mhave_dicts\u001b[0m\u001b[1;33m:\u001b[0m\u001b[1;33m\u001b[0m\u001b[1;33m\u001b[0m\u001b[0m\n",
      "\u001b[1;31mValueError\u001b[0m: arrays must all be same length"
     ]
    }
   ],
   "source": [
    "coefs = pd.DataFrame({'feature': feature_names, 'coef': lasso_mod['lasso'].coef_})\n",
    "coefs['abs_coef'] = np.abs(coefs['coef'])\n",
    "coefs.sort_values('abs_coef', ascending=False).drop('abs_coef', axis=1)"
   ]
  },
  {
   "cell_type": "markdown",
   "metadata": {},
   "source": [
    "### Ridge regression"
   ]
  },
  {
   "cell_type": "code",
   "execution_count": 80,
   "metadata": {},
   "outputs": [
    {
     "data": {
      "text/plain": [
       "CatBoostEncoder       0.405092\n",
       "TargetEncoder         0.406194\n",
       "LeaveOneOutEncoder    0.406605\n",
       "HashingEncoder        0.406889\n",
       "OrdinalEncoder        0.408863\n",
       "BinaryEncoder         0.411557\n",
       "JamesSteinEncoder     0.420482\n",
       "GLMMEncoder           0.423140\n",
       "MEstimateEncoder      0.429692\n",
       "dtype: float64"
      ]
     },
     "execution_count": 80,
     "metadata": {},
     "output_type": "execute_result"
    }
   ],
   "source": [
    "eval_encoders(RidgeCV(alphas=np.logspace(-2, 2, num=5)))"
   ]
  },
  {
   "cell_type": "code",
   "execution_count": 85,
   "metadata": {},
   "outputs": [
    {
     "data": {
      "text/plain": [
       "Pipeline(steps=[('cat_enc', <__main__.CatEncoder object at 0x0000020935880E08>),\n",
       "                ('scaler',\n",
       "                 ColumnTransformer(remainder='passthrough',\n",
       "                                   transformers=[('num', StandardScaler(),\n",
       "                                                  ['Review Date',\n",
       "                                                   'Cocoa Percent'])])),\n",
       "                ('ridge',\n",
       "                 RidgeCV(alphas=array([1.e-02, 1.e-01, 1.e+00, 1.e+01, 1.e+02])))])"
      ]
     },
     "execution_count": 85,
     "metadata": {},
     "output_type": "execute_result"
    }
   ],
   "source": [
    "ridge_mod = Pipeline([('cat_enc',CatEncoder('CatBoostEncoder')), \n",
    "                    ('scaler', num_enc), \n",
    "                    ('ridge', RidgeCV(alphas=np.logspace(-2, 2, num=5)))])\n",
    "\n",
    "ridge_mod.fit(X_train, y_train)"
   ]
  },
  {
   "cell_type": "code",
   "execution_count": 86,
   "metadata": {},
   "outputs": [
    {
     "data": {
      "text/plain": [
       "10.0"
      ]
     },
     "execution_count": 86,
     "metadata": {},
     "output_type": "execute_result"
    }
   ],
   "source": [
    "ridge_mod['ridge'].alpha_"
   ]
  },
  {
   "cell_type": "code",
   "execution_count": 87,
   "metadata": {},
   "outputs": [
    {
     "name": "stdout",
     "output_type": "stream",
     "text": [
      "RMSE: 0.40509218512814593\n",
      "MAE: 0.31521091009237906\n",
      "R^2: 0.2447850485416425\n"
     ]
    }
   ],
   "source": [
    "eval_mod(ridge_mod)"
   ]
  },
  {
   "cell_type": "markdown",
   "metadata": {},
   "source": [
    "### Feature importance"
   ]
  },
  {
   "cell_type": "code",
   "execution_count": 52,
   "metadata": {},
   "outputs": [],
   "source": [
    "pi = permutation_importance(lr_mod, X_train, y_train, \n",
    "                            n_repeats=10, random_state=42)"
   ]
  },
  {
   "cell_type": "code",
   "execution_count": 53,
   "metadata": {},
   "outputs": [],
   "source": [
    "perm_sorted_idx = (-pi.importances_mean).argsort()"
   ]
  },
  {
   "cell_type": "code",
   "execution_count": 54,
   "metadata": {},
   "outputs": [
    {
     "data": {
      "text/html": [
       "<div>\n",
       "<style scoped>\n",
       "    .dataframe tbody tr th:only-of-type {\n",
       "        vertical-align: middle;\n",
       "    }\n",
       "\n",
       "    .dataframe tbody tr th {\n",
       "        vertical-align: top;\n",
       "    }\n",
       "\n",
       "    .dataframe thead th {\n",
       "        text-align: right;\n",
       "    }\n",
       "</style>\n",
       "<table border=\"1\" class=\"dataframe\">\n",
       "  <thead>\n",
       "    <tr style=\"text-align: right;\">\n",
       "      <th></th>\n",
       "      <th>Company</th>\n",
       "      <th>Manufacturer</th>\n",
       "      <th>Specific Bean Origin or Bar Name</th>\n",
       "    </tr>\n",
       "  </thead>\n",
       "  <tbody>\n",
       "    <tr>\n",
       "      <th>0</th>\n",
       "      <td>0.125105</td>\n",
       "      <td>0.119416</td>\n",
       "      <td>0.078776</td>\n",
       "    </tr>\n",
       "    <tr>\n",
       "      <th>1</th>\n",
       "      <td>0.083690</td>\n",
       "      <td>0.077070</td>\n",
       "      <td>0.071739</td>\n",
       "    </tr>\n",
       "    <tr>\n",
       "      <th>2</th>\n",
       "      <td>0.112418</td>\n",
       "      <td>0.102213</td>\n",
       "      <td>0.064858</td>\n",
       "    </tr>\n",
       "    <tr>\n",
       "      <th>3</th>\n",
       "      <td>0.118817</td>\n",
       "      <td>0.108759</td>\n",
       "      <td>0.061722</td>\n",
       "    </tr>\n",
       "    <tr>\n",
       "      <th>4</th>\n",
       "      <td>0.100641</td>\n",
       "      <td>0.092273</td>\n",
       "      <td>0.068414</td>\n",
       "    </tr>\n",
       "    <tr>\n",
       "      <th>5</th>\n",
       "      <td>0.106091</td>\n",
       "      <td>0.097739</td>\n",
       "      <td>0.070817</td>\n",
       "    </tr>\n",
       "    <tr>\n",
       "      <th>6</th>\n",
       "      <td>0.108432</td>\n",
       "      <td>0.098974</td>\n",
       "      <td>0.076222</td>\n",
       "    </tr>\n",
       "    <tr>\n",
       "      <th>7</th>\n",
       "      <td>0.109429</td>\n",
       "      <td>0.102258</td>\n",
       "      <td>0.071143</td>\n",
       "    </tr>\n",
       "    <tr>\n",
       "      <th>8</th>\n",
       "      <td>0.109787</td>\n",
       "      <td>0.104547</td>\n",
       "      <td>0.062118</td>\n",
       "    </tr>\n",
       "    <tr>\n",
       "      <th>9</th>\n",
       "      <td>0.110567</td>\n",
       "      <td>0.099620</td>\n",
       "      <td>0.078315</td>\n",
       "    </tr>\n",
       "  </tbody>\n",
       "</table>\n",
       "</div>"
      ],
      "text/plain": [
       "    Company  Manufacturer  Specific Bean Origin or Bar Name\n",
       "0  0.125105      0.119416                          0.078776\n",
       "1  0.083690      0.077070                          0.071739\n",
       "2  0.112418      0.102213                          0.064858\n",
       "3  0.118817      0.108759                          0.061722\n",
       "4  0.100641      0.092273                          0.068414\n",
       "5  0.106091      0.097739                          0.070817\n",
       "6  0.108432      0.098974                          0.076222\n",
       "7  0.109429      0.102258                          0.071143\n",
       "8  0.109787      0.104547                          0.062118\n",
       "9  0.110567      0.099620                          0.078315"
      ]
     },
     "execution_count": 54,
     "metadata": {},
     "output_type": "execute_result"
    }
   ],
   "source": [
    "importances = pd.DataFrame(pi.importances[perm_sorted_idx].T, columns=feature_names[perm_sorted_idx])\n",
    "importances.iloc[:, :3]"
   ]
  },
  {
   "cell_type": "code",
   "execution_count": 55,
   "metadata": {},
   "outputs": [
    {
     "data": {
      "image/png": "[encoded data removed]",
      "text/plain": [
       "<Figure size 1080x432 with 1 Axes>"
      ]
     },
     "metadata": {
      "needs_background": "light"
     },
     "output_type": "display_data"
    }
   ],
   "source": [
    "fig, ax = plt.subplots(figsize=(15, 6))\n",
    "importances.iloc[:, :10].boxplot()\n",
    "plt.xticks(rotation=90);"
   ]
  },
  {
   "cell_type": "code",
   "execution_count": 56,
   "metadata": {},
   "outputs": [
    {
     "data": {
      "image/png": "[encoded data removed]",
      "text/plain": [
       "<Figure size 432x288 with 1 Axes>"
      ]
     },
     "metadata": {
      "needs_background": "light"
     },
     "output_type": "display_data"
    }
   ],
   "source": [
    "sns.boxplot(x=\"variable\", y=\"value\", data=pd.melt(importances));"
   ]
  },
  {
   "cell_type": "code",
   "execution_count": 57,
   "metadata": {},
   "outputs": [
    {
     "data": {
      "text/html": [
       "<div>\n",
       "<style scoped>\n",
       "    .dataframe tbody tr th:only-of-type {\n",
       "        vertical-align: middle;\n",
       "    }\n",
       "\n",
       "    .dataframe tbody tr th {\n",
       "        vertical-align: top;\n",
       "    }\n",
       "\n",
       "    .dataframe thead th {\n",
       "        text-align: right;\n",
       "    }\n",
       "</style>\n",
       "<table border=\"1\" class=\"dataframe\">\n",
       "  <thead>\n",
       "    <tr style=\"text-align: right;\">\n",
       "      <th></th>\n",
       "      <th>feature</th>\n",
       "      <th>importances_mean</th>\n",
       "      <th>importances_std</th>\n",
       "    </tr>\n",
       "  </thead>\n",
       "  <tbody>\n",
       "    <tr>\n",
       "      <th>10</th>\n",
       "      <td>Company</td>\n",
       "      <td>0.108498</td>\n",
       "      <td>0.010428</td>\n",
       "    </tr>\n",
       "    <tr>\n",
       "      <th>9</th>\n",
       "      <td>Manufacturer</td>\n",
       "      <td>0.100287</td>\n",
       "      <td>0.010370</td>\n",
       "    </tr>\n",
       "    <tr>\n",
       "      <th>3</th>\n",
       "      <td>Specific Bean Origin or Bar Name</td>\n",
       "      <td>0.070412</td>\n",
       "      <td>0.005897</td>\n",
       "    </tr>\n",
       "    <tr>\n",
       "      <th>16</th>\n",
       "      <td>cocoa</td>\n",
       "      <td>0.016952</td>\n",
       "      <td>0.003560</td>\n",
       "    </tr>\n",
       "    <tr>\n",
       "      <th>17</th>\n",
       "      <td>earthy</td>\n",
       "      <td>0.016918</td>\n",
       "      <td>0.004675</td>\n",
       "    </tr>\n",
       "    <tr>\n",
       "      <th>31</th>\n",
       "      <td>bitter</td>\n",
       "      <td>0.015323</td>\n",
       "      <td>0.002204</td>\n",
       "    </tr>\n",
       "    <tr>\n",
       "      <th>30</th>\n",
       "      <td>off</td>\n",
       "      <td>0.013574</td>\n",
       "      <td>0.002423</td>\n",
       "    </tr>\n",
       "    <tr>\n",
       "      <th>4</th>\n",
       "      <td>Cocoa Percent</td>\n",
       "      <td>0.012363</td>\n",
       "      <td>0.001845</td>\n",
       "    </tr>\n",
       "    <tr>\n",
       "      <th>15</th>\n",
       "      <td>spicy</td>\n",
       "      <td>0.011369</td>\n",
       "      <td>0.002693</td>\n",
       "    </tr>\n",
       "    <tr>\n",
       "      <th>19</th>\n",
       "      <td>sour</td>\n",
       "      <td>0.011280</td>\n",
       "      <td>0.002380</td>\n",
       "    </tr>\n",
       "    <tr>\n",
       "      <th>18</th>\n",
       "      <td>sweet</td>\n",
       "      <td>0.010964</td>\n",
       "      <td>0.002092</td>\n",
       "    </tr>\n",
       "    <tr>\n",
       "      <th>23</th>\n",
       "      <td>pungent</td>\n",
       "      <td>0.007507</td>\n",
       "      <td>0.002597</td>\n",
       "    </tr>\n",
       "    <tr>\n",
       "      <th>13</th>\n",
       "      <td>fruit</td>\n",
       "      <td>0.007480</td>\n",
       "      <td>0.002064</td>\n",
       "    </tr>\n",
       "    <tr>\n",
       "      <th>27</th>\n",
       "      <td>rubbery</td>\n",
       "      <td>0.005602</td>\n",
       "      <td>0.001188</td>\n",
       "    </tr>\n",
       "    <tr>\n",
       "      <th>7</th>\n",
       "      <td>Continent_origin</td>\n",
       "      <td>0.004530</td>\n",
       "      <td>0.001709</td>\n",
       "    </tr>\n",
       "  </tbody>\n",
       "</table>\n",
       "</div>"
      ],
      "text/plain": [
       "                             feature  importances_mean  importances_std\n",
       "10                           Company          0.108498         0.010428\n",
       "9                       Manufacturer          0.100287         0.010370\n",
       "3   Specific Bean Origin or Bar Name          0.070412         0.005897\n",
       "16                             cocoa          0.016952         0.003560\n",
       "17                            earthy          0.016918         0.004675\n",
       "31                            bitter          0.015323         0.002204\n",
       "30                               off          0.013574         0.002423\n",
       "4                      Cocoa Percent          0.012363         0.001845\n",
       "15                             spicy          0.011369         0.002693\n",
       "19                              sour          0.011280         0.002380\n",
       "18                             sweet          0.010964         0.002092\n",
       "23                           pungent          0.007507         0.002597\n",
       "13                             fruit          0.007480         0.002064\n",
       "27                           rubbery          0.005602         0.001188\n",
       "7                   Continent_origin          0.004530         0.001709"
      ]
     },
     "execution_count": 57,
     "metadata": {},
     "output_type": "execute_result"
    }
   ],
   "source": [
    "importances = pd.DataFrame({'feature': feature_names, \n",
    "                            'importances_mean': pi.importances_mean, \n",
    "                            'importances_std': pi.importances_std})\n",
    "importances.sort_values('importances_mean', ascending=False)[:15]"
   ]
  },
  {
   "cell_type": "markdown",
   "metadata": {},
   "source": [
    "## SVM"
   ]
  },
  {
   "cell_type": "code",
   "execution_count": 88,
   "metadata": {},
   "outputs": [
    {
     "data": {
      "text/plain": [
       "GLMMEncoder           0.396141\n",
       "CatBoostEncoder       0.401887\n",
       "TargetEncoder         0.402645\n",
       "LeaveOneOutEncoder    0.403652\n",
       "BinaryEncoder         0.406927\n",
       "HashingEncoder        0.413892\n",
       "MEstimateEncoder      0.414953\n",
       "JamesSteinEncoder     0.420034\n",
       "OrdinalEncoder        0.480944\n",
       "dtype: float64"
      ]
     },
     "execution_count": 88,
     "metadata": {},
     "output_type": "execute_result"
    }
   ],
   "source": [
    "eval_encoders(SVR())"
   ]
  },
  {
   "cell_type": "code",
   "execution_count": 58,
   "metadata": {},
   "outputs": [
    {
     "data": {
      "text/plain": [
       "Pipeline(steps=[('cat_enc', <__main__.CatEncoder object at 0x0000020935307C08>),\n",
       "                ('scaler',\n",
       "                 ColumnTransformer(remainder='passthrough',\n",
       "                                   transformers=[('num', StandardScaler(),\n",
       "                                                  ['Review Date',\n",
       "                                                   'Cocoa Percent'])])),\n",
       "                ('svr', SVR())])"
      ]
     },
     "execution_count": 58,
     "metadata": {},
     "output_type": "execute_result"
    }
   ],
   "source": [
    "svr_mod = Pipeline([('cat_enc', CatEncoder('GLMMEncoder')), \n",
    "                   ('scaler', num_enc), \n",
    "                   ('svr', SVR())])\n",
    "svr_mod.fit(X_train, y_train)"
   ]
  },
  {
   "cell_type": "code",
   "execution_count": 59,
   "metadata": {},
   "outputs": [
    {
     "name": "stdout",
     "output_type": "stream",
     "text": [
      "RMSE: 0.3961410508340308\n",
      "MAE: 0.3128589969084083\n",
      "R^2: 0.2777915792362641\n"
     ]
    }
   ],
   "source": [
    "eval_mod(svr_mod)"
   ]
  },
  {
   "cell_type": "code",
   "execution_count": 168,
   "metadata": {},
   "outputs": [
    {
     "name": "stdout",
     "output_type": "stream",
     "text": [
      "Fitting 5 folds for each of 60 candidates, totalling 300 fits\n"
     ]
    },
    {
     "name": "stderr",
     "output_type": "stream",
     "text": [
      "[Parallel(n_jobs=-1)]: Using backend LokyBackend with 8 concurrent workers.\n",
      "[Parallel(n_jobs=-1)]: Done  16 tasks      | elapsed:   41.0s\n",
      "[Parallel(n_jobs=-1)]: Done 112 tasks      | elapsed:  4.0min\n",
      "[Parallel(n_jobs=-1)]: Done 272 tasks      | elapsed: 10.0min\n",
      "[Parallel(n_jobs=-1)]: Done 300 out of 300 | elapsed: 10.9min finished\n"
     ]
    },
    {
     "data": {
      "text/plain": [
       "GridSearchCV(cv=5,\n",
       "             estimator=Pipeline(steps=[('cat_enc',\n",
       "                                        <__main__.CatEncoder object at 0x0000022BAC632FC8>),\n",
       "                                       ('scaler',\n",
       "                                        ColumnTransformer(remainder='passthrough',\n",
       "                                                          transformers=[('num',\n",
       "                                                                         StandardScaler(),\n",
       "                                                                         ['Review '\n",
       "                                                                          'Date',\n",
       "                                                                          'Cocoa '\n",
       "                                                                          'Percent'])])),\n",
       "                                       ('svr', SVR())]),\n",
       "             n_jobs=-1,\n",
       "             param_grid={'svr__C': [0.03, 0.1, 0.3, 1, 3],\n",
       "                         'svr__epsilon': [0.03, 0.1, 0.3, 1],\n",
       "                         'svr__kernel': ['rbf', 'linear', 'poly']},\n",
       "             return_train_score=True, scoring='neg_root_mean_squared_error',\n",
       "             verbose=3)"
      ]
     },
     "execution_count": 168,
     "metadata": {},
     "output_type": "execute_result"
    }
   ],
   "source": [
    "params = {'svr__kernel': ['rbf', 'linear', 'poly'], \n",
    "          'svr__C': [0.03, 0.1, 0.3, 1, 3], \n",
    "          'svr__epsilon': [0.03, 0.1, 0.3, 1]}\n",
    "\n",
    "gs = GridSearchCV(svr_mod, params, \n",
    "                  cv=5, \n",
    "                  scoring='neg_root_mean_squared_error', \n",
    "                  return_train_score=True,\n",
    "                  n_jobs=-1,\n",
    "                  verbose=3)\n",
    "gs.fit(X_train, y_train)"
   ]
  },
  {
   "cell_type": "code",
   "execution_count": 169,
   "metadata": {},
   "outputs": [
    {
     "data": {
      "text/plain": [
       "{'svr__C': 0.1, 'svr__epsilon': 0.03, 'svr__kernel': 'rbf'}"
      ]
     },
     "execution_count": 169,
     "metadata": {},
     "output_type": "execute_result"
    }
   ],
   "source": [
    "# Show best parameters\n",
    "gs.best_params_"
   ]
  },
  {
   "cell_type": "code",
   "execution_count": 170,
   "metadata": {
    "scrolled": true
   },
   "outputs": [
    {
     "data": {
      "text/html": [
       "<div>\n",
       "<style scoped>\n",
       "    .dataframe tbody tr th:only-of-type {\n",
       "        vertical-align: middle;\n",
       "    }\n",
       "\n",
       "    .dataframe tbody tr th {\n",
       "        vertical-align: top;\n",
       "    }\n",
       "\n",
       "    .dataframe thead th {\n",
       "        text-align: right;\n",
       "    }\n",
       "</style>\n",
       "<table border=\"1\" class=\"dataframe\">\n",
       "  <thead>\n",
       "    <tr style=\"text-align: right;\">\n",
       "      <th></th>\n",
       "      <th>mean_train_score</th>\n",
       "      <th>mean_test_score</th>\n",
       "    </tr>\n",
       "  </thead>\n",
       "  <tbody>\n",
       "    <tr>\n",
       "      <th>12</th>\n",
       "      <td>-0.293435</td>\n",
       "      <td>-0.376526</td>\n",
       "    </tr>\n",
       "  </tbody>\n",
       "</table>\n",
       "</div>"
      ],
      "text/plain": [
       "    mean_train_score  mean_test_score\n",
       "12         -0.293435        -0.376526"
      ]
     },
     "execution_count": 170,
     "metadata": {},
     "output_type": "execute_result"
    }
   ],
   "source": [
    "# Compare the train and test scores\n",
    "results = pd.DataFrame(gs.cv_results_)\n",
    "results.loc[results['mean_test_score'] == gs.best_score_, ['mean_train_score', 'mean_test_score']]"
   ]
  },
  {
   "cell_type": "code",
   "execution_count": 171,
   "metadata": {},
   "outputs": [],
   "source": [
    "svr_best_mod = gs.best_estimator_"
   ]
  },
  {
   "cell_type": "code",
   "execution_count": 21,
   "metadata": {},
   "outputs": [
    {
     "name": "stdout",
     "output_type": "stream",
     "text": [
      "RMSE: 0.46782851577565016\n",
      "MAE: 0.38060698847423813\n",
      "R^2: -0.007247572467334429\n"
     ]
    }
   ],
   "source": [
    "eval_mod(svr_best_mod)"
   ]
  },
  {
   "cell_type": "code",
   "execution_count": 8,
   "metadata": {},
   "outputs": [
    {
     "data": {
      "text/plain": [
       "GLMMEncoder           0.388660\n",
       "CatBoostEncoder       0.401977\n",
       "TargetEncoder         0.402894\n",
       "LeaveOneOutEncoder    0.405017\n",
       "MEstimateEncoder      0.407155\n",
       "BinaryEncoder         0.412357\n",
       "HashingEncoder        0.416556\n",
       "JamesSteinEncoder     0.431125\n",
       "OrdinalEncoder        0.470190\n",
       "dtype: float64"
      ]
     },
     "execution_count": 8,
     "metadata": {},
     "output_type": "execute_result"
    }
   ],
   "source": [
    "eval_encoders(SVR(C=0.3, epsilon=0.03))"
   ]
  },
  {
   "cell_type": "markdown",
   "metadata": {},
   "source": [
    "## Random Forest"
   ]
  },
  {
   "cell_type": "code",
   "execution_count": 10,
   "metadata": {
    "scrolled": true
   },
   "outputs": [
    {
     "data": {
      "text/plain": [
       "BinaryEncoder         0.410112\n",
       "HashingEncoder        0.410256\n",
       "OrdinalEncoder        0.416301\n",
       "LeaveOneOutEncoder    0.416642\n",
       "TargetEncoder         0.417682\n",
       "CatBoostEncoder       0.418458\n",
       "GLMMEncoder           0.441413\n",
       "MEstimateEncoder      0.443260\n",
       "JamesSteinEncoder     0.446120\n",
       "dtype: float64"
      ]
     },
     "execution_count": 10,
     "metadata": {},
     "output_type": "execute_result"
    }
   ],
   "source": [
    "eval_encoders(RandomForestRegressor(random_state=42, max_depth=7))"
   ]
  },
  {
   "cell_type": "code",
   "execution_count": 49,
   "metadata": {},
   "outputs": [
    {
     "name": "stdout",
     "output_type": "stream",
     "text": [
      "Fitting 5 folds for each of 324 candidates, totalling 1620 fits\n"
     ]
    },
    {
     "name": "stderr",
     "output_type": "stream",
     "text": [
      "[Parallel(n_jobs=-1)]: Using backend LokyBackend with 8 concurrent workers.\n",
      "[Parallel(n_jobs=-1)]: Done  16 tasks      | elapsed:   17.8s\n",
      "[Parallel(n_jobs=-1)]: Done 112 tasks      | elapsed:  1.7min\n",
      "[Parallel(n_jobs=-1)]: Done 272 tasks      | elapsed:  4.1min\n",
      "[Parallel(n_jobs=-1)]: Done 496 tasks      | elapsed:  5.9min\n",
      "[Parallel(n_jobs=-1)]: Done 784 tasks      | elapsed:  9.9min\n",
      "[Parallel(n_jobs=-1)]: Done 1136 tasks      | elapsed: 13.3min\n",
      "[Parallel(n_jobs=-1)]: Done 1552 tasks      | elapsed: 18.0min\n",
      "[Parallel(n_jobs=-1)]: Done 1620 out of 1620 | elapsed: 18.5min finished\n"
     ]
    },
    {
     "data": {
      "text/plain": [
       "GridSearchCV(cv=5,\n",
       "             estimator=Pipeline(steps=[('cat_enc',\n",
       "                                        <__main__.CatEncoder object at 0x00000173D46A2148>),\n",
       "                                       ('scaler',\n",
       "                                        ColumnTransformer(remainder='passthrough',\n",
       "                                                          transformers=[('num',\n",
       "                                                                         StandardScaler(),\n",
       "                                                                         ['Review '\n",
       "                                                                          'Date',\n",
       "                                                                          'Cocoa '\n",
       "                                                                          'Percent'])])),\n",
       "                                       ('rf',\n",
       "                                        RandomForestRegressor(n_estimators=200,\n",
       "                                                              n_jobs=-1,\n",
       "                                                              random_state=42))]),\n",
       "             n_jobs=-1,\n",
       "             param_grid={'rf__max_depth': [21, 22, 23],\n",
       "                         'rf__max_features': ['auto', 'sqrt'],\n",
       "                         'rf__max_leaf_nodes': [None, 120, 150],\n",
       "                         'rf__min_impurity_decrease': [0, 1e-07],\n",
       "                         'rf__min_samples_leaf': [2, 3, 4],\n",
       "                         'rf__min_samples_split': [12, 15, 17]},\n",
       "             return_train_score=True, scoring='neg_root_mean_squared_error',\n",
       "             verbose=3)"
      ]
     },
     "execution_count": 49,
     "metadata": {},
     "output_type": "execute_result"
    }
   ],
   "source": [
    "rf_mod = Pipeline([('cat_enc', CatEncoder('BinaryEncoder')), \n",
    "                   ('scaler', num_enc), \n",
    "                   ('rf', RandomForestRegressor(random_state=42, n_jobs=-1, n_estimators=200))])\n",
    "\n",
    "params = {'rf__max_depth': [21, 22, 23], \n",
    "          'rf__min_samples_split': [12, 15, 17], \n",
    "          'rf__min_samples_leaf': [2, 3, 4], \n",
    "          'rf__max_leaf_nodes': [None, 120, 150], \n",
    "          'rf__min_impurity_decrease': [0, 1e-7], \n",
    "          'rf__max_features': ['auto', 'sqrt']}\n",
    "\n",
    "gs = GridSearchCV(rf_mod, params, \n",
    "                  cv=5, \n",
    "                  scoring='neg_root_mean_squared_error', \n",
    "                  return_train_score=True,\n",
    "                  n_jobs=-1,\n",
    "                  verbose=3)\n",
    "gs.fit(X_train, y_train)"
   ]
  },
  {
   "cell_type": "code",
   "execution_count": 50,
   "metadata": {},
   "outputs": [
    {
     "data": {
      "text/plain": [
       "{'rf__max_depth': 21,\n",
       " 'rf__max_features': 'auto',\n",
       " 'rf__max_leaf_nodes': 150,\n",
       " 'rf__min_impurity_decrease': 0,\n",
       " 'rf__min_samples_leaf': 2,\n",
       " 'rf__min_samples_split': 12}"
      ]
     },
     "execution_count": 50,
     "metadata": {},
     "output_type": "execute_result"
    }
   ],
   "source": [
    "# Show best parameters\n",
    "gs.best_params_"
   ]
  },
  {
   "cell_type": "code",
   "execution_count": 51,
   "metadata": {},
   "outputs": [
    {
     "data": {
      "text/html": [
       "<div>\n",
       "<style scoped>\n",
       "    .dataframe tbody tr th:only-of-type {\n",
       "        vertical-align: middle;\n",
       "    }\n",
       "\n",
       "    .dataframe tbody tr th {\n",
       "        vertical-align: top;\n",
       "    }\n",
       "\n",
       "    .dataframe thead th {\n",
       "        text-align: right;\n",
       "    }\n",
       "</style>\n",
       "<table border=\"1\" class=\"dataframe\">\n",
       "  <thead>\n",
       "    <tr style=\"text-align: right;\">\n",
       "      <th></th>\n",
       "      <th>mean_train_score</th>\n",
       "      <th>mean_test_score</th>\n",
       "    </tr>\n",
       "  </thead>\n",
       "  <tbody>\n",
       "    <tr>\n",
       "      <th>36</th>\n",
       "      <td>-0.255739</td>\n",
       "      <td>-0.387597</td>\n",
       "    </tr>\n",
       "    <tr>\n",
       "      <th>45</th>\n",
       "      <td>-0.255739</td>\n",
       "      <td>-0.387597</td>\n",
       "    </tr>\n",
       "  </tbody>\n",
       "</table>\n",
       "</div>"
      ],
      "text/plain": [
       "    mean_train_score  mean_test_score\n",
       "36         -0.255739        -0.387597\n",
       "45         -0.255739        -0.387597"
      ]
     },
     "execution_count": 51,
     "metadata": {},
     "output_type": "execute_result"
    }
   ],
   "source": [
    "# Compare the train and test scores\n",
    "results = pd.DataFrame(gs.cv_results_)\n",
    "results.loc[results['mean_test_score'] == gs.best_score_, ['mean_train_score', 'mean_test_score']]"
   ]
  },
  {
   "cell_type": "code",
   "execution_count": 52,
   "metadata": {},
   "outputs": [],
   "source": [
    "rf_best_mod = gs.best_estimator_"
   ]
  },
  {
   "cell_type": "code",
   "execution_count": 53,
   "metadata": {},
   "outputs": [
    {
     "name": "stdout",
     "output_type": "stream",
     "text": [
      "RMSE: 0.4005372177559178\n",
      "MAE: 0.31954335192500866\n",
      "R^2: 0.2616732510462646\n"
     ]
    }
   ],
   "source": [
    "eval_mod(rf_best_mod)"
   ]
  },
  {
   "cell_type": "code",
   "execution_count": 54,
   "metadata": {},
   "outputs": [
    {
     "data": {
      "text/plain": [
       "150"
      ]
     },
     "execution_count": 54,
     "metadata": {},
     "output_type": "execute_result"
    }
   ],
   "source": [
    "(rf_best_mod['rf'].estimators_[0].tree_.children_left<0).sum()"
   ]
  },
  {
   "cell_type": "code",
   "execution_count": 44,
   "metadata": {},
   "outputs": [
    {
     "name": "stdout",
     "output_type": "stream",
     "text": [
      "Help on class Tree in module sklearn.tree._tree:\n",
      "\n",
      "class Tree(builtins.object)\n",
      " |  Array-based representation of a binary decision tree.\n",
      " |  \n",
      " |  The binary tree is represented as a number of parallel arrays. The i-th\n",
      " |  element of each array holds information about the node `i`. Node 0 is the\n",
      " |  tree's root. You can find a detailed description of all arrays in\n",
      " |  `_tree.pxd`. NOTE: Some of the arrays only apply to either leaves or split\n",
      " |  nodes, resp. In this case the values of nodes of the other type are\n",
      " |  arbitrary!\n",
      " |  \n",
      " |  Attributes\n",
      " |  ----------\n",
      " |  node_count : int\n",
      " |      The number of nodes (internal nodes + leaves) in the tree.\n",
      " |  \n",
      " |  capacity : int\n",
      " |      The current capacity (i.e., size) of the arrays, which is at least as\n",
      " |      great as `node_count`.\n",
      " |  \n",
      " |  max_depth : int\n",
      " |      The depth of the tree, i.e. the maximum depth of its leaves.\n",
      " |  \n",
      " |  children_left : array of int, shape [node_count]\n",
      " |      children_left[i] holds the node id of the left child of node i.\n",
      " |      For leaves, children_left[i] == TREE_LEAF. Otherwise,\n",
      " |      children_left[i] > i. This child handles the case where\n",
      " |      X[:, feature[i]] <= threshold[i].\n",
      " |  \n",
      " |  children_right : array of int, shape [node_count]\n",
      " |      children_right[i] holds the node id of the right child of node i.\n",
      " |      For leaves, children_right[i] == TREE_LEAF. Otherwise,\n",
      " |      children_right[i] > i. This child handles the case where\n",
      " |      X[:, feature[i]] > threshold[i].\n",
      " |  \n",
      " |  feature : array of int, shape [node_count]\n",
      " |      feature[i] holds the feature to split on, for the internal node i.\n",
      " |  \n",
      " |  threshold : array of double, shape [node_count]\n",
      " |      threshold[i] holds the threshold for the internal node i.\n",
      " |  \n",
      " |  value : array of double, shape [node_count, n_outputs, max_n_classes]\n",
      " |      Contains the constant prediction value of each node.\n",
      " |  \n",
      " |  impurity : array of double, shape [node_count]\n",
      " |      impurity[i] holds the impurity (i.e., the value of the splitting\n",
      " |      criterion) at node i.\n",
      " |  \n",
      " |  n_node_samples : array of int, shape [node_count]\n",
      " |      n_node_samples[i] holds the number of training samples reaching node i.\n",
      " |  \n",
      " |  weighted_n_node_samples : array of int, shape [node_count]\n",
      " |      weighted_n_node_samples[i] holds the weighted number of training samples\n",
      " |      reaching node i.\n",
      " |  \n",
      " |  Methods defined here:\n",
      " |  \n",
      " |  __getstate__(...)\n",
      " |      Getstate re-implementation, for pickling.\n",
      " |  \n",
      " |  __reduce__(...)\n",
      " |      Reduce re-implementation, for pickling.\n",
      " |  \n",
      " |  __setstate__(...)\n",
      " |      Setstate re-implementation, for unpickling.\n",
      " |  \n",
      " |  apply(...)\n",
      " |      Finds the terminal region (=leaf node) for each sample in X.\n",
      " |  \n",
      " |  compute_feature_importances(...)\n",
      " |      Computes the importance of each feature (aka variable).\n",
      " |  \n",
      " |  compute_partial_dependence(...)\n",
      " |      Partial dependence of the response on the ``target_feature`` set.\n",
      " |      \n",
      " |      For each sample in ``X`` a tree traversal is performed.\n",
      " |      Each traversal starts from the root with weight 1.0.\n",
      " |      \n",
      " |      At each non-leaf node that splits on a target feature, either\n",
      " |      the left child or the right child is visited based on the feature\n",
      " |      value of the current sample, and the weight is not modified.\n",
      " |      At each non-leaf node that splits on a complementary feature,\n",
      " |      both children are visited and the weight is multiplied by the fraction\n",
      " |      of training samples which went to each child.\n",
      " |      \n",
      " |      At each leaf, the value of the node is multiplied by the current\n",
      " |      weight (weights sum to 1 for all visited terminal nodes).\n",
      " |      \n",
      " |      Parameters\n",
      " |      ----------\n",
      " |      X : view on 2d ndarray, shape (n_samples, n_target_features)\n",
      " |          The grid points on which the partial dependence should be\n",
      " |          evaluated.\n",
      " |      target_features : view on 1d ndarray, shape (n_target_features)\n",
      " |          The set of target features for which the partial dependence\n",
      " |          should be evaluated.\n",
      " |      out : view on 1d ndarray, shape (n_samples)\n",
      " |          The value of the partial dependence function on each grid\n",
      " |          point.\n",
      " |  \n",
      " |  decision_path(...)\n",
      " |      Finds the decision path (=node) for each sample in X.\n",
      " |  \n",
      " |  predict(...)\n",
      " |      Predict target for X.\n",
      " |  \n",
      " |  ----------------------------------------------------------------------\n",
      " |  Static methods defined here:\n",
      " |  \n",
      " |  __new__(*args, **kwargs) from builtins.type\n",
      " |      Create and return a new object.  See help(type) for accurate signature.\n",
      " |  \n",
      " |  ----------------------------------------------------------------------\n",
      " |  Data descriptors defined here:\n",
      " |  \n",
      " |  capacity\n",
      " |  \n",
      " |  children_left\n",
      " |  \n",
      " |  children_right\n",
      " |  \n",
      " |  feature\n",
      " |  \n",
      " |  impurity\n",
      " |  \n",
      " |  max_depth\n",
      " |  \n",
      " |  max_n_classes\n",
      " |  \n",
      " |  n_classes\n",
      " |  \n",
      " |  n_features\n",
      " |  \n",
      " |  n_leaves\n",
      " |  \n",
      " |  n_node_samples\n",
      " |  \n",
      " |  n_outputs\n",
      " |  \n",
      " |  node_count\n",
      " |  \n",
      " |  threshold\n",
      " |  \n",
      " |  value\n",
      " |  \n",
      " |  weighted_n_node_samples\n",
      " |  \n",
      " |  ----------------------------------------------------------------------\n",
      " |  Data and other attributes defined here:\n",
      " |  \n",
      " |  __pyx_vtable__ = <capsule object NULL>\n",
      "\n"
     ]
    }
   ],
   "source": [
    "import sklearn\n",
    "help(sklearn.tree._tree.Tree)"
   ]
  },
  {
   "cell_type": "code",
   "execution_count": null,
   "metadata": {},
   "outputs": [],
   "source": []
  }
 ],
 "metadata": {
  "kernelspec": {
   "display_name": "Python 3",
   "language": "python",
   "name": "python3"
  },
  "language_info": {
   "codemirror_mode": {
    "name": "ipython",
    "version": 3
   },
   "file_extension": ".py",
   "mimetype": "text/x-python",
   "name": "python",
   "nbconvert_exporter": "python",
   "pygments_lexer": "ipython3",
   "version": "3.7.7"
  }
 },
 "nbformat": 4,
 "nbformat_minor": 4
}
