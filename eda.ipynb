{
 "cells": [
  {
   "cell_type": "markdown",
   "metadata": {},
   "source": [
    "# Exploratory Data Analysis"
   ]
  },
  {
   "cell_type": "code",
   "execution_count": 1,
   "metadata": {},
   "outputs": [],
   "source": [
    "import pandas as pd\n",
    "import numpy as np\n",
    "\n",
    "import seaborn as sns\n",
    "import matplotlib.pyplot as plt\n",
    "%matplotlib inline\n",
    "\n",
    "from sklearn.feature_extraction.text import CountVectorizer\n",
    "\n",
    "from sklearn.model_selection import train_test_split\n",
    "\n",
    "from sklearn.linear_model import LinearRegression"
   ]
  },
  {
   "cell_type": "code",
   "execution_count": 2,
   "metadata": {},
   "outputs": [],
   "source": [
    "df = pd.read_csv('./dataset.csv')"
   ]
  },
  {
   "cell_type": "markdown",
   "metadata": {},
   "source": [
    "Show some information and statistics about the dataset"
   ]
  },
  {
   "cell_type": "code",
   "execution_count": 3,
   "metadata": {},
   "outputs": [
    {
     "data": {
      "text/plain": [
       "(2312, 14)"
      ]
     },
     "execution_count": 3,
     "metadata": {},
     "output_type": "execute_result"
    }
   ],
   "source": [
    "df.shape"
   ]
  },
  {
   "cell_type": "code",
   "execution_count": 42,
   "metadata": {},
   "outputs": [
    {
     "data": {
      "text/html": [
       "<div>\n",
       "<style scoped>\n",
       "    .dataframe tbody tr th:only-of-type {\n",
       "        vertical-align: middle;\n",
       "    }\n",
       "\n",
       "    .dataframe tbody tr th {\n",
       "        vertical-align: top;\n",
       "    }\n",
       "\n",
       "    .dataframe thead th {\n",
       "        text-align: right;\n",
       "    }\n",
       "</style>\n",
       "<table border=\"1\" class=\"dataframe\">\n",
       "  <thead>\n",
       "    <tr style=\"text-align: right;\">\n",
       "      <th></th>\n",
       "      <th>REF</th>\n",
       "      <th>Company (Manufacturer)</th>\n",
       "      <th>Company Location</th>\n",
       "      <th>Review Date</th>\n",
       "      <th>Country of Bean Origin</th>\n",
       "      <th>Specific Bean Origin or Bar Name</th>\n",
       "      <th>Cocoa Percent</th>\n",
       "      <th>Ingredients</th>\n",
       "      <th>Most Memorable Characteristics</th>\n",
       "      <th>Rating</th>\n",
       "      <th>Continent_company</th>\n",
       "      <th>Sub-region_company</th>\n",
       "      <th>Continent_origin</th>\n",
       "      <th>Sub-region_origin</th>\n",
       "    </tr>\n",
       "  </thead>\n",
       "  <tbody>\n",
       "    <tr>\n",
       "      <th>0</th>\n",
       "      <td>2454.0</td>\n",
       "      <td>5150</td>\n",
       "      <td>U.S.A.</td>\n",
       "      <td>2019.0</td>\n",
       "      <td>Madagascar</td>\n",
       "      <td>Bejofo Estate, batch 1</td>\n",
       "      <td>76.0</td>\n",
       "      <td>3- B,S,C</td>\n",
       "      <td>cocoa, blackberry, full body</td>\n",
       "      <td>3.75</td>\n",
       "      <td>Americas</td>\n",
       "      <td>Northern America</td>\n",
       "      <td>Africa</td>\n",
       "      <td>Sub-Saharan Africa</td>\n",
       "    </tr>\n",
       "    <tr>\n",
       "      <th>1</th>\n",
       "      <td>2458.0</td>\n",
       "      <td>5150</td>\n",
       "      <td>U.S.A.</td>\n",
       "      <td>2019.0</td>\n",
       "      <td>Dominican Republic</td>\n",
       "      <td>Zorzal, batch 1</td>\n",
       "      <td>76.0</td>\n",
       "      <td>3- B,S,C</td>\n",
       "      <td>cocoa, vegetal, savory</td>\n",
       "      <td>3.50</td>\n",
       "      <td>Americas</td>\n",
       "      <td>Northern America</td>\n",
       "      <td>Americas</td>\n",
       "      <td>Latin America and the Caribbean</td>\n",
       "    </tr>\n",
       "    <tr>\n",
       "      <th>2</th>\n",
       "      <td>2454.0</td>\n",
       "      <td>5150</td>\n",
       "      <td>U.S.A.</td>\n",
       "      <td>2019.0</td>\n",
       "      <td>Tanzania</td>\n",
       "      <td>Kokoa Kamili, batch 1</td>\n",
       "      <td>76.0</td>\n",
       "      <td>3- B,S,C</td>\n",
       "      <td>rich cocoa, fatty, bready</td>\n",
       "      <td>3.25</td>\n",
       "      <td>Americas</td>\n",
       "      <td>Northern America</td>\n",
       "      <td>Africa</td>\n",
       "      <td>Sub-Saharan Africa</td>\n",
       "    </tr>\n",
       "    <tr>\n",
       "      <th>3</th>\n",
       "      <td>797.0</td>\n",
       "      <td>A. Morin</td>\n",
       "      <td>France</td>\n",
       "      <td>2012.0</td>\n",
       "      <td>Peru</td>\n",
       "      <td>Peru</td>\n",
       "      <td>63.0</td>\n",
       "      <td>4- B,S,C,L</td>\n",
       "      <td>fruity, melon, roasty</td>\n",
       "      <td>3.75</td>\n",
       "      <td>Europe</td>\n",
       "      <td>Western Europe</td>\n",
       "      <td>Americas</td>\n",
       "      <td>Latin America and the Caribbean</td>\n",
       "    </tr>\n",
       "    <tr>\n",
       "      <th>4</th>\n",
       "      <td>797.0</td>\n",
       "      <td>A. Morin</td>\n",
       "      <td>France</td>\n",
       "      <td>2012.0</td>\n",
       "      <td>Bolivia</td>\n",
       "      <td>Bolivia</td>\n",
       "      <td>70.0</td>\n",
       "      <td>4- B,S,C,L</td>\n",
       "      <td>vegetal, nutty</td>\n",
       "      <td>3.50</td>\n",
       "      <td>Europe</td>\n",
       "      <td>Western Europe</td>\n",
       "      <td>Americas</td>\n",
       "      <td>Latin America and the Caribbean</td>\n",
       "    </tr>\n",
       "  </tbody>\n",
       "</table>\n",
       "</div>"
      ],
      "text/plain": [
       "      REF Company (Manufacturer) Company Location  Review Date  \\\n",
       "0  2454.0                   5150           U.S.A.       2019.0   \n",
       "1  2458.0                   5150           U.S.A.       2019.0   \n",
       "2  2454.0                   5150           U.S.A.       2019.0   \n",
       "3   797.0               A. Morin           France       2012.0   \n",
       "4   797.0               A. Morin           France       2012.0   \n",
       "\n",
       "  Country of Bean Origin Specific Bean Origin or Bar Name  Cocoa Percent  \\\n",
       "0             Madagascar           Bejofo Estate, batch 1           76.0   \n",
       "1     Dominican Republic                  Zorzal, batch 1           76.0   \n",
       "2               Tanzania            Kokoa Kamili, batch 1           76.0   \n",
       "3                   Peru                             Peru           63.0   \n",
       "4                Bolivia                          Bolivia           70.0   \n",
       "\n",
       "  Ingredients Most Memorable Characteristics  Rating Continent_company  \\\n",
       "0    3- B,S,C   cocoa, blackberry, full body    3.75          Americas   \n",
       "1    3- B,S,C         cocoa, vegetal, savory    3.50          Americas   \n",
       "2    3- B,S,C      rich cocoa, fatty, bready    3.25          Americas   \n",
       "3  4- B,S,C,L          fruity, melon, roasty    3.75            Europe   \n",
       "4  4- B,S,C,L                 vegetal, nutty    3.50            Europe   \n",
       "\n",
       "  Sub-region_company Continent_origin                Sub-region_origin  \n",
       "0   Northern America           Africa               Sub-Saharan Africa  \n",
       "1   Northern America         Americas  Latin America and the Caribbean  \n",
       "2   Northern America           Africa               Sub-Saharan Africa  \n",
       "3     Western Europe         Americas  Latin America and the Caribbean  \n",
       "4     Western Europe         Americas  Latin America and the Caribbean  "
      ]
     },
     "execution_count": 42,
     "metadata": {},
     "output_type": "execute_result"
    }
   ],
   "source": [
    "df.head()"
   ]
  },
  {
   "cell_type": "code",
   "execution_count": 5,
   "metadata": {},
   "outputs": [
    {
     "data": {
      "text/plain": [
       "Index(['REF', 'Company (Manufacturer)', 'Company Location', 'Review Date',\n",
       "       'Country of Bean Origin', 'Specific Bean Origin or Bar Name',\n",
       "       'Cocoa Percent', 'Ingredients', 'Most Memorable Characteristics',\n",
       "       'Rating', 'Continent_company', 'Sub-region_company', 'Continent_origin',\n",
       "       'Sub-region_origin'],\n",
       "      dtype='object')"
      ]
     },
     "execution_count": 5,
     "metadata": {},
     "output_type": "execute_result"
    }
   ],
   "source": [
    "df.columns"
   ]
  },
  {
   "cell_type": "code",
   "execution_count": 55,
   "metadata": {
    "scrolled": false
   },
   "outputs": [
    {
     "data": {
      "text/html": [
       "<div>\n",
       "<style scoped>\n",
       "    .dataframe tbody tr th:only-of-type {\n",
       "        vertical-align: middle;\n",
       "    }\n",
       "\n",
       "    .dataframe tbody tr th {\n",
       "        vertical-align: top;\n",
       "    }\n",
       "\n",
       "    .dataframe thead th {\n",
       "        text-align: right;\n",
       "    }\n",
       "</style>\n",
       "<table border=\"1\" class=\"dataframe\">\n",
       "  <thead>\n",
       "    <tr style=\"text-align: right;\">\n",
       "      <th></th>\n",
       "      <th>REF</th>\n",
       "      <th>Company (Manufacturer)</th>\n",
       "      <th>Company Location</th>\n",
       "      <th>Review Date</th>\n",
       "      <th>Country of Bean Origin</th>\n",
       "      <th>Specific Bean Origin or Bar Name</th>\n",
       "      <th>Cocoa Percent</th>\n",
       "      <th>Ingredients</th>\n",
       "      <th>Most Memorable Characteristics</th>\n",
       "      <th>Rating</th>\n",
       "      <th>Continent_company</th>\n",
       "      <th>Sub-region_company</th>\n",
       "      <th>Continent_origin</th>\n",
       "      <th>Sub-region_origin</th>\n",
       "      <th>Manifacturer</th>\n",
       "    </tr>\n",
       "  </thead>\n",
       "  <tbody>\n",
       "    <tr>\n",
       "      <th>count</th>\n",
       "      <td>2312.000000</td>\n",
       "      <td>2312</td>\n",
       "      <td>2312</td>\n",
       "      <td>2312.000000</td>\n",
       "      <td>2312</td>\n",
       "      <td>2312</td>\n",
       "      <td>2312.000000</td>\n",
       "      <td>2224</td>\n",
       "      <td>2312</td>\n",
       "      <td>2312.000000</td>\n",
       "      <td>2312</td>\n",
       "      <td>2312</td>\n",
       "      <td>2312</td>\n",
       "      <td>2312</td>\n",
       "      <td>239</td>\n",
       "    </tr>\n",
       "    <tr>\n",
       "      <th>unique</th>\n",
       "      <td>NaN</td>\n",
       "      <td>541</td>\n",
       "      <td>63</td>\n",
       "      <td>NaN</td>\n",
       "      <td>56</td>\n",
       "      <td>1436</td>\n",
       "      <td>NaN</td>\n",
       "      <td>21</td>\n",
       "      <td>2270</td>\n",
       "      <td>NaN</td>\n",
       "      <td>5</td>\n",
       "      <td>13</td>\n",
       "      <td>5</td>\n",
       "      <td>10</td>\n",
       "      <td>51</td>\n",
       "    </tr>\n",
       "    <tr>\n",
       "      <th>top</th>\n",
       "      <td>NaN</td>\n",
       "      <td>Soma</td>\n",
       "      <td>U.S.A.</td>\n",
       "      <td>NaN</td>\n",
       "      <td>Venezuela</td>\n",
       "      <td>Madagascar</td>\n",
       "      <td>NaN</td>\n",
       "      <td>3- B,S,C</td>\n",
       "      <td>creamy, nutty, cocoa</td>\n",
       "      <td>NaN</td>\n",
       "      <td>Americas</td>\n",
       "      <td>Northern America</td>\n",
       "      <td>Americas</td>\n",
       "      <td>Latin America and the Caribbean</td>\n",
       "      <td>Felchlin</td>\n",
       "    </tr>\n",
       "    <tr>\n",
       "      <th>freq</th>\n",
       "      <td>NaN</td>\n",
       "      <td>52</td>\n",
       "      <td>966</td>\n",
       "      <td>NaN</td>\n",
       "      <td>245</td>\n",
       "      <td>55</td>\n",
       "      <td>NaN</td>\n",
       "      <td>885</td>\n",
       "      <td>4</td>\n",
       "      <td>NaN</td>\n",
       "      <td>1369</td>\n",
       "      <td>1127</td>\n",
       "      <td>1602</td>\n",
       "      <td>1572</td>\n",
       "      <td>36</td>\n",
       "    </tr>\n",
       "    <tr>\n",
       "      <th>mean</th>\n",
       "      <td>1317.821367</td>\n",
       "      <td>NaN</td>\n",
       "      <td>NaN</td>\n",
       "      <td>2013.760813</td>\n",
       "      <td>NaN</td>\n",
       "      <td>NaN</td>\n",
       "      <td>71.647708</td>\n",
       "      <td>NaN</td>\n",
       "      <td>NaN</td>\n",
       "      <td>3.184083</td>\n",
       "      <td>NaN</td>\n",
       "      <td>NaN</td>\n",
       "      <td>NaN</td>\n",
       "      <td>NaN</td>\n",
       "      <td>NaN</td>\n",
       "    </tr>\n",
       "    <tr>\n",
       "      <th>std</th>\n",
       "      <td>695.425750</td>\n",
       "      <td>NaN</td>\n",
       "      <td>NaN</td>\n",
       "      <td>3.591105</td>\n",
       "      <td>NaN</td>\n",
       "      <td>NaN</td>\n",
       "      <td>5.765289</td>\n",
       "      <td>NaN</td>\n",
       "      <td>NaN</td>\n",
       "      <td>0.451961</td>\n",
       "      <td>NaN</td>\n",
       "      <td>NaN</td>\n",
       "      <td>NaN</td>\n",
       "      <td>NaN</td>\n",
       "      <td>NaN</td>\n",
       "    </tr>\n",
       "    <tr>\n",
       "      <th>min</th>\n",
       "      <td>5.000000</td>\n",
       "      <td>NaN</td>\n",
       "      <td>NaN</td>\n",
       "      <td>2006.000000</td>\n",
       "      <td>NaN</td>\n",
       "      <td>NaN</td>\n",
       "      <td>42.000000</td>\n",
       "      <td>NaN</td>\n",
       "      <td>NaN</td>\n",
       "      <td>1.000000</td>\n",
       "      <td>NaN</td>\n",
       "      <td>NaN</td>\n",
       "      <td>NaN</td>\n",
       "      <td>NaN</td>\n",
       "      <td>NaN</td>\n",
       "    </tr>\n",
       "    <tr>\n",
       "      <th>25%</th>\n",
       "      <td>741.000000</td>\n",
       "      <td>NaN</td>\n",
       "      <td>NaN</td>\n",
       "      <td>2011.000000</td>\n",
       "      <td>NaN</td>\n",
       "      <td>NaN</td>\n",
       "      <td>70.000000</td>\n",
       "      <td>NaN</td>\n",
       "      <td>NaN</td>\n",
       "      <td>3.000000</td>\n",
       "      <td>NaN</td>\n",
       "      <td>NaN</td>\n",
       "      <td>NaN</td>\n",
       "      <td>NaN</td>\n",
       "      <td>NaN</td>\n",
       "    </tr>\n",
       "    <tr>\n",
       "      <th>50%</th>\n",
       "      <td>1351.000000</td>\n",
       "      <td>NaN</td>\n",
       "      <td>NaN</td>\n",
       "      <td>2014.000000</td>\n",
       "      <td>NaN</td>\n",
       "      <td>NaN</td>\n",
       "      <td>70.000000</td>\n",
       "      <td>NaN</td>\n",
       "      <td>NaN</td>\n",
       "      <td>3.250000</td>\n",
       "      <td>NaN</td>\n",
       "      <td>NaN</td>\n",
       "      <td>NaN</td>\n",
       "      <td>NaN</td>\n",
       "      <td>NaN</td>\n",
       "    </tr>\n",
       "    <tr>\n",
       "      <th>75%</th>\n",
       "      <td>1912.000000</td>\n",
       "      <td>NaN</td>\n",
       "      <td>NaN</td>\n",
       "      <td>2016.000000</td>\n",
       "      <td>NaN</td>\n",
       "      <td>NaN</td>\n",
       "      <td>75.000000</td>\n",
       "      <td>NaN</td>\n",
       "      <td>NaN</td>\n",
       "      <td>3.500000</td>\n",
       "      <td>NaN</td>\n",
       "      <td>NaN</td>\n",
       "      <td>NaN</td>\n",
       "      <td>NaN</td>\n",
       "      <td>NaN</td>\n",
       "    </tr>\n",
       "    <tr>\n",
       "      <th>max</th>\n",
       "      <td>2490.000000</td>\n",
       "      <td>NaN</td>\n",
       "      <td>NaN</td>\n",
       "      <td>2020.000000</td>\n",
       "      <td>NaN</td>\n",
       "      <td>NaN</td>\n",
       "      <td>100.000000</td>\n",
       "      <td>NaN</td>\n",
       "      <td>NaN</td>\n",
       "      <td>4.000000</td>\n",
       "      <td>NaN</td>\n",
       "      <td>NaN</td>\n",
       "      <td>NaN</td>\n",
       "      <td>NaN</td>\n",
       "      <td>NaN</td>\n",
       "    </tr>\n",
       "  </tbody>\n",
       "</table>\n",
       "</div>"
      ],
      "text/plain": [
       "                REF Company (Manufacturer) Company Location  Review Date  \\\n",
       "count   2312.000000                   2312             2312  2312.000000   \n",
       "unique          NaN                    541               63          NaN   \n",
       "top             NaN                   Soma           U.S.A.          NaN   \n",
       "freq            NaN                     52              966          NaN   \n",
       "mean    1317.821367                    NaN              NaN  2013.760813   \n",
       "std      695.425750                    NaN              NaN     3.591105   \n",
       "min        5.000000                    NaN              NaN  2006.000000   \n",
       "25%      741.000000                    NaN              NaN  2011.000000   \n",
       "50%     1351.000000                    NaN              NaN  2014.000000   \n",
       "75%     1912.000000                    NaN              NaN  2016.000000   \n",
       "max     2490.000000                    NaN              NaN  2020.000000   \n",
       "\n",
       "       Country of Bean Origin Specific Bean Origin or Bar Name  Cocoa Percent  \\\n",
       "count                    2312                             2312    2312.000000   \n",
       "unique                     56                             1436            NaN   \n",
       "top                 Venezuela                       Madagascar            NaN   \n",
       "freq                      245                               55            NaN   \n",
       "mean                      NaN                              NaN      71.647708   \n",
       "std                       NaN                              NaN       5.765289   \n",
       "min                       NaN                              NaN      42.000000   \n",
       "25%                       NaN                              NaN      70.000000   \n",
       "50%                       NaN                              NaN      70.000000   \n",
       "75%                       NaN                              NaN      75.000000   \n",
       "max                       NaN                              NaN     100.000000   \n",
       "\n",
       "       Ingredients Most Memorable Characteristics       Rating  \\\n",
       "count         2224                           2312  2312.000000   \n",
       "unique          21                           2270          NaN   \n",
       "top       3- B,S,C           creamy, nutty, cocoa          NaN   \n",
       "freq           885                              4          NaN   \n",
       "mean           NaN                            NaN     3.184083   \n",
       "std            NaN                            NaN     0.451961   \n",
       "min            NaN                            NaN     1.000000   \n",
       "25%            NaN                            NaN     3.000000   \n",
       "50%            NaN                            NaN     3.250000   \n",
       "75%            NaN                            NaN     3.500000   \n",
       "max            NaN                            NaN     4.000000   \n",
       "\n",
       "       Continent_company Sub-region_company Continent_origin  \\\n",
       "count               2312               2312             2312   \n",
       "unique                 5                 13                5   \n",
       "top             Americas   Northern America         Americas   \n",
       "freq                1369               1127             1602   \n",
       "mean                 NaN                NaN              NaN   \n",
       "std                  NaN                NaN              NaN   \n",
       "min                  NaN                NaN              NaN   \n",
       "25%                  NaN                NaN              NaN   \n",
       "50%                  NaN                NaN              NaN   \n",
       "75%                  NaN                NaN              NaN   \n",
       "max                  NaN                NaN              NaN   \n",
       "\n",
       "                      Sub-region_origin Manifacturer  \n",
       "count                              2312          239  \n",
       "unique                               10           51  \n",
       "top     Latin America and the Caribbean     Felchlin  \n",
       "freq                               1572           36  \n",
       "mean                                NaN          NaN  \n",
       "std                                 NaN          NaN  \n",
       "min                                 NaN          NaN  \n",
       "25%                                 NaN          NaN  \n",
       "50%                                 NaN          NaN  \n",
       "75%                                 NaN          NaN  \n",
       "max                                 NaN          NaN  "
      ]
     },
     "execution_count": 55,
     "metadata": {},
     "output_type": "execute_result"
    }
   ],
   "source": [
    "df.describe(include='all')"
   ]
  },
  {
   "cell_type": "markdown",
   "metadata": {},
   "source": [
    "## Data Exploration"
   ]
  },
  {
   "cell_type": "markdown",
   "metadata": {},
   "source": [
    "### Rating (target variable)"
   ]
  },
  {
   "cell_type": "code",
   "execution_count": 7,
   "metadata": {},
   "outputs": [
    {
     "data": {
      "text/plain": [
       "count    2312.000000\n",
       "mean        3.184083\n",
       "std         0.451961\n",
       "min         1.000000\n",
       "25%         3.000000\n",
       "50%         3.250000\n",
       "75%         3.500000\n",
       "max         4.000000\n",
       "Name: Rating, dtype: float64"
      ]
     },
     "execution_count": 7,
     "metadata": {},
     "output_type": "execute_result"
    }
   ],
   "source": [
    "df['Rating'].describe()"
   ]
  },
  {
   "cell_type": "markdown",
   "metadata": {},
   "source": [
    "Let's check rating distribution."
   ]
  },
  {
   "cell_type": "code",
   "execution_count": 8,
   "metadata": {},
   "outputs": [
    {
     "data": {
      "image/png": "[encoded data removed]",
      "text/plain": [
       "<Figure size 432x288 with 1 Axes>"
      ]
     },
     "metadata": {
      "needs_background": "light"
     },
     "output_type": "display_data"
    }
   ],
   "source": [
    "sns.distplot(df['Rating'], kde=False);"
   ]
  },
  {
   "cell_type": "markdown",
   "metadata": {},
   "source": [
    "Let's plot a correlation matrix to check whether the rating is correlated to any numerical variable."
   ]
  },
  {
   "cell_type": "code",
   "execution_count": 9,
   "metadata": {
    "scrolled": true
   },
   "outputs": [
    {
     "data": {
      "image/png": "[encoded data removed]",
      "text/plain": [
       "<Figure size 432x288 with 2 Axes>"
      ]
     },
     "metadata": {
      "needs_background": "light"
     },
     "output_type": "display_data"
    }
   ],
   "source": [
    "corrmat = df.corr()\n",
    "sns.heatmap(corrmat, square=True);"
   ]
  },
  {
   "cell_type": "markdown",
   "metadata": {},
   "source": [
    "It looks like Rating is not correlated to any of them.\n",
    "\n",
    "However this plot confirms, as we expected from the dataset description, that REF is correlated with Review Date.\n",
    "\n",
    "---"
   ]
  },
  {
   "cell_type": "markdown",
   "metadata": {},
   "source": [
    "### Which companies are the top rated?\n",
    "\n",
    "Let's see how the ratings change among different companies. We create a pivot table which tells us, for each company, the average rating and the number of reviews."
   ]
  },
  {
   "cell_type": "code",
   "execution_count": 10,
   "metadata": {},
   "outputs": [
    {
     "data": {
      "text/html": [
       "<div>\n",
       "<style scoped>\n",
       "    .dataframe tbody tr th:only-of-type {\n",
       "        vertical-align: middle;\n",
       "    }\n",
       "\n",
       "    .dataframe tbody tr th {\n",
       "        vertical-align: top;\n",
       "    }\n",
       "\n",
       "    .dataframe thead tr th {\n",
       "        text-align: left;\n",
       "    }\n",
       "\n",
       "    .dataframe thead tr:last-of-type th {\n",
       "        text-align: right;\n",
       "    }\n",
       "</style>\n",
       "<table border=\"1\" class=\"dataframe\">\n",
       "  <thead>\n",
       "    <tr>\n",
       "      <th></th>\n",
       "      <th>mean</th>\n",
       "      <th>len</th>\n",
       "    </tr>\n",
       "    <tr>\n",
       "      <th></th>\n",
       "      <th>Rating</th>\n",
       "      <th>Rating</th>\n",
       "    </tr>\n",
       "    <tr>\n",
       "      <th>Company (Manufacturer)</th>\n",
       "      <th></th>\n",
       "      <th></th>\n",
       "    </tr>\n",
       "  </thead>\n",
       "  <tbody>\n",
       "    <tr>\n",
       "      <th>5150</th>\n",
       "      <td>3.5000</td>\n",
       "      <td>3.0</td>\n",
       "    </tr>\n",
       "    <tr>\n",
       "      <th>A. Morin</th>\n",
       "      <td>3.4000</td>\n",
       "      <td>25.0</td>\n",
       "    </tr>\n",
       "    <tr>\n",
       "      <th>AMMA</th>\n",
       "      <td>3.5000</td>\n",
       "      <td>5.0</td>\n",
       "    </tr>\n",
       "    <tr>\n",
       "      <th>Acalli</th>\n",
       "      <td>3.5625</td>\n",
       "      <td>4.0</td>\n",
       "    </tr>\n",
       "    <tr>\n",
       "      <th>Adi aka Fijiana (Easy In Ltd)</th>\n",
       "      <td>3.2500</td>\n",
       "      <td>4.0</td>\n",
       "    </tr>\n",
       "  </tbody>\n",
       "</table>\n",
       "</div>"
      ],
      "text/plain": [
       "                                 mean    len\n",
       "                               Rating Rating\n",
       "Company (Manufacturer)                      \n",
       "5150                           3.5000    3.0\n",
       "A. Morin                       3.4000   25.0\n",
       "AMMA                           3.5000    5.0\n",
       "Acalli                         3.5625    4.0\n",
       "Adi aka Fijiana (Easy In Ltd)  3.2500    4.0"
      ]
     },
     "execution_count": 10,
     "metadata": {},
     "output_type": "execute_result"
    }
   ],
   "source": [
    "pivot_companies = pd.pivot_table(df, values='Rating', \n",
    "                                 index='Company (Manufacturer)',  \n",
    "                                 aggfunc=[np.mean, len])\n",
    "pivot_companies.head()"
   ]
  },
  {
   "cell_type": "markdown",
   "metadata": {},
   "source": [
    "Let's show the top 10 companies for average rating which have more than 10 reviews."
   ]
  },
  {
   "cell_type": "code",
   "execution_count": 11,
   "metadata": {},
   "outputs": [
    {
     "data": {
      "text/html": [
       "<div>\n",
       "<style scoped>\n",
       "    .dataframe tbody tr th:only-of-type {\n",
       "        vertical-align: middle;\n",
       "    }\n",
       "\n",
       "    .dataframe tbody tr th {\n",
       "        vertical-align: top;\n",
       "    }\n",
       "\n",
       "    .dataframe thead tr th {\n",
       "        text-align: left;\n",
       "    }\n",
       "\n",
       "    .dataframe thead tr:last-of-type th {\n",
       "        text-align: right;\n",
       "    }\n",
       "</style>\n",
       "<table border=\"1\" class=\"dataframe\">\n",
       "  <thead>\n",
       "    <tr>\n",
       "      <th></th>\n",
       "      <th>mean</th>\n",
       "      <th>len</th>\n",
       "    </tr>\n",
       "    <tr>\n",
       "      <th></th>\n",
       "      <th>Rating</th>\n",
       "      <th>Rating</th>\n",
       "    </tr>\n",
       "    <tr>\n",
       "      <th>Company (Manufacturer)</th>\n",
       "      <th></th>\n",
       "      <th></th>\n",
       "    </tr>\n",
       "  </thead>\n",
       "  <tbody>\n",
       "    <tr>\n",
       "      <th>Soma</th>\n",
       "      <td>3.591346</td>\n",
       "      <td>52.0</td>\n",
       "    </tr>\n",
       "    <tr>\n",
       "      <th>Brasstown aka It's Chocolate</th>\n",
       "      <td>3.583333</td>\n",
       "      <td>12.0</td>\n",
       "    </tr>\n",
       "    <tr>\n",
       "      <th>Ritual</th>\n",
       "      <td>3.541667</td>\n",
       "      <td>12.0</td>\n",
       "    </tr>\n",
       "    <tr>\n",
       "      <th>Friis Holm</th>\n",
       "      <td>3.538462</td>\n",
       "      <td>13.0</td>\n",
       "    </tr>\n",
       "    <tr>\n",
       "      <th>Arete</th>\n",
       "      <td>3.531250</td>\n",
       "      <td>32.0</td>\n",
       "    </tr>\n",
       "    <tr>\n",
       "      <th>Smooth Chocolator, The</th>\n",
       "      <td>3.514706</td>\n",
       "      <td>17.0</td>\n",
       "    </tr>\n",
       "    <tr>\n",
       "      <th>Domori</th>\n",
       "      <td>3.500000</td>\n",
       "      <td>23.0</td>\n",
       "    </tr>\n",
       "    <tr>\n",
       "      <th>Bonnat</th>\n",
       "      <td>3.456897</td>\n",
       "      <td>29.0</td>\n",
       "    </tr>\n",
       "    <tr>\n",
       "      <th>Marou</th>\n",
       "      <td>3.454545</td>\n",
       "      <td>11.0</td>\n",
       "    </tr>\n",
       "    <tr>\n",
       "      <th>Dick Taylor</th>\n",
       "      <td>3.441176</td>\n",
       "      <td>17.0</td>\n",
       "    </tr>\n",
       "  </tbody>\n",
       "</table>\n",
       "</div>"
      ],
      "text/plain": [
       "                                  mean    len\n",
       "                                Rating Rating\n",
       "Company (Manufacturer)                       \n",
       "Soma                          3.591346   52.0\n",
       "Brasstown aka It's Chocolate  3.583333   12.0\n",
       "Ritual                        3.541667   12.0\n",
       "Friis Holm                    3.538462   13.0\n",
       "Arete                         3.531250   32.0\n",
       "Smooth Chocolator, The        3.514706   17.0\n",
       "Domori                        3.500000   23.0\n",
       "Bonnat                        3.456897   29.0\n",
       "Marou                         3.454545   11.0\n",
       "Dick Taylor                   3.441176   17.0"
      ]
     },
     "execution_count": 11,
     "metadata": {},
     "output_type": "execute_result"
    }
   ],
   "source": [
    "pivot_companies[pivot_companies[('len', 'Rating')]>10].sort_values(('mean', 'Rating'), ascending=False).head(10)"
   ]
  },
  {
   "cell_type": "markdown",
   "metadata": {},
   "source": [
    "Now let's see which are the 40 most reviewed companies and plot the corresponding rating distribution."
   ]
  },
  {
   "cell_type": "code",
   "execution_count": 12,
   "metadata": {},
   "outputs": [
    {
     "data": {
      "image/png": "[encoded data removed]",
      "text/plain": [
       "<Figure size 1080x432 with 1 Axes>"
      ]
     },
     "metadata": {
      "needs_background": "light"
     },
     "output_type": "display_data"
    }
   ],
   "source": [
    "values = df['Company (Manufacturer)'].value_counts()[:40]\n",
    "fig, ax = plt.subplots(figsize=(15, 6))\n",
    "sns.barplot(x=values.index, y=values)\n",
    "plt.xticks(rotation=90);"
   ]
  },
  {
   "cell_type": "code",
   "execution_count": 13,
   "metadata": {},
   "outputs": [
    {
     "data": {
      "image/png": "[encoded data removed]",
      "text/plain": [
       "<Figure size 720x360 with 1 Axes>"
      ]
     },
     "metadata": {
      "needs_background": "light"
     },
     "output_type": "display_data"
    }
   ],
   "source": [
    "most_freq = df['Company (Manufacturer)'].value_counts()[:40].index\n",
    "sns.catplot(x=\"Company (Manufacturer)\", y=\"Rating\", \n",
    "            kind=\"box\", \n",
    "            aspect=2, \n",
    "            order=most_freq, \n",
    "            data=df[df['Company (Manufacturer)'].isin(most_freq)])\n",
    "plt.xticks(rotation=90);"
   ]
  },
  {
   "cell_type": "markdown",
   "metadata": {},
   "source": [
    "### Where are most companies located?"
   ]
  },
  {
   "cell_type": "code",
   "execution_count": 14,
   "metadata": {},
   "outputs": [
    {
     "data": {
      "image/png": "[encoded data removed]",
      "text/plain": [
       "<Figure size 1080x432 with 1 Axes>"
      ]
     },
     "metadata": {
      "needs_background": "light"
     },
     "output_type": "display_data"
    }
   ],
   "source": [
    "values = df['Company Location'].value_counts()\n",
    "fig, ax = plt.subplots(figsize=(15, 6))\n",
    "sns.barplot(x=values.index, y=values)\n",
    "plt.xticks(rotation=90);"
   ]
  },
  {
   "cell_type": "code",
   "execution_count": 15,
   "metadata": {
    "scrolled": true
   },
   "outputs": [
    {
     "data": {
      "image/png": "[encoded data removed]",
      "text/plain": [
       "<Figure size 432x288 with 1 Axes>"
      ]
     },
     "metadata": {
      "needs_background": "light"
     },
     "output_type": "display_data"
    }
   ],
   "source": [
    "values = df['Continent_company'].value_counts()\n",
    "sns.barplot(x=values.index, y=values);"
   ]
  },
  {
   "cell_type": "code",
   "execution_count": 17,
   "metadata": {},
   "outputs": [
    {
     "data": {
      "image/png": "[encoded data removed]",
      "text/plain": [
       "<Figure size 432x288 with 1 Axes>"
      ]
     },
     "metadata": {
      "needs_background": "light"
     },
     "output_type": "display_data"
    }
   ],
   "source": [
    "values = df['Sub-region_company'].value_counts()\n",
    "fig, ax = plt.subplots()\n",
    "sns.barplot(x=values.index, y=values)\n",
    "plt.xticks(rotation=90);"
   ]
  },
  {
   "cell_type": "markdown",
   "metadata": {},
   "source": [
    "We see that most of the bars reviewed are produced by U.S. companies, and about half of them are produced in Northern America."
   ]
  },
  {
   "cell_type": "markdown",
   "metadata": {},
   "source": [
    "Let's now check the rating of different locations. We create a pivot table where, for each location, we calculate the average rating, the number of reviews and the number of distinct companies."
   ]
  },
  {
   "cell_type": "code",
   "execution_count": 66,
   "metadata": {},
   "outputs": [
    {
     "data": {
      "text/html": [
       "<div>\n",
       "<style scoped>\n",
       "    .dataframe tbody tr th:only-of-type {\n",
       "        vertical-align: middle;\n",
       "    }\n",
       "\n",
       "    .dataframe tbody tr th {\n",
       "        vertical-align: top;\n",
       "    }\n",
       "\n",
       "    .dataframe thead tr th {\n",
       "        text-align: left;\n",
       "    }\n",
       "\n",
       "    .dataframe thead tr:last-of-type th {\n",
       "        text-align: right;\n",
       "    }\n",
       "</style>\n",
       "<table border=\"1\" class=\"dataframe\">\n",
       "  <thead>\n",
       "    <tr>\n",
       "      <th></th>\n",
       "      <th>Company (Manufacturer)</th>\n",
       "      <th colspan=\"2\" halign=\"left\">Rating</th>\n",
       "    </tr>\n",
       "    <tr>\n",
       "      <th></th>\n",
       "      <th>num_companies</th>\n",
       "      <th>len</th>\n",
       "      <th>mean</th>\n",
       "    </tr>\n",
       "    <tr>\n",
       "      <th>Company Location</th>\n",
       "      <th></th>\n",
       "      <th></th>\n",
       "      <th></th>\n",
       "    </tr>\n",
       "  </thead>\n",
       "  <tbody>\n",
       "    <tr>\n",
       "      <th>Argentina</th>\n",
       "      <td>2</td>\n",
       "      <td>9.0</td>\n",
       "      <td>3.305556</td>\n",
       "    </tr>\n",
       "    <tr>\n",
       "      <th>Australia</th>\n",
       "      <td>12</td>\n",
       "      <td>53.0</td>\n",
       "      <td>3.358491</td>\n",
       "    </tr>\n",
       "    <tr>\n",
       "      <th>Austria</th>\n",
       "      <td>3</td>\n",
       "      <td>30.0</td>\n",
       "      <td>3.258333</td>\n",
       "    </tr>\n",
       "    <tr>\n",
       "      <th>Belgium</th>\n",
       "      <td>14</td>\n",
       "      <td>59.0</td>\n",
       "      <td>3.105932</td>\n",
       "    </tr>\n",
       "    <tr>\n",
       "      <th>Bolivia</th>\n",
       "      <td>1</td>\n",
       "      <td>2.0</td>\n",
       "      <td>3.250000</td>\n",
       "    </tr>\n",
       "  </tbody>\n",
       "</table>\n",
       "</div>"
      ],
      "text/plain": [
       "                 Company (Manufacturer) Rating          \n",
       "                          num_companies    len      mean\n",
       "Company Location                                        \n",
       "Argentina                             2    9.0  3.305556\n",
       "Australia                            12   53.0  3.358491\n",
       "Austria                               3   30.0  3.258333\n",
       "Belgium                              14   59.0  3.105932\n",
       "Bolivia                               1    2.0  3.250000"
      ]
     },
     "execution_count": 66,
     "metadata": {},
     "output_type": "execute_result"
    }
   ],
   "source": [
    "def num_companies(data):\n",
    "    return data.nunique()\n",
    "\n",
    "pivot_locations = pd.pivot_table(df, values=['Rating', 'Company (Manufacturer)'], \n",
    "                                 index='Company Location',  \n",
    "                                 aggfunc={'Rating':[np.mean, len],\n",
    "                                          'Company (Manufacturer)':num_companies})\n",
    "pivot_locations.head()"
   ]
  },
  {
   "cell_type": "markdown",
   "metadata": {},
   "source": [
    "Here are the top 10 company locations for average rating:"
   ]
  },
  {
   "cell_type": "code",
   "execution_count": 67,
   "metadata": {},
   "outputs": [
    {
     "data": {
      "text/html": [
       "<div>\n",
       "<style scoped>\n",
       "    .dataframe tbody tr th:only-of-type {\n",
       "        vertical-align: middle;\n",
       "    }\n",
       "\n",
       "    .dataframe tbody tr th {\n",
       "        vertical-align: top;\n",
       "    }\n",
       "\n",
       "    .dataframe thead tr th {\n",
       "        text-align: left;\n",
       "    }\n",
       "\n",
       "    .dataframe thead tr:last-of-type th {\n",
       "        text-align: right;\n",
       "    }\n",
       "</style>\n",
       "<table border=\"1\" class=\"dataframe\">\n",
       "  <thead>\n",
       "    <tr>\n",
       "      <th></th>\n",
       "      <th>Company (Manufacturer)</th>\n",
       "      <th colspan=\"2\" halign=\"left\">Rating</th>\n",
       "    </tr>\n",
       "    <tr>\n",
       "      <th></th>\n",
       "      <th>num_companies</th>\n",
       "      <th>len</th>\n",
       "      <th>mean</th>\n",
       "    </tr>\n",
       "    <tr>\n",
       "      <th>Company Location</th>\n",
       "      <th></th>\n",
       "      <th></th>\n",
       "      <th></th>\n",
       "    </tr>\n",
       "  </thead>\n",
       "  <tbody>\n",
       "    <tr>\n",
       "      <th>Australia</th>\n",
       "      <td>12</td>\n",
       "      <td>53.0</td>\n",
       "      <td>3.358491</td>\n",
       "    </tr>\n",
       "    <tr>\n",
       "      <th>Denmark</th>\n",
       "      <td>4</td>\n",
       "      <td>31.0</td>\n",
       "      <td>3.338710</td>\n",
       "    </tr>\n",
       "    <tr>\n",
       "      <th>Vietnam</th>\n",
       "      <td>4</td>\n",
       "      <td>15.0</td>\n",
       "      <td>3.333333</td>\n",
       "    </tr>\n",
       "    <tr>\n",
       "      <th>Switzerland</th>\n",
       "      <td>10</td>\n",
       "      <td>43.0</td>\n",
       "      <td>3.313953</td>\n",
       "    </tr>\n",
       "    <tr>\n",
       "      <th>Canada</th>\n",
       "      <td>31</td>\n",
       "      <td>161.0</td>\n",
       "      <td>3.301242</td>\n",
       "    </tr>\n",
       "    <tr>\n",
       "      <th>Brazil</th>\n",
       "      <td>10</td>\n",
       "      <td>24.0</td>\n",
       "      <td>3.281250</td>\n",
       "    </tr>\n",
       "    <tr>\n",
       "      <th>Spain</th>\n",
       "      <td>8</td>\n",
       "      <td>36.0</td>\n",
       "      <td>3.263889</td>\n",
       "    </tr>\n",
       "    <tr>\n",
       "      <th>Austria</th>\n",
       "      <td>3</td>\n",
       "      <td>30.0</td>\n",
       "      <td>3.258333</td>\n",
       "    </tr>\n",
       "    <tr>\n",
       "      <th>France</th>\n",
       "      <td>25</td>\n",
       "      <td>175.0</td>\n",
       "      <td>3.250000</td>\n",
       "    </tr>\n",
       "    <tr>\n",
       "      <th>Netherlands</th>\n",
       "      <td>6</td>\n",
       "      <td>20.0</td>\n",
       "      <td>3.237500</td>\n",
       "    </tr>\n",
       "  </tbody>\n",
       "</table>\n",
       "</div>"
      ],
      "text/plain": [
       "                 Company (Manufacturer) Rating          \n",
       "                          num_companies    len      mean\n",
       "Company Location                                        \n",
       "Australia                            12   53.0  3.358491\n",
       "Denmark                               4   31.0  3.338710\n",
       "Vietnam                               4   15.0  3.333333\n",
       "Switzerland                          10   43.0  3.313953\n",
       "Canada                               31  161.0  3.301242\n",
       "Brazil                               10   24.0  3.281250\n",
       "Spain                                 8   36.0  3.263889\n",
       "Austria                               3   30.0  3.258333\n",
       "France                               25  175.0  3.250000\n",
       "Netherlands                           6   20.0  3.237500"
      ]
     },
     "execution_count": 67,
     "metadata": {},
     "output_type": "execute_result"
    }
   ],
   "source": [
    "pivot_locations[pivot_locations[('Rating', 'len')]>10].sort_values(('Rating', 'mean'), ascending=False).head(10)"
   ]
  },
  {
   "cell_type": "markdown",
   "metadata": {},
   "source": [
    "Let's plot the distribution of ratings in the 40 most reviewed company locations."
   ]
  },
  {
   "cell_type": "code",
   "execution_count": 12,
   "metadata": {},
   "outputs": [
    {
     "data": {
      "image/png": "[encoded data removed]",
      "text/plain": [
       "<Figure size 720x360 with 1 Axes>"
      ]
     },
     "metadata": {
      "needs_background": "light"
     },
     "output_type": "display_data"
    }
   ],
   "source": [
    "most_freq = df['Company Location'].value_counts()[:40].index\n",
    "sns.catplot(x=\"Company Location\", y=\"Rating\", \n",
    "            kind=\"box\", \n",
    "            aspect=2, \n",
    "            order=most_freq, \n",
    "            data=df[df['Company Location'].isin(most_freq)])\n",
    "plt.xticks(rotation=90);"
   ]
  },
  {
   "cell_type": "markdown",
   "metadata": {},
   "source": [
    "### Country of origin\n",
    "\n",
    "Let's see where the chocolate beans of the reviewed bars come from."
   ]
  },
  {
   "cell_type": "code",
   "execution_count": 59,
   "metadata": {
    "scrolled": false
   },
   "outputs": [
    {
     "data": {
      "image/png": "[encoded data removed]",
      "text/plain": [
       "<Figure size 1080x432 with 1 Axes>"
      ]
     },
     "metadata": {
      "needs_background": "light"
     },
     "output_type": "display_data"
    }
   ],
   "source": [
    "values = df['Country of Bean Origin'].value_counts()\n",
    "fig, ax = plt.subplots(figsize=(15, 6))\n",
    "sns.barplot(x=values.index, y=values)\n",
    "plt.xticks(rotation=90);"
   ]
  },
  {
   "cell_type": "code",
   "execution_count": 60,
   "metadata": {},
   "outputs": [
    {
     "data": {
      "image/png": "[encoded data removed]",
      "text/plain": [
       "<Figure size 432x288 with 1 Axes>"
      ]
     },
     "metadata": {
      "needs_background": "light"
     },
     "output_type": "display_data"
    }
   ],
   "source": [
    "values = df['Continent_origin'].value_counts()\n",
    "sns.barplot(x=values.index, y=values);"
   ]
  },
  {
   "cell_type": "code",
   "execution_count": 61,
   "metadata": {},
   "outputs": [
    {
     "data": {
      "image/png": "[encoded data removed]",
      "text/plain": [
       "<Figure size 432x288 with 1 Axes>"
      ]
     },
     "metadata": {
      "needs_background": "light"
     },
     "output_type": "display_data"
    }
   ],
   "source": [
    "values = df['Sub-region_origin'].value_counts()\n",
    "fig, ax = plt.subplots()\n",
    "sns.barplot(x=values.index, y=values)\n",
    "plt.xticks(rotation=90);"
   ]
  },
  {
   "cell_type": "markdown",
   "metadata": {},
   "source": [
    "Let's now check the rating of different locations. We create a pivot table where, for each location, we calculate the average rating, the number of reviews and the number of distinct companies."
   ]
  },
  {
   "cell_type": "code",
   "execution_count": 63,
   "metadata": {},
   "outputs": [
    {
     "data": {
      "text/html": [
       "<div>\n",
       "<style scoped>\n",
       "    .dataframe tbody tr th:only-of-type {\n",
       "        vertical-align: middle;\n",
       "    }\n",
       "\n",
       "    .dataframe tbody tr th {\n",
       "        vertical-align: top;\n",
       "    }\n",
       "\n",
       "    .dataframe thead tr th {\n",
       "        text-align: left;\n",
       "    }\n",
       "\n",
       "    .dataframe thead tr:last-of-type th {\n",
       "        text-align: right;\n",
       "    }\n",
       "</style>\n",
       "<table border=\"1\" class=\"dataframe\">\n",
       "  <thead>\n",
       "    <tr>\n",
       "      <th></th>\n",
       "      <th>Company (Manufacturer)</th>\n",
       "      <th colspan=\"2\" halign=\"left\">Rating</th>\n",
       "    </tr>\n",
       "    <tr>\n",
       "      <th></th>\n",
       "      <th>num_companies</th>\n",
       "      <th>len</th>\n",
       "      <th>mean</th>\n",
       "    </tr>\n",
       "    <tr>\n",
       "      <th>Country of Bean Origin</th>\n",
       "      <th></th>\n",
       "      <th></th>\n",
       "      <th></th>\n",
       "    </tr>\n",
       "  </thead>\n",
       "  <tbody>\n",
       "    <tr>\n",
       "      <th>Australia</th>\n",
       "      <td>2</td>\n",
       "      <td>3.0</td>\n",
       "      <td>3.250000</td>\n",
       "    </tr>\n",
       "    <tr>\n",
       "      <th>Belize</th>\n",
       "      <td>58</td>\n",
       "      <td>67.0</td>\n",
       "      <td>3.227612</td>\n",
       "    </tr>\n",
       "    <tr>\n",
       "      <th>Blend</th>\n",
       "      <td>70</td>\n",
       "      <td>152.0</td>\n",
       "      <td>3.034539</td>\n",
       "    </tr>\n",
       "    <tr>\n",
       "      <th>Bolivia</th>\n",
       "      <td>56</td>\n",
       "      <td>73.0</td>\n",
       "      <td>3.181507</td>\n",
       "    </tr>\n",
       "    <tr>\n",
       "      <th>Brazil</th>\n",
       "      <td>51</td>\n",
       "      <td>75.0</td>\n",
       "      <td>3.253333</td>\n",
       "    </tr>\n",
       "  </tbody>\n",
       "</table>\n",
       "</div>"
      ],
      "text/plain": [
       "                       Company (Manufacturer) Rating          \n",
       "                                num_companies    len      mean\n",
       "Country of Bean Origin                                        \n",
       "Australia                                   2    3.0  3.250000\n",
       "Belize                                     58   67.0  3.227612\n",
       "Blend                                      70  152.0  3.034539\n",
       "Bolivia                                    56   73.0  3.181507\n",
       "Brazil                                     51   75.0  3.253333"
      ]
     },
     "execution_count": 63,
     "metadata": {},
     "output_type": "execute_result"
    }
   ],
   "source": [
    "pivot_origin = pd.pivot_table(df, values=['Rating', 'Company (Manufacturer)'], \n",
    "                                 index='Country of Bean Origin',  \n",
    "                                 aggfunc={'Rating':[np.mean, len],\n",
    "                                          'Company (Manufacturer)':num_companies})\n",
    "pivot_origin.head()"
   ]
  },
  {
   "cell_type": "markdown",
   "metadata": {},
   "source": [
    "Here are the top 10 countries of bean origin for average rating:"
   ]
  },
  {
   "cell_type": "code",
   "execution_count": 69,
   "metadata": {},
   "outputs": [
    {
     "data": {
      "text/html": [
       "<div>\n",
       "<style scoped>\n",
       "    .dataframe tbody tr th:only-of-type {\n",
       "        vertical-align: middle;\n",
       "    }\n",
       "\n",
       "    .dataframe tbody tr th {\n",
       "        vertical-align: top;\n",
       "    }\n",
       "\n",
       "    .dataframe thead tr th {\n",
       "        text-align: left;\n",
       "    }\n",
       "\n",
       "    .dataframe thead tr:last-of-type th {\n",
       "        text-align: right;\n",
       "    }\n",
       "</style>\n",
       "<table border=\"1\" class=\"dataframe\">\n",
       "  <thead>\n",
       "    <tr>\n",
       "      <th></th>\n",
       "      <th>Company (Manufacturer)</th>\n",
       "      <th colspan=\"2\" halign=\"left\">Rating</th>\n",
       "    </tr>\n",
       "    <tr>\n",
       "      <th></th>\n",
       "      <th>num_companies</th>\n",
       "      <th>len</th>\n",
       "      <th>mean</th>\n",
       "    </tr>\n",
       "    <tr>\n",
       "      <th>Country of Bean Origin</th>\n",
       "      <th></th>\n",
       "      <th></th>\n",
       "      <th></th>\n",
       "    </tr>\n",
       "  </thead>\n",
       "  <tbody>\n",
       "    <tr>\n",
       "      <th>Congo</th>\n",
       "      <td>9</td>\n",
       "      <td>11.0</td>\n",
       "      <td>3.318182</td>\n",
       "    </tr>\n",
       "    <tr>\n",
       "      <th>Cuba</th>\n",
       "      <td>10</td>\n",
       "      <td>12.0</td>\n",
       "      <td>3.291667</td>\n",
       "    </tr>\n",
       "    <tr>\n",
       "      <th>Guatemala</th>\n",
       "      <td>40</td>\n",
       "      <td>53.0</td>\n",
       "      <td>3.273585</td>\n",
       "    </tr>\n",
       "    <tr>\n",
       "      <th>Haiti</th>\n",
       "      <td>22</td>\n",
       "      <td>24.0</td>\n",
       "      <td>3.270833</td>\n",
       "    </tr>\n",
       "    <tr>\n",
       "      <th>Papua New Guinea</th>\n",
       "      <td>39</td>\n",
       "      <td>49.0</td>\n",
       "      <td>3.270408</td>\n",
       "    </tr>\n",
       "    <tr>\n",
       "      <th>Madagascar</th>\n",
       "      <td>119</td>\n",
       "      <td>163.0</td>\n",
       "      <td>3.260736</td>\n",
       "    </tr>\n",
       "    <tr>\n",
       "      <th>Vietnam</th>\n",
       "      <td>47</td>\n",
       "      <td>64.0</td>\n",
       "      <td>3.253906</td>\n",
       "    </tr>\n",
       "    <tr>\n",
       "      <th>Brazil</th>\n",
       "      <td>51</td>\n",
       "      <td>75.0</td>\n",
       "      <td>3.253333</td>\n",
       "    </tr>\n",
       "    <tr>\n",
       "      <th>Nicaragua</th>\n",
       "      <td>48</td>\n",
       "      <td>92.0</td>\n",
       "      <td>3.239130</td>\n",
       "    </tr>\n",
       "    <tr>\n",
       "      <th>Trinidad and Tobago</th>\n",
       "      <td>36</td>\n",
       "      <td>40.0</td>\n",
       "      <td>3.237500</td>\n",
       "    </tr>\n",
       "  </tbody>\n",
       "</table>\n",
       "</div>"
      ],
      "text/plain": [
       "                       Company (Manufacturer) Rating          \n",
       "                                num_companies    len      mean\n",
       "Country of Bean Origin                                        \n",
       "Congo                                       9   11.0  3.318182\n",
       "Cuba                                       10   12.0  3.291667\n",
       "Guatemala                                  40   53.0  3.273585\n",
       "Haiti                                      22   24.0  3.270833\n",
       "Papua New Guinea                           39   49.0  3.270408\n",
       "Madagascar                                119  163.0  3.260736\n",
       "Vietnam                                    47   64.0  3.253906\n",
       "Brazil                                     51   75.0  3.253333\n",
       "Nicaragua                                  48   92.0  3.239130\n",
       "Trinidad and Tobago                        36   40.0  3.237500"
      ]
     },
     "execution_count": 69,
     "metadata": {},
     "output_type": "execute_result"
    }
   ],
   "source": [
    "pivot_origin[pivot_origin[('Rating', 'len')]>10].sort_values(('Rating', 'mean'), ascending=False).head(10)"
   ]
  },
  {
   "cell_type": "markdown",
   "metadata": {},
   "source": [
    "Plot distribution of rating of most frequent countries of origin."
   ]
  },
  {
   "cell_type": "code",
   "execution_count": 13,
   "metadata": {},
   "outputs": [
    {
     "data": {
      "image/png": "[encoded data removed]",
      "text/plain": [
       "<Figure size 720x360 with 1 Axes>"
      ]
     },
     "metadata": {
      "needs_background": "light"
     },
     "output_type": "display_data"
    }
   ],
   "source": [
    "most_freq = df['Country of Bean Origin'].value_counts()[:40].index\n",
    "sns.catplot(x=\"Country of Bean Origin\", y=\"Rating\", \n",
    "            kind=\"box\", \n",
    "            aspect=2, \n",
    "            order=most_freq, \n",
    "            data=df[df['Country of Bean Origin'].isin(most_freq)])\n",
    "plt.xticks(rotation=90);"
   ]
  },
  {
   "cell_type": "markdown",
   "metadata": {},
   "source": [
    "Plot distribution of rating of most frequent continents of origin."
   ]
  },
  {
   "cell_type": "code",
   "execution_count": 14,
   "metadata": {},
   "outputs": [
    {
     "data": {
      "image/png": "[encoded data removed]",
      "text/plain": [
       "<Figure size 720x360 with 1 Axes>"
      ]
     },
     "metadata": {
      "needs_background": "light"
     },
     "output_type": "display_data"
    }
   ],
   "source": [
    "most_freq = df['Continent_origin'].value_counts()[:40].index\n",
    "sns.catplot(x=\"Continent_origin\", y=\"Rating\", \n",
    "            kind=\"box\", \n",
    "            aspect=2, \n",
    "            order=most_freq, \n",
    "            data=df[df['Continent_origin'].isin(most_freq)])\n",
    "plt.xticks(rotation=90);"
   ]
  },
  {
   "cell_type": "markdown",
   "metadata": {},
   "source": [
    "Plot distribution of rating of most frequent sub-regions of origin."
   ]
  },
  {
   "cell_type": "code",
   "execution_count": 15,
   "metadata": {},
   "outputs": [
    {
     "data": {
      "image/png": "[encoded data removed]",
      "text/plain": [
       "<Figure size 720x360 with 1 Axes>"
      ]
     },
     "metadata": {
      "needs_background": "light"
     },
     "output_type": "display_data"
    }
   ],
   "source": [
    "most_freq = df['Sub-region_origin'].value_counts()[:40].index\n",
    "sns.catplot(x=\"Sub-region_origin\", y=\"Rating\", \n",
    "            kind=\"box\", \n",
    "            aspect=2, \n",
    "            order=most_freq, \n",
    "            data=df[df['Sub-region_origin'].isin(most_freq)])\n",
    "plt.xticks(rotation=90);"
   ]
  },
  {
   "cell_type": "markdown",
   "metadata": {},
   "source": [
    "### Ingredients"
   ]
  },
  {
   "cell_type": "markdown",
   "metadata": {},
   "source": [
    "From http://flavorsofcacao.com:\n",
    "\n",
    "> \"#\" = represents the number of ingredients in the chocolate; B = Beans, S = Sugar, S* = Sweetener other than white cane or beet sugar, C = Cocoa Butter, V = Vanilla, L = Lecithin, Sa = Salt\n",
    "\n",
    "For each of the above ingredients, let's create a column which indicates whether that ingredient is used or not."
   ]
  },
  {
   "cell_type": "code",
   "execution_count": 71,
   "metadata": {},
   "outputs": [
    {
     "data": {
      "text/html": [
       "<div>\n",
       "<style scoped>\n",
       "    .dataframe tbody tr th:only-of-type {\n",
       "        vertical-align: middle;\n",
       "    }\n",
       "\n",
       "    .dataframe tbody tr th {\n",
       "        vertical-align: top;\n",
       "    }\n",
       "\n",
       "    .dataframe thead th {\n",
       "        text-align: right;\n",
       "    }\n",
       "</style>\n",
       "<table border=\"1\" class=\"dataframe\">\n",
       "  <thead>\n",
       "    <tr style=\"text-align: right;\">\n",
       "      <th></th>\n",
       "      <th>B</th>\n",
       "      <th>C</th>\n",
       "      <th>L</th>\n",
       "      <th>S</th>\n",
       "      <th>S*</th>\n",
       "      <th>Sa</th>\n",
       "      <th>V</th>\n",
       "    </tr>\n",
       "  </thead>\n",
       "  <tbody>\n",
       "    <tr>\n",
       "      <th>0</th>\n",
       "      <td>1</td>\n",
       "      <td>1</td>\n",
       "      <td>0</td>\n",
       "      <td>1</td>\n",
       "      <td>0</td>\n",
       "      <td>0</td>\n",
       "      <td>0</td>\n",
       "    </tr>\n",
       "    <tr>\n",
       "      <th>1</th>\n",
       "      <td>1</td>\n",
       "      <td>1</td>\n",
       "      <td>0</td>\n",
       "      <td>1</td>\n",
       "      <td>0</td>\n",
       "      <td>0</td>\n",
       "      <td>0</td>\n",
       "    </tr>\n",
       "    <tr>\n",
       "      <th>2</th>\n",
       "      <td>1</td>\n",
       "      <td>1</td>\n",
       "      <td>0</td>\n",
       "      <td>1</td>\n",
       "      <td>0</td>\n",
       "      <td>0</td>\n",
       "      <td>0</td>\n",
       "    </tr>\n",
       "    <tr>\n",
       "      <th>3</th>\n",
       "      <td>1</td>\n",
       "      <td>1</td>\n",
       "      <td>1</td>\n",
       "      <td>1</td>\n",
       "      <td>0</td>\n",
       "      <td>0</td>\n",
       "      <td>0</td>\n",
       "    </tr>\n",
       "    <tr>\n",
       "      <th>4</th>\n",
       "      <td>1</td>\n",
       "      <td>1</td>\n",
       "      <td>1</td>\n",
       "      <td>1</td>\n",
       "      <td>0</td>\n",
       "      <td>0</td>\n",
       "      <td>0</td>\n",
       "    </tr>\n",
       "  </tbody>\n",
       "</table>\n",
       "</div>"
      ],
      "text/plain": [
       "   B  C  L  S  S*  Sa  V\n",
       "0  1  1  0  1   0   0  0\n",
       "1  1  1  0  1   0   0  0\n",
       "2  1  1  0  1   0   0  0\n",
       "3  1  1  1  1   0   0  0\n",
       "4  1  1  1  1   0   0  0"
      ]
     },
     "execution_count": 71,
     "metadata": {},
     "output_type": "execute_result"
    }
   ],
   "source": [
    "# Remove numbers, dashes and spaces\n",
    "df['Ingredients'] = df['Ingredients'].str.replace('[\\s\\d-]', '')\n",
    "\n",
    "ingredient_dummies = df['Ingredients'].str.get_dummies(sep=',')\n",
    "ingredient_dummies.head()"
   ]
  },
  {
   "cell_type": "markdown",
   "metadata": {},
   "source": [
    "Let's plot for each ingredient the number of bars that contain it."
   ]
  },
  {
   "cell_type": "code",
   "execution_count": 74,
   "metadata": {
    "scrolled": true
   },
   "outputs": [
    {
     "data": {
      "image/png": "[encoded data removed]",
      "text/plain": [
       "<Figure size 432x288 with 1 Axes>"
      ]
     },
     "metadata": {
      "needs_background": "light"
     },
     "output_type": "display_data"
    }
   ],
   "source": [
    "values = ingredient_dummies.sum()\n",
    "sns.barplot(x=values.index, y=values);"
   ]
  },
  {
   "cell_type": "markdown",
   "metadata": {},
   "source": [
    "Note that some values of the ingredient column are missing and the corresponding dummies are all 0:"
   ]
  },
  {
   "cell_type": "code",
   "execution_count": 29,
   "metadata": {},
   "outputs": [
    {
     "data": {
      "text/html": [
       "<div>\n",
       "<style scoped>\n",
       "    .dataframe tbody tr th:only-of-type {\n",
       "        vertical-align: middle;\n",
       "    }\n",
       "\n",
       "    .dataframe tbody tr th {\n",
       "        vertical-align: top;\n",
       "    }\n",
       "\n",
       "    .dataframe thead th {\n",
       "        text-align: right;\n",
       "    }\n",
       "</style>\n",
       "<table border=\"1\" class=\"dataframe\">\n",
       "  <thead>\n",
       "    <tr style=\"text-align: right;\">\n",
       "      <th></th>\n",
       "      <th>B</th>\n",
       "      <th>C</th>\n",
       "      <th>L</th>\n",
       "      <th>S</th>\n",
       "      <th>S*</th>\n",
       "      <th>Sa</th>\n",
       "      <th>V</th>\n",
       "    </tr>\n",
       "  </thead>\n",
       "  <tbody>\n",
       "    <tr>\n",
       "      <th>80</th>\n",
       "      <td>0</td>\n",
       "      <td>0</td>\n",
       "      <td>0</td>\n",
       "      <td>0</td>\n",
       "      <td>0</td>\n",
       "      <td>0</td>\n",
       "      <td>0</td>\n",
       "    </tr>\n",
       "    <tr>\n",
       "      <th>81</th>\n",
       "      <td>0</td>\n",
       "      <td>0</td>\n",
       "      <td>0</td>\n",
       "      <td>0</td>\n",
       "      <td>0</td>\n",
       "      <td>0</td>\n",
       "      <td>0</td>\n",
       "    </tr>\n",
       "    <tr>\n",
       "      <th>161</th>\n",
       "      <td>0</td>\n",
       "      <td>0</td>\n",
       "      <td>0</td>\n",
       "      <td>0</td>\n",
       "      <td>0</td>\n",
       "      <td>0</td>\n",
       "      <td>0</td>\n",
       "    </tr>\n",
       "    <tr>\n",
       "      <th>283</th>\n",
       "      <td>0</td>\n",
       "      <td>0</td>\n",
       "      <td>0</td>\n",
       "      <td>0</td>\n",
       "      <td>0</td>\n",
       "      <td>0</td>\n",
       "      <td>0</td>\n",
       "    </tr>\n",
       "    <tr>\n",
       "      <th>307</th>\n",
       "      <td>0</td>\n",
       "      <td>0</td>\n",
       "      <td>0</td>\n",
       "      <td>0</td>\n",
       "      <td>0</td>\n",
       "      <td>0</td>\n",
       "      <td>0</td>\n",
       "    </tr>\n",
       "  </tbody>\n",
       "</table>\n",
       "</div>"
      ],
      "text/plain": [
       "     B  C  L  S  S*  Sa  V\n",
       "80   0  0  0  0   0   0  0\n",
       "81   0  0  0  0   0   0  0\n",
       "161  0  0  0  0   0   0  0\n",
       "283  0  0  0  0   0   0  0\n",
       "307  0  0  0  0   0   0  0"
      ]
     },
     "execution_count": 29,
     "metadata": {},
     "output_type": "execute_result"
    }
   ],
   "source": [
    "ingredient_dummies[df.isna().any(axis=1)].head()"
   ]
  },
  {
   "cell_type": "markdown",
   "metadata": {},
   "source": [
    "We replace these missing values by the mean of the corresponding dummy variable."
   ]
  },
  {
   "cell_type": "code",
   "execution_count": 30,
   "metadata": {},
   "outputs": [],
   "source": [
    "ingr_means = ingredient_dummies.drop(ingredient_dummies[df.isna().any(axis=1)].index).mean()\n",
    "ingredient_dummies[df.isna().any(axis=1)] += ingr_means"
   ]
  },
  {
   "cell_type": "markdown",
   "metadata": {},
   "source": [
    "### Most Memorable Characteristics"
   ]
  },
  {
   "cell_type": "code",
   "execution_count": 101,
   "metadata": {},
   "outputs": [
    {
     "data": {
      "text/plain": [
       "124"
      ]
     },
     "execution_count": 101,
     "metadata": {},
     "output_type": "execute_result"
    }
   ],
   "source": [
    "contains('bitter').sum()"
   ]
  },
  {
   "cell_type": "code",
   "execution_count": 95,
   "metadata": {},
   "outputs": [],
   "source": [
    "characteristics_list = ['nutty', 'fruit', 'floral', 'spicy', 'cocoa', 'earthy', \n",
    "                        'sweet', 'sour', 'roasty', 'dairy', 'grass', 'pungent', \n",
    "                        'mouldy', 'dirty', 'musty', 'smokey', 'rubbery', 'hammy', \n",
    "                        'bland', 'petroleum', 'off', 'bitter', 'astringent']"
   ]
  },
  {
   "cell_type": "code",
   "execution_count": 96,
   "metadata": {},
   "outputs": [],
   "source": [
    "def contains(w):\n",
    "    return df['Most Memorable Characteristics'].str.contains(w) + 0\n",
    "\n",
    "for ch in characteristics_list:\n",
    "    df[ch] = contains(ch)"
   ]
  },
  {
   "cell_type": "code",
   "execution_count": 97,
   "metadata": {},
   "outputs": [
    {
     "data": {
      "text/plain": [
       "nutty         260\n",
       "fruit         289\n",
       "floral        152\n",
       "spicy         143\n",
       "cocoa         350\n",
       "earthy        182\n",
       "sweet         289\n",
       "sour          185\n",
       "roasty        209\n",
       "dairy          47\n",
       "grass          62\n",
       "pungent        36\n",
       "mouldy          0\n",
       "dirty          22\n",
       "musty          12\n",
       "smokey         50\n",
       "rubbery        23\n",
       "hammy          34\n",
       "bland          21\n",
       "petroleum       0\n",
       "off           203\n",
       "astringent     41\n",
       "dtype: int64"
      ]
     },
     "execution_count": 97,
     "metadata": {},
     "output_type": "execute_result"
    }
   ],
   "source": [
    "df[characteristics_list].sum()"
   ]
  },
  {
   "cell_type": "code",
   "execution_count": 100,
   "metadata": {},
   "outputs": [
    {
     "data": {
      "text/plain": [
       "0    cocoa, blackberry, full body\n",
       "1          cocoa, vegetal, savory\n",
       "2       rich cocoa, fatty, bready\n",
       "3           fruity, melon, roasty\n",
       "4                  vegetal, nutty\n",
       "Name: Most Memorable Characteristics, dtype: object"
      ]
     },
     "execution_count": 100,
     "metadata": {},
     "output_type": "execute_result"
    }
   ],
   "source": [
    "df['Most Memorable Characteristics'].head()"
   ]
  },
  {
   "cell_type": "code",
   "execution_count": 17,
   "metadata": {},
   "outputs": [],
   "source": [
    "# Adjust spelling\n",
    "replaces = {\n",
    "    'accesible': 'accessible',\n",
    "    'alocohol': 'alcohol',\n",
    "    'astingent': 'astringent',\n",
    "    'brownine': 'brownie',\n",
    "    'cardamon': 'cardamom',\n",
    "    'cinamon': 'cinnamon',\n",
    "    'cocounut': 'coconut',\n",
    "    'earty': 'earthy',\n",
    "    'astringcy': 'astringency',\n",
    "    'astringnet': 'astringent',\n",
    "    'hit': 'hint',\n",
    "    'overyly': 'overly',\n",
    "    'peanutbutter': 'peanut butter',\n",
    "    'prononced': 'pronounced',\n",
    "    'rainins': 'raisins',\n",
    "    'raisns': 'raisins',\n",
    "    'rasins': 'raisins',\n",
    "    'cooa': 'cocoa',\n",
    "    'sl.': 'slight',\n",
    "    'sliglty': 'slightly',\n",
    "    'smomkey': 'smokey',\n",
    "    'smoth': 'smooth',\n",
    "    'trop.': 'tropical',\n",
    "    '(n)': '',\n",
    "}\n",
    "\n",
    "for (key, val) in replaces.items():\n",
    "    df['Most Memorable Characteristics'] = df['Most Memorable Characteristics'].apply(lambda s: s.lower().replace(key, val))"
   ]
  },
  {
   "cell_type": "code",
   "execution_count": 37,
   "metadata": {},
   "outputs": [],
   "source": [
    "stop_words = ['note', 'notes', 'almost', 'with', 'w/', '/', 'flavor', 'then', \n",
    "              'like', 'by', 'but', 'mostly', 'to', 'and', '&', 'is', 'of']"
   ]
  },
  {
   "cell_type": "code",
   "execution_count": 40,
   "metadata": {},
   "outputs": [],
   "source": [
    "def stem_characteristics(s):\n",
    "    from nltk.stem import PorterStemmer \n",
    "    from nltk.tokenize import word_tokenize \n",
    "\n",
    "    stemmer = PorterStemmer()  \n",
    "    \n",
    "    words = word_tokenize(s)\n",
    "    words = [stemmer.stem(w) for w in words if not w in stop_words]\n",
    "    \n",
    "    return ' '.join(words)"
   ]
  },
  {
   "cell_type": "code",
   "execution_count": 39,
   "metadata": {},
   "outputs": [
    {
     "data": {
      "text/plain": [
       "0       cocoa , blackberri , full bodi\n",
       "1               cocoa , veget , savori\n",
       "2          rich cocoa , fatti , breadi\n",
       "3              fruiti , melon , roasti\n",
       "4                        veget , nutti\n",
       "                     ...              \n",
       "2307               waxi , cloy , veget\n",
       "2308        strong nutti , marshmallow\n",
       "2309            mute , roasti , access\n",
       "2310     fatti , mild nut , mild fruit\n",
       "2311            fatti , earthi , cocoa\n",
       "Name: Most Memorable Characteristics, Length: 2312, dtype: object"
      ]
     },
     "execution_count": 39,
     "metadata": {},
     "output_type": "execute_result"
    }
   ],
   "source": [
    "preprocessed_chars = df['Most Memorable Characteristics'].apply(\n",
    "    lambda s: s.lower().replace(key, val)\n",
    "    ).apply(stem_characteristics)\n",
    "preprocessed_chars"
   ]
  },
  {
   "cell_type": "code",
   "execution_count": 113,
   "metadata": {},
   "outputs": [],
   "source": [
    "vectorizer = CountVectorizer(ngram_range=(1, 2), stop_words=stop_words, max_features=100)\n",
    "transformed_chars = vectorizer.fit_transform(preprocessed_chars)"
   ]
  },
  {
   "cell_type": "code",
   "execution_count": 120,
   "metadata": {},
   "outputs": [
    {
     "data": {
      "text/html": [
       "<div>\n",
       "<style scoped>\n",
       "    .dataframe tbody tr th:only-of-type {\n",
       "        vertical-align: middle;\n",
       "    }\n",
       "\n",
       "    .dataframe tbody tr th {\n",
       "        vertical-align: top;\n",
       "    }\n",
       "\n",
       "    .dataframe thead th {\n",
       "        text-align: right;\n",
       "    }\n",
       "</style>\n",
       "<table border=\"1\" class=\"dataframe\">\n",
       "  <thead>\n",
       "    <tr style=\"text-align: right;\">\n",
       "      <th></th>\n",
       "      <th>acid</th>\n",
       "      <th>astring</th>\n",
       "      <th>balanc</th>\n",
       "      <th>banana</th>\n",
       "      <th>basic</th>\n",
       "      <th>basic cocoa</th>\n",
       "      <th>berri</th>\n",
       "      <th>bitter</th>\n",
       "      <th>black</th>\n",
       "      <th>black pepper</th>\n",
       "      <th>...</th>\n",
       "      <th>strawberri</th>\n",
       "      <th>strong</th>\n",
       "      <th>sweet</th>\n",
       "      <th>tangi</th>\n",
       "      <th>tart</th>\n",
       "      <th>tobacco</th>\n",
       "      <th>vanilla</th>\n",
       "      <th>veget</th>\n",
       "      <th>veri</th>\n",
       "      <th>woodi</th>\n",
       "    </tr>\n",
       "  </thead>\n",
       "  <tbody>\n",
       "    <tr>\n",
       "      <th>0</th>\n",
       "      <td>0</td>\n",
       "      <td>0</td>\n",
       "      <td>0</td>\n",
       "      <td>0</td>\n",
       "      <td>0</td>\n",
       "      <td>0</td>\n",
       "      <td>0</td>\n",
       "      <td>0</td>\n",
       "      <td>0</td>\n",
       "      <td>0</td>\n",
       "      <td>...</td>\n",
       "      <td>0</td>\n",
       "      <td>0</td>\n",
       "      <td>0</td>\n",
       "      <td>0</td>\n",
       "      <td>0</td>\n",
       "      <td>0</td>\n",
       "      <td>0</td>\n",
       "      <td>0</td>\n",
       "      <td>0</td>\n",
       "      <td>0</td>\n",
       "    </tr>\n",
       "    <tr>\n",
       "      <th>1</th>\n",
       "      <td>0</td>\n",
       "      <td>0</td>\n",
       "      <td>0</td>\n",
       "      <td>0</td>\n",
       "      <td>0</td>\n",
       "      <td>0</td>\n",
       "      <td>0</td>\n",
       "      <td>0</td>\n",
       "      <td>0</td>\n",
       "      <td>0</td>\n",
       "      <td>...</td>\n",
       "      <td>0</td>\n",
       "      <td>0</td>\n",
       "      <td>0</td>\n",
       "      <td>0</td>\n",
       "      <td>0</td>\n",
       "      <td>0</td>\n",
       "      <td>0</td>\n",
       "      <td>1</td>\n",
       "      <td>0</td>\n",
       "      <td>0</td>\n",
       "    </tr>\n",
       "    <tr>\n",
       "      <th>2</th>\n",
       "      <td>0</td>\n",
       "      <td>0</td>\n",
       "      <td>0</td>\n",
       "      <td>0</td>\n",
       "      <td>0</td>\n",
       "      <td>0</td>\n",
       "      <td>0</td>\n",
       "      <td>0</td>\n",
       "      <td>0</td>\n",
       "      <td>0</td>\n",
       "      <td>...</td>\n",
       "      <td>0</td>\n",
       "      <td>0</td>\n",
       "      <td>0</td>\n",
       "      <td>0</td>\n",
       "      <td>0</td>\n",
       "      <td>0</td>\n",
       "      <td>0</td>\n",
       "      <td>0</td>\n",
       "      <td>0</td>\n",
       "      <td>0</td>\n",
       "    </tr>\n",
       "    <tr>\n",
       "      <th>3</th>\n",
       "      <td>0</td>\n",
       "      <td>0</td>\n",
       "      <td>0</td>\n",
       "      <td>0</td>\n",
       "      <td>0</td>\n",
       "      <td>0</td>\n",
       "      <td>0</td>\n",
       "      <td>0</td>\n",
       "      <td>0</td>\n",
       "      <td>0</td>\n",
       "      <td>...</td>\n",
       "      <td>0</td>\n",
       "      <td>0</td>\n",
       "      <td>0</td>\n",
       "      <td>0</td>\n",
       "      <td>0</td>\n",
       "      <td>0</td>\n",
       "      <td>0</td>\n",
       "      <td>0</td>\n",
       "      <td>0</td>\n",
       "      <td>0</td>\n",
       "    </tr>\n",
       "    <tr>\n",
       "      <th>4</th>\n",
       "      <td>0</td>\n",
       "      <td>0</td>\n",
       "      <td>0</td>\n",
       "      <td>0</td>\n",
       "      <td>0</td>\n",
       "      <td>0</td>\n",
       "      <td>0</td>\n",
       "      <td>0</td>\n",
       "      <td>0</td>\n",
       "      <td>0</td>\n",
       "      <td>...</td>\n",
       "      <td>0</td>\n",
       "      <td>0</td>\n",
       "      <td>0</td>\n",
       "      <td>0</td>\n",
       "      <td>0</td>\n",
       "      <td>0</td>\n",
       "      <td>0</td>\n",
       "      <td>1</td>\n",
       "      <td>0</td>\n",
       "      <td>0</td>\n",
       "    </tr>\n",
       "  </tbody>\n",
       "</table>\n",
       "<p>5 rows × 100 columns</p>\n",
       "</div>"
      ],
      "text/plain": [
       "   acid  astring  balanc  banana  basic  basic cocoa  berri  bitter  black  \\\n",
       "0     0        0       0       0      0            0      0       0      0   \n",
       "1     0        0       0       0      0            0      0       0      0   \n",
       "2     0        0       0       0      0            0      0       0      0   \n",
       "3     0        0       0       0      0            0      0       0      0   \n",
       "4     0        0       0       0      0            0      0       0      0   \n",
       "\n",
       "   black pepper  ...  strawberri  strong  sweet  tangi  tart  tobacco  \\\n",
       "0             0  ...           0       0      0      0     0        0   \n",
       "1             0  ...           0       0      0      0     0        0   \n",
       "2             0  ...           0       0      0      0     0        0   \n",
       "3             0  ...           0       0      0      0     0        0   \n",
       "4             0  ...           0       0      0      0     0        0   \n",
       "\n",
       "   vanilla  veget  veri  woodi  \n",
       "0        0      0     0      0  \n",
       "1        0      1     0      0  \n",
       "2        0      0     0      0  \n",
       "3        0      0     0      0  \n",
       "4        0      1     0      0  \n",
       "\n",
       "[5 rows x 100 columns]"
      ]
     },
     "execution_count": 120,
     "metadata": {},
     "output_type": "execute_result"
    }
   ],
   "source": [
    "tokens_to_words = {v: k for (k, v) in vectorizer.vocabulary_.items()}\n",
    "characteristic_dummies = pd.DataFrame(transformed_chars.todense()).rename(tokens_to_words, axis=1)\n",
    "characteristic_dummies.head()"
   ]
  },
  {
   "cell_type": "code",
   "execution_count": 122,
   "metadata": {},
   "outputs": [
    {
     "data": {
      "text/plain": [
       "cocoa           351\n",
       "sweet           289\n",
       "nutti           260\n",
       "fruit           236\n",
       "mild            210\n",
       "               ... \n",
       "creami nutti     18\n",
       "coconut          17\n",
       "milk             17\n",
       "light            17\n",
       "balanc           17\n",
       "Length: 100, dtype: int64"
      ]
     },
     "execution_count": 122,
     "metadata": {},
     "output_type": "execute_result"
    }
   ],
   "source": [
    "counts = characteristic_dummies.sum().sort_values(ascending=False)\n",
    "counts"
   ]
  },
  {
   "cell_type": "code",
   "execution_count": 124,
   "metadata": {},
   "outputs": [
    {
     "data": {
      "image/png": "[encoded data removed]",
      "text/plain": [
       "<Figure size 576x1440 with 1 Axes>"
      ]
     },
     "metadata": {
      "needs_background": "light"
     },
     "output_type": "display_data"
    }
   ],
   "source": [
    "fig, ax = plt.subplots(figsize=(8, 20))\n",
    "sns.barplot(y=counts.index, x=counts)\n",
    "plt.xticks(rotation=90);"
   ]
  },
  {
   "cell_type": "code",
   "execution_count": 91,
   "metadata": {
    "scrolled": true
   },
   "outputs": [
    {
     "data": {
      "text/html": [
       "<div>\n",
       "<style scoped>\n",
       "    .dataframe tbody tr th:only-of-type {\n",
       "        vertical-align: middle;\n",
       "    }\n",
       "\n",
       "    .dataframe tbody tr th {\n",
       "        vertical-align: top;\n",
       "    }\n",
       "\n",
       "    .dataframe thead th {\n",
       "        text-align: right;\n",
       "    }\n",
       "</style>\n",
       "<table border=\"1\" class=\"dataframe\">\n",
       "  <thead>\n",
       "    <tr style=\"text-align: right;\">\n",
       "      <th></th>\n",
       "      <th>access</th>\n",
       "      <th>acid</th>\n",
       "      <th>add</th>\n",
       "      <th>aftertast</th>\n",
       "      <th>alcohol</th>\n",
       "      <th>alkalyz</th>\n",
       "      <th>allur</th>\n",
       "      <th>almond</th>\n",
       "      <th>aluminum</th>\n",
       "      <th>ambigu</th>\n",
       "      <th>...</th>\n",
       "      <th>wild</th>\n",
       "      <th>wine</th>\n",
       "      <th>winey</th>\n",
       "      <th>wood</th>\n",
       "      <th>woodi</th>\n",
       "      <th>woodsi</th>\n",
       "      <th>wtf</th>\n",
       "      <th>xl</th>\n",
       "      <th>yellow</th>\n",
       "      <th>yogurt</th>\n",
       "    </tr>\n",
       "  </thead>\n",
       "  <tbody>\n",
       "    <tr>\n",
       "      <th>0</th>\n",
       "      <td>0</td>\n",
       "      <td>0</td>\n",
       "      <td>0</td>\n",
       "      <td>0</td>\n",
       "      <td>0</td>\n",
       "      <td>0</td>\n",
       "      <td>0</td>\n",
       "      <td>0</td>\n",
       "      <td>0</td>\n",
       "      <td>0</td>\n",
       "      <td>...</td>\n",
       "      <td>0</td>\n",
       "      <td>0</td>\n",
       "      <td>0</td>\n",
       "      <td>0</td>\n",
       "      <td>0</td>\n",
       "      <td>0</td>\n",
       "      <td>0</td>\n",
       "      <td>0</td>\n",
       "      <td>0</td>\n",
       "      <td>0</td>\n",
       "    </tr>\n",
       "    <tr>\n",
       "      <th>1</th>\n",
       "      <td>0</td>\n",
       "      <td>0</td>\n",
       "      <td>0</td>\n",
       "      <td>0</td>\n",
       "      <td>0</td>\n",
       "      <td>0</td>\n",
       "      <td>0</td>\n",
       "      <td>0</td>\n",
       "      <td>0</td>\n",
       "      <td>0</td>\n",
       "      <td>...</td>\n",
       "      <td>0</td>\n",
       "      <td>0</td>\n",
       "      <td>0</td>\n",
       "      <td>0</td>\n",
       "      <td>0</td>\n",
       "      <td>0</td>\n",
       "      <td>0</td>\n",
       "      <td>0</td>\n",
       "      <td>0</td>\n",
       "      <td>0</td>\n",
       "    </tr>\n",
       "    <tr>\n",
       "      <th>2</th>\n",
       "      <td>0</td>\n",
       "      <td>0</td>\n",
       "      <td>0</td>\n",
       "      <td>0</td>\n",
       "      <td>0</td>\n",
       "      <td>0</td>\n",
       "      <td>0</td>\n",
       "      <td>0</td>\n",
       "      <td>0</td>\n",
       "      <td>0</td>\n",
       "      <td>...</td>\n",
       "      <td>0</td>\n",
       "      <td>0</td>\n",
       "      <td>0</td>\n",
       "      <td>0</td>\n",
       "      <td>0</td>\n",
       "      <td>0</td>\n",
       "      <td>0</td>\n",
       "      <td>0</td>\n",
       "      <td>0</td>\n",
       "      <td>0</td>\n",
       "    </tr>\n",
       "    <tr>\n",
       "      <th>3</th>\n",
       "      <td>0</td>\n",
       "      <td>0</td>\n",
       "      <td>0</td>\n",
       "      <td>0</td>\n",
       "      <td>0</td>\n",
       "      <td>0</td>\n",
       "      <td>0</td>\n",
       "      <td>0</td>\n",
       "      <td>0</td>\n",
       "      <td>0</td>\n",
       "      <td>...</td>\n",
       "      <td>0</td>\n",
       "      <td>0</td>\n",
       "      <td>0</td>\n",
       "      <td>0</td>\n",
       "      <td>0</td>\n",
       "      <td>0</td>\n",
       "      <td>0</td>\n",
       "      <td>0</td>\n",
       "      <td>0</td>\n",
       "      <td>0</td>\n",
       "    </tr>\n",
       "    <tr>\n",
       "      <th>4</th>\n",
       "      <td>0</td>\n",
       "      <td>0</td>\n",
       "      <td>0</td>\n",
       "      <td>0</td>\n",
       "      <td>0</td>\n",
       "      <td>0</td>\n",
       "      <td>0</td>\n",
       "      <td>0</td>\n",
       "      <td>0</td>\n",
       "      <td>0</td>\n",
       "      <td>...</td>\n",
       "      <td>0</td>\n",
       "      <td>0</td>\n",
       "      <td>0</td>\n",
       "      <td>0</td>\n",
       "      <td>0</td>\n",
       "      <td>0</td>\n",
       "      <td>0</td>\n",
       "      <td>0</td>\n",
       "      <td>0</td>\n",
       "      <td>0</td>\n",
       "    </tr>\n",
       "  </tbody>\n",
       "</table>\n",
       "<p>5 rows × 444 columns</p>\n",
       "</div>"
      ],
      "text/plain": [
       "   access  acid  add  aftertast  alcohol  alkalyz  allur  almond  aluminum  \\\n",
       "0       0     0    0          0        0        0      0       0         0   \n",
       "1       0     0    0          0        0        0      0       0         0   \n",
       "2       0     0    0          0        0        0      0       0         0   \n",
       "3       0     0    0          0        0        0      0       0         0   \n",
       "4       0     0    0          0        0        0      0       0         0   \n",
       "\n",
       "   ambigu  ...  wild  wine  winey  wood  woodi  woodsi  wtf  xl  yellow  \\\n",
       "0       0  ...     0     0      0     0      0       0    0   0       0   \n",
       "1       0  ...     0     0      0     0      0       0    0   0       0   \n",
       "2       0  ...     0     0      0     0      0       0    0   0       0   \n",
       "3       0  ...     0     0      0     0      0       0    0   0       0   \n",
       "4       0  ...     0     0      0     0      0       0    0   0       0   \n",
       "\n",
       "   yogurt  \n",
       "0       0  \n",
       "1       0  \n",
       "2       0  \n",
       "3       0  \n",
       "4       0  \n",
       "\n",
       "[5 rows x 444 columns]"
      ]
     },
     "execution_count": 91,
     "metadata": {},
     "output_type": "execute_result"
    }
   ],
   "source": [
    "characteristic_dummies = df['Most Memorable Characteristics'].apply(stem_characteristics)\n",
    "characteristic_dummies = characteristic_dummies.str.get_dummies(sep='|')\n",
    "characteristic_dummies.head()"
   ]
  },
  {
   "cell_type": "markdown",
   "metadata": {},
   "source": [
    "Let's show the most frequent characteristics"
   ]
  },
  {
   "cell_type": "code",
   "execution_count": 83,
   "metadata": {},
   "outputs": [
    {
     "data": {
      "text/plain": [
       "cocoa     351\n",
       "sweet     289\n",
       "nutti     260\n",
       "fruit     236\n",
       "roasti    209\n",
       "mild      200\n",
       "creami    186\n",
       "sour      185\n",
       "earthi    183\n",
       "intens    173\n",
       "dtype: int64"
      ]
     },
     "execution_count": 83,
     "metadata": {},
     "output_type": "execute_result"
    }
   ],
   "source": [
    "values = (characteristic_dummies.sum()).sort_values(ascending=False)\n",
    "values.head(10)"
   ]
  },
  {
   "cell_type": "code",
   "execution_count": 15,
   "metadata": {},
   "outputs": [
    {
     "data": {
      "text/plain": [
       "82"
      ]
     },
     "execution_count": 15,
     "metadata": {},
     "output_type": "execute_result"
    }
   ],
   "source": [
    "(values>15).sum()"
   ]
  },
  {
   "cell_type": "code",
   "execution_count": 84,
   "metadata": {},
   "outputs": [
    {
     "data": {
      "image/png": "[encoded data removed]",
      "text/plain": [
       "<Figure size 1080x432 with 1 Axes>"
      ]
     },
     "metadata": {
      "needs_background": "light"
     },
     "output_type": "display_data"
    }
   ],
   "source": [
    "fig, ax = plt.subplots(figsize=(15, 6))\n",
    "sns.barplot(x=values[:40].index, y=values[:40])\n",
    "plt.xticks(rotation=90);"
   ]
  },
  {
   "cell_type": "code",
   "execution_count": 93,
   "metadata": {},
   "outputs": [],
   "source": [
    "corr = pd.concat([df[['Rating']], characteristic_dummies], axis=1).corr()"
   ]
  },
  {
   "cell_type": "code",
   "execution_count": 94,
   "metadata": {},
   "outputs": [
    {
     "data": {
      "text/plain": [
       "Rating     1.000000\n",
       "creami     0.193598\n",
       "cocoa      0.177086\n",
       "rich       0.156431\n",
       "complex    0.118583\n",
       "             ...   \n",
       "veri      -0.134074\n",
       "chemic    -0.161400\n",
       "vanilla   -0.179625\n",
       "bitter    -0.222320\n",
       "off       -0.240817\n",
       "Name: Rating, Length: 445, dtype: float64"
      ]
     },
     "execution_count": 94,
     "metadata": {},
     "output_type": "execute_result"
    }
   ],
   "source": [
    "corr['Rating'].sort_values(ascending=False)"
   ]
  },
  {
   "cell_type": "code",
   "execution_count": 95,
   "metadata": {},
   "outputs": [
    {
     "data": {
      "text/html": [
       "<div>\n",
       "<style scoped>\n",
       "    .dataframe tbody tr th:only-of-type {\n",
       "        vertical-align: middle;\n",
       "    }\n",
       "\n",
       "    .dataframe tbody tr th {\n",
       "        vertical-align: top;\n",
       "    }\n",
       "\n",
       "    .dataframe thead th {\n",
       "        text-align: right;\n",
       "    }\n",
       "</style>\n",
       "<table border=\"1\" class=\"dataframe\">\n",
       "  <thead>\n",
       "    <tr style=\"text-align: right;\">\n",
       "      <th></th>\n",
       "      <th>Rating</th>\n",
       "      <th>access</th>\n",
       "      <th>acid</th>\n",
       "      <th>add</th>\n",
       "      <th>aftertast</th>\n",
       "      <th>alcohol</th>\n",
       "      <th>alkalyz</th>\n",
       "      <th>allur</th>\n",
       "      <th>almond</th>\n",
       "      <th>aluminum</th>\n",
       "      <th>...</th>\n",
       "      <th>wild</th>\n",
       "      <th>wine</th>\n",
       "      <th>winey</th>\n",
       "      <th>wood</th>\n",
       "      <th>woodi</th>\n",
       "      <th>woodsi</th>\n",
       "      <th>wtf</th>\n",
       "      <th>xl</th>\n",
       "      <th>yellow</th>\n",
       "      <th>yogurt</th>\n",
       "    </tr>\n",
       "  </thead>\n",
       "  <tbody>\n",
       "    <tr>\n",
       "      <th>Rating</th>\n",
       "      <td>1.000000</td>\n",
       "      <td>0.017589</td>\n",
       "      <td>-0.014004</td>\n",
       "      <td>0.014543</td>\n",
       "      <td>-0.048584</td>\n",
       "      <td>0.012432</td>\n",
       "      <td>-0.019983</td>\n",
       "      <td>0.014543</td>\n",
       "      <td>0.025201</td>\n",
       "      <td>-0.008474</td>\n",
       "      <td>...</td>\n",
       "      <td>0.036851</td>\n",
       "      <td>0.051595</td>\n",
       "      <td>0.026052</td>\n",
       "      <td>-0.016960</td>\n",
       "      <td>-0.014320</td>\n",
       "      <td>0.028334</td>\n",
       "      <td>-0.077528</td>\n",
       "      <td>-0.019983</td>\n",
       "      <td>0.026052</td>\n",
       "      <td>0.011831</td>\n",
       "    </tr>\n",
       "    <tr>\n",
       "      <th>balanc</th>\n",
       "      <td>0.104989</td>\n",
       "      <td>-0.003583</td>\n",
       "      <td>0.022975</td>\n",
       "      <td>-0.001790</td>\n",
       "      <td>-0.004743</td>\n",
       "      <td>-0.002532</td>\n",
       "      <td>-0.001790</td>\n",
       "      <td>-0.001790</td>\n",
       "      <td>-0.003102</td>\n",
       "      <td>-0.001790</td>\n",
       "      <td>...</td>\n",
       "      <td>-0.002532</td>\n",
       "      <td>-0.004743</td>\n",
       "      <td>-0.001790</td>\n",
       "      <td>-0.003583</td>\n",
       "      <td>-0.016917</td>\n",
       "      <td>-0.005380</td>\n",
       "      <td>-0.001790</td>\n",
       "      <td>-0.001790</td>\n",
       "      <td>-0.001790</td>\n",
       "      <td>-0.003583</td>\n",
       "    </tr>\n",
       "    <tr>\n",
       "      <th>bitter</th>\n",
       "      <td>-0.222320</td>\n",
       "      <td>-0.009911</td>\n",
       "      <td>0.005731</td>\n",
       "      <td>0.087380</td>\n",
       "      <td>0.056768</td>\n",
       "      <td>-0.007005</td>\n",
       "      <td>-0.004952</td>\n",
       "      <td>-0.004952</td>\n",
       "      <td>-0.008581</td>\n",
       "      <td>-0.004952</td>\n",
       "      <td>...</td>\n",
       "      <td>-0.007005</td>\n",
       "      <td>-0.013119</td>\n",
       "      <td>-0.004952</td>\n",
       "      <td>-0.009911</td>\n",
       "      <td>-0.006213</td>\n",
       "      <td>-0.014882</td>\n",
       "      <td>-0.004952</td>\n",
       "      <td>-0.004952</td>\n",
       "      <td>-0.004952</td>\n",
       "      <td>-0.009911</td>\n",
       "    </tr>\n",
       "    <tr>\n",
       "      <th>burnt</th>\n",
       "      <td>-0.111508</td>\n",
       "      <td>-0.007136</td>\n",
       "      <td>-0.006744</td>\n",
       "      <td>-0.003566</td>\n",
       "      <td>-0.009447</td>\n",
       "      <td>-0.005044</td>\n",
       "      <td>0.121348</td>\n",
       "      <td>-0.003566</td>\n",
       "      <td>-0.006179</td>\n",
       "      <td>-0.003566</td>\n",
       "      <td>...</td>\n",
       "      <td>-0.005044</td>\n",
       "      <td>-0.009447</td>\n",
       "      <td>-0.003566</td>\n",
       "      <td>0.117859</td>\n",
       "      <td>-0.019970</td>\n",
       "      <td>-0.010716</td>\n",
       "      <td>-0.003566</td>\n",
       "      <td>-0.003566</td>\n",
       "      <td>-0.003566</td>\n",
       "      <td>-0.007136</td>\n",
       "    </tr>\n",
       "    <tr>\n",
       "      <th>cardboard</th>\n",
       "      <td>-0.109060</td>\n",
       "      <td>-0.003475</td>\n",
       "      <td>-0.012155</td>\n",
       "      <td>-0.001736</td>\n",
       "      <td>-0.004600</td>\n",
       "      <td>-0.002456</td>\n",
       "      <td>-0.001736</td>\n",
       "      <td>-0.001736</td>\n",
       "      <td>-0.003009</td>\n",
       "      <td>-0.001736</td>\n",
       "      <td>...</td>\n",
       "      <td>-0.002456</td>\n",
       "      <td>-0.004600</td>\n",
       "      <td>-0.001736</td>\n",
       "      <td>-0.003475</td>\n",
       "      <td>-0.016408</td>\n",
       "      <td>-0.005219</td>\n",
       "      <td>-0.001736</td>\n",
       "      <td>0.249187</td>\n",
       "      <td>-0.001736</td>\n",
       "      <td>-0.003475</td>\n",
       "    </tr>\n",
       "    <tr>\n",
       "      <th>chemic</th>\n",
       "      <td>-0.161400</td>\n",
       "      <td>-0.004173</td>\n",
       "      <td>-0.014596</td>\n",
       "      <td>-0.002085</td>\n",
       "      <td>-0.005524</td>\n",
       "      <td>-0.002950</td>\n",
       "      <td>-0.002085</td>\n",
       "      <td>-0.002085</td>\n",
       "      <td>-0.003613</td>\n",
       "      <td>-0.002085</td>\n",
       "      <td>...</td>\n",
       "      <td>-0.002950</td>\n",
       "      <td>-0.005524</td>\n",
       "      <td>-0.002085</td>\n",
       "      <td>-0.004173</td>\n",
       "      <td>-0.019703</td>\n",
       "      <td>-0.006266</td>\n",
       "      <td>0.207520</td>\n",
       "      <td>-0.002085</td>\n",
       "      <td>-0.002085</td>\n",
       "      <td>-0.004173</td>\n",
       "    </tr>\n",
       "    <tr>\n",
       "      <th>cocoa</th>\n",
       "      <td>0.177086</td>\n",
       "      <td>0.011391</td>\n",
       "      <td>-0.019335</td>\n",
       "      <td>-0.008801</td>\n",
       "      <td>-0.023315</td>\n",
       "      <td>-0.012449</td>\n",
       "      <td>-0.008801</td>\n",
       "      <td>-0.008801</td>\n",
       "      <td>-0.015250</td>\n",
       "      <td>-0.008801</td>\n",
       "      <td>...</td>\n",
       "      <td>-0.012449</td>\n",
       "      <td>-0.001376</td>\n",
       "      <td>-0.008801</td>\n",
       "      <td>-0.017613</td>\n",
       "      <td>-0.038573</td>\n",
       "      <td>0.012265</td>\n",
       "      <td>-0.008801</td>\n",
       "      <td>-0.008801</td>\n",
       "      <td>-0.008801</td>\n",
       "      <td>0.011391</td>\n",
       "    </tr>\n",
       "    <tr>\n",
       "      <th>complex</th>\n",
       "      <td>0.118583</td>\n",
       "      <td>-0.006062</td>\n",
       "      <td>-0.021201</td>\n",
       "      <td>-0.003029</td>\n",
       "      <td>-0.008024</td>\n",
       "      <td>-0.004284</td>\n",
       "      <td>-0.003029</td>\n",
       "      <td>-0.003029</td>\n",
       "      <td>-0.005248</td>\n",
       "      <td>-0.003029</td>\n",
       "      <td>...</td>\n",
       "      <td>-0.004284</td>\n",
       "      <td>-0.008024</td>\n",
       "      <td>-0.003029</td>\n",
       "      <td>-0.006062</td>\n",
       "      <td>-0.028620</td>\n",
       "      <td>-0.009102</td>\n",
       "      <td>-0.003029</td>\n",
       "      <td>-0.003029</td>\n",
       "      <td>-0.003029</td>\n",
       "      <td>-0.006062</td>\n",
       "    </tr>\n",
       "    <tr>\n",
       "      <th>creami</th>\n",
       "      <td>0.193598</td>\n",
       "      <td>-0.012314</td>\n",
       "      <td>-0.009609</td>\n",
       "      <td>-0.006153</td>\n",
       "      <td>0.012644</td>\n",
       "      <td>-0.008703</td>\n",
       "      <td>-0.006153</td>\n",
       "      <td>-0.006153</td>\n",
       "      <td>0.033513</td>\n",
       "      <td>-0.006153</td>\n",
       "      <td>...</td>\n",
       "      <td>-0.008703</td>\n",
       "      <td>-0.016300</td>\n",
       "      <td>-0.006153</td>\n",
       "      <td>0.025951</td>\n",
       "      <td>0.042699</td>\n",
       "      <td>0.007047</td>\n",
       "      <td>-0.006153</td>\n",
       "      <td>-0.006153</td>\n",
       "      <td>-0.006153</td>\n",
       "      <td>-0.012314</td>\n",
       "    </tr>\n",
       "    <tr>\n",
       "      <th>medicin</th>\n",
       "      <td>-0.125936</td>\n",
       "      <td>-0.003688</td>\n",
       "      <td>-0.012898</td>\n",
       "      <td>-0.001843</td>\n",
       "      <td>-0.004881</td>\n",
       "      <td>-0.002606</td>\n",
       "      <td>-0.001843</td>\n",
       "      <td>-0.001843</td>\n",
       "      <td>-0.003193</td>\n",
       "      <td>-0.001843</td>\n",
       "      <td>...</td>\n",
       "      <td>-0.002606</td>\n",
       "      <td>-0.004881</td>\n",
       "      <td>-0.001843</td>\n",
       "      <td>-0.003688</td>\n",
       "      <td>0.008593</td>\n",
       "      <td>-0.005538</td>\n",
       "      <td>-0.001843</td>\n",
       "      <td>-0.001843</td>\n",
       "      <td>-0.001843</td>\n",
       "      <td>-0.003688</td>\n",
       "    </tr>\n",
       "    <tr>\n",
       "      <th>metal</th>\n",
       "      <td>-0.111251</td>\n",
       "      <td>-0.005997</td>\n",
       "      <td>0.022016</td>\n",
       "      <td>-0.002997</td>\n",
       "      <td>-0.007938</td>\n",
       "      <td>-0.004239</td>\n",
       "      <td>-0.002997</td>\n",
       "      <td>-0.002997</td>\n",
       "      <td>-0.005192</td>\n",
       "      <td>-0.002997</td>\n",
       "      <td>...</td>\n",
       "      <td>-0.004239</td>\n",
       "      <td>-0.007938</td>\n",
       "      <td>-0.002997</td>\n",
       "      <td>-0.005997</td>\n",
       "      <td>0.020272</td>\n",
       "      <td>-0.009005</td>\n",
       "      <td>-0.002997</td>\n",
       "      <td>-0.002997</td>\n",
       "      <td>-0.002997</td>\n",
       "      <td>-0.005997</td>\n",
       "    </tr>\n",
       "    <tr>\n",
       "      <th>not</th>\n",
       "      <td>-0.100545</td>\n",
       "      <td>-0.000866</td>\n",
       "      <td>-0.003029</td>\n",
       "      <td>-0.000433</td>\n",
       "      <td>-0.001146</td>\n",
       "      <td>-0.000612</td>\n",
       "      <td>-0.000433</td>\n",
       "      <td>-0.000433</td>\n",
       "      <td>-0.000750</td>\n",
       "      <td>-0.000433</td>\n",
       "      <td>...</td>\n",
       "      <td>-0.000612</td>\n",
       "      <td>-0.001146</td>\n",
       "      <td>-0.000433</td>\n",
       "      <td>-0.000866</td>\n",
       "      <td>-0.004089</td>\n",
       "      <td>-0.001300</td>\n",
       "      <td>-0.000433</td>\n",
       "      <td>-0.000433</td>\n",
       "      <td>-0.000433</td>\n",
       "      <td>-0.000866</td>\n",
       "    </tr>\n",
       "    <tr>\n",
       "      <th>off</th>\n",
       "      <td>-0.240817</td>\n",
       "      <td>-0.009035</td>\n",
       "      <td>-0.016965</td>\n",
       "      <td>-0.004515</td>\n",
       "      <td>-0.011960</td>\n",
       "      <td>-0.006386</td>\n",
       "      <td>-0.004515</td>\n",
       "      <td>-0.004515</td>\n",
       "      <td>-0.007823</td>\n",
       "      <td>-0.004515</td>\n",
       "      <td>...</td>\n",
       "      <td>-0.006386</td>\n",
       "      <td>-0.011960</td>\n",
       "      <td>-0.004515</td>\n",
       "      <td>-0.009035</td>\n",
       "      <td>-0.020604</td>\n",
       "      <td>-0.013567</td>\n",
       "      <td>-0.004515</td>\n",
       "      <td>-0.004515</td>\n",
       "      <td>-0.004515</td>\n",
       "      <td>-0.009035</td>\n",
       "    </tr>\n",
       "    <tr>\n",
       "      <th>pungent</th>\n",
       "      <td>-0.111154</td>\n",
       "      <td>-0.005236</td>\n",
       "      <td>0.006189</td>\n",
       "      <td>-0.002616</td>\n",
       "      <td>-0.006931</td>\n",
       "      <td>-0.003701</td>\n",
       "      <td>-0.002616</td>\n",
       "      <td>-0.002616</td>\n",
       "      <td>-0.004533</td>\n",
       "      <td>-0.002616</td>\n",
       "      <td>...</td>\n",
       "      <td>-0.003701</td>\n",
       "      <td>-0.006931</td>\n",
       "      <td>-0.002616</td>\n",
       "      <td>-0.005236</td>\n",
       "      <td>-0.024720</td>\n",
       "      <td>-0.007862</td>\n",
       "      <td>-0.002616</td>\n",
       "      <td>-0.002616</td>\n",
       "      <td>-0.002616</td>\n",
       "      <td>-0.005236</td>\n",
       "    </tr>\n",
       "    <tr>\n",
       "      <th>rich</th>\n",
       "      <td>0.156431</td>\n",
       "      <td>-0.010569</td>\n",
       "      <td>0.039344</td>\n",
       "      <td>-0.005281</td>\n",
       "      <td>-0.013991</td>\n",
       "      <td>-0.007470</td>\n",
       "      <td>-0.005281</td>\n",
       "      <td>-0.005281</td>\n",
       "      <td>-0.009151</td>\n",
       "      <td>-0.005281</td>\n",
       "      <td>...</td>\n",
       "      <td>-0.007470</td>\n",
       "      <td>0.052024</td>\n",
       "      <td>-0.005281</td>\n",
       "      <td>-0.010569</td>\n",
       "      <td>-0.049902</td>\n",
       "      <td>0.013251</td>\n",
       "      <td>-0.005281</td>\n",
       "      <td>-0.005281</td>\n",
       "      <td>-0.005281</td>\n",
       "      <td>-0.010569</td>\n",
       "    </tr>\n",
       "    <tr>\n",
       "      <th>rubber</th>\n",
       "      <td>-0.121651</td>\n",
       "      <td>-0.005010</td>\n",
       "      <td>-0.017521</td>\n",
       "      <td>-0.002503</td>\n",
       "      <td>-0.006631</td>\n",
       "      <td>-0.003541</td>\n",
       "      <td>0.172868</td>\n",
       "      <td>-0.002503</td>\n",
       "      <td>-0.004337</td>\n",
       "      <td>-0.002503</td>\n",
       "      <td>...</td>\n",
       "      <td>-0.003541</td>\n",
       "      <td>-0.006631</td>\n",
       "      <td>-0.002503</td>\n",
       "      <td>-0.005010</td>\n",
       "      <td>0.014885</td>\n",
       "      <td>-0.007522</td>\n",
       "      <td>-0.002503</td>\n",
       "      <td>-0.002503</td>\n",
       "      <td>-0.002503</td>\n",
       "      <td>-0.005010</td>\n",
       "    </tr>\n",
       "    <tr>\n",
       "      <th>sour</th>\n",
       "      <td>-0.116618</td>\n",
       "      <td>-0.012278</td>\n",
       "      <td>-0.009401</td>\n",
       "      <td>-0.006135</td>\n",
       "      <td>-0.016252</td>\n",
       "      <td>-0.008678</td>\n",
       "      <td>-0.006135</td>\n",
       "      <td>-0.006135</td>\n",
       "      <td>-0.010630</td>\n",
       "      <td>-0.006135</td>\n",
       "      <td>...</td>\n",
       "      <td>-0.008678</td>\n",
       "      <td>0.012763</td>\n",
       "      <td>-0.006135</td>\n",
       "      <td>-0.012278</td>\n",
       "      <td>-0.007425</td>\n",
       "      <td>-0.018436</td>\n",
       "      <td>-0.006135</td>\n",
       "      <td>0.070534</td>\n",
       "      <td>-0.006135</td>\n",
       "      <td>-0.012278</td>\n",
       "    </tr>\n",
       "    <tr>\n",
       "      <th>sweet</th>\n",
       "      <td>-0.115628</td>\n",
       "      <td>0.015735</td>\n",
       "      <td>0.027517</td>\n",
       "      <td>-0.007862</td>\n",
       "      <td>0.002976</td>\n",
       "      <td>-0.011121</td>\n",
       "      <td>-0.007862</td>\n",
       "      <td>-0.007862</td>\n",
       "      <td>-0.013624</td>\n",
       "      <td>-0.007862</td>\n",
       "      <td>...</td>\n",
       "      <td>-0.011121</td>\n",
       "      <td>-0.020829</td>\n",
       "      <td>-0.007862</td>\n",
       "      <td>-0.015735</td>\n",
       "      <td>-0.032826</td>\n",
       "      <td>-0.023628</td>\n",
       "      <td>-0.007862</td>\n",
       "      <td>-0.007862</td>\n",
       "      <td>-0.007862</td>\n",
       "      <td>0.047205</td>\n",
       "    </tr>\n",
       "    <tr>\n",
       "      <th>thi</th>\n",
       "      <td>-0.100545</td>\n",
       "      <td>-0.000866</td>\n",
       "      <td>-0.003029</td>\n",
       "      <td>-0.000433</td>\n",
       "      <td>-0.001146</td>\n",
       "      <td>-0.000612</td>\n",
       "      <td>-0.000433</td>\n",
       "      <td>-0.000433</td>\n",
       "      <td>-0.000750</td>\n",
       "      <td>-0.000433</td>\n",
       "      <td>...</td>\n",
       "      <td>-0.000612</td>\n",
       "      <td>-0.001146</td>\n",
       "      <td>-0.000433</td>\n",
       "      <td>-0.000866</td>\n",
       "      <td>-0.004089</td>\n",
       "      <td>-0.001300</td>\n",
       "      <td>-0.000433</td>\n",
       "      <td>-0.000433</td>\n",
       "      <td>-0.000433</td>\n",
       "      <td>-0.000866</td>\n",
       "    </tr>\n",
       "    <tr>\n",
       "      <th>vanilla</th>\n",
       "      <td>-0.179625</td>\n",
       "      <td>-0.009035</td>\n",
       "      <td>-0.031601</td>\n",
       "      <td>-0.004515</td>\n",
       "      <td>-0.011960</td>\n",
       "      <td>-0.006386</td>\n",
       "      <td>-0.004515</td>\n",
       "      <td>-0.004515</td>\n",
       "      <td>-0.007823</td>\n",
       "      <td>-0.004515</td>\n",
       "      <td>...</td>\n",
       "      <td>-0.006386</td>\n",
       "      <td>-0.011960</td>\n",
       "      <td>-0.004515</td>\n",
       "      <td>-0.009035</td>\n",
       "      <td>-0.031631</td>\n",
       "      <td>-0.013567</td>\n",
       "      <td>-0.004515</td>\n",
       "      <td>-0.004515</td>\n",
       "      <td>-0.004515</td>\n",
       "      <td>-0.009035</td>\n",
       "    </tr>\n",
       "    <tr>\n",
       "      <th>veri</th>\n",
       "      <td>-0.134074</td>\n",
       "      <td>-0.004692</td>\n",
       "      <td>0.010846</td>\n",
       "      <td>-0.002344</td>\n",
       "      <td>-0.006211</td>\n",
       "      <td>-0.003316</td>\n",
       "      <td>-0.002344</td>\n",
       "      <td>-0.002344</td>\n",
       "      <td>-0.004063</td>\n",
       "      <td>-0.002344</td>\n",
       "      <td>...</td>\n",
       "      <td>-0.003316</td>\n",
       "      <td>-0.006211</td>\n",
       "      <td>-0.002344</td>\n",
       "      <td>-0.004692</td>\n",
       "      <td>-0.022153</td>\n",
       "      <td>-0.007046</td>\n",
       "      <td>-0.002344</td>\n",
       "      <td>-0.002344</td>\n",
       "      <td>-0.002344</td>\n",
       "      <td>-0.004692</td>\n",
       "    </tr>\n",
       "  </tbody>\n",
       "</table>\n",
       "<p>21 rows × 445 columns</p>\n",
       "</div>"
      ],
      "text/plain": [
       "             Rating    access      acid       add  aftertast   alcohol  \\\n",
       "Rating     1.000000  0.017589 -0.014004  0.014543  -0.048584  0.012432   \n",
       "balanc     0.104989 -0.003583  0.022975 -0.001790  -0.004743 -0.002532   \n",
       "bitter    -0.222320 -0.009911  0.005731  0.087380   0.056768 -0.007005   \n",
       "burnt     -0.111508 -0.007136 -0.006744 -0.003566  -0.009447 -0.005044   \n",
       "cardboard -0.109060 -0.003475 -0.012155 -0.001736  -0.004600 -0.002456   \n",
       "chemic    -0.161400 -0.004173 -0.014596 -0.002085  -0.005524 -0.002950   \n",
       "cocoa      0.177086  0.011391 -0.019335 -0.008801  -0.023315 -0.012449   \n",
       "complex    0.118583 -0.006062 -0.021201 -0.003029  -0.008024 -0.004284   \n",
       "creami     0.193598 -0.012314 -0.009609 -0.006153   0.012644 -0.008703   \n",
       "medicin   -0.125936 -0.003688 -0.012898 -0.001843  -0.004881 -0.002606   \n",
       "metal     -0.111251 -0.005997  0.022016 -0.002997  -0.007938 -0.004239   \n",
       "not       -0.100545 -0.000866 -0.003029 -0.000433  -0.001146 -0.000612   \n",
       "off       -0.240817 -0.009035 -0.016965 -0.004515  -0.011960 -0.006386   \n",
       "pungent   -0.111154 -0.005236  0.006189 -0.002616  -0.006931 -0.003701   \n",
       "rich       0.156431 -0.010569  0.039344 -0.005281  -0.013991 -0.007470   \n",
       "rubber    -0.121651 -0.005010 -0.017521 -0.002503  -0.006631 -0.003541   \n",
       "sour      -0.116618 -0.012278 -0.009401 -0.006135  -0.016252 -0.008678   \n",
       "sweet     -0.115628  0.015735  0.027517 -0.007862   0.002976 -0.011121   \n",
       "thi       -0.100545 -0.000866 -0.003029 -0.000433  -0.001146 -0.000612   \n",
       "vanilla   -0.179625 -0.009035 -0.031601 -0.004515  -0.011960 -0.006386   \n",
       "veri      -0.134074 -0.004692  0.010846 -0.002344  -0.006211 -0.003316   \n",
       "\n",
       "            alkalyz     allur    almond  aluminum  ...      wild      wine  \\\n",
       "Rating    -0.019983  0.014543  0.025201 -0.008474  ...  0.036851  0.051595   \n",
       "balanc    -0.001790 -0.001790 -0.003102 -0.001790  ... -0.002532 -0.004743   \n",
       "bitter    -0.004952 -0.004952 -0.008581 -0.004952  ... -0.007005 -0.013119   \n",
       "burnt      0.121348 -0.003566 -0.006179 -0.003566  ... -0.005044 -0.009447   \n",
       "cardboard -0.001736 -0.001736 -0.003009 -0.001736  ... -0.002456 -0.004600   \n",
       "chemic    -0.002085 -0.002085 -0.003613 -0.002085  ... -0.002950 -0.005524   \n",
       "cocoa     -0.008801 -0.008801 -0.015250 -0.008801  ... -0.012449 -0.001376   \n",
       "complex   -0.003029 -0.003029 -0.005248 -0.003029  ... -0.004284 -0.008024   \n",
       "creami    -0.006153 -0.006153  0.033513 -0.006153  ... -0.008703 -0.016300   \n",
       "medicin   -0.001843 -0.001843 -0.003193 -0.001843  ... -0.002606 -0.004881   \n",
       "metal     -0.002997 -0.002997 -0.005192 -0.002997  ... -0.004239 -0.007938   \n",
       "not       -0.000433 -0.000433 -0.000750 -0.000433  ... -0.000612 -0.001146   \n",
       "off       -0.004515 -0.004515 -0.007823 -0.004515  ... -0.006386 -0.011960   \n",
       "pungent   -0.002616 -0.002616 -0.004533 -0.002616  ... -0.003701 -0.006931   \n",
       "rich      -0.005281 -0.005281 -0.009151 -0.005281  ... -0.007470  0.052024   \n",
       "rubber     0.172868 -0.002503 -0.004337 -0.002503  ... -0.003541 -0.006631   \n",
       "sour      -0.006135 -0.006135 -0.010630 -0.006135  ... -0.008678  0.012763   \n",
       "sweet     -0.007862 -0.007862 -0.013624 -0.007862  ... -0.011121 -0.020829   \n",
       "thi       -0.000433 -0.000433 -0.000750 -0.000433  ... -0.000612 -0.001146   \n",
       "vanilla   -0.004515 -0.004515 -0.007823 -0.004515  ... -0.006386 -0.011960   \n",
       "veri      -0.002344 -0.002344 -0.004063 -0.002344  ... -0.003316 -0.006211   \n",
       "\n",
       "              winey      wood     woodi    woodsi       wtf        xl  \\\n",
       "Rating     0.026052 -0.016960 -0.014320  0.028334 -0.077528 -0.019983   \n",
       "balanc    -0.001790 -0.003583 -0.016917 -0.005380 -0.001790 -0.001790   \n",
       "bitter    -0.004952 -0.009911 -0.006213 -0.014882 -0.004952 -0.004952   \n",
       "burnt     -0.003566  0.117859 -0.019970 -0.010716 -0.003566 -0.003566   \n",
       "cardboard -0.001736 -0.003475 -0.016408 -0.005219 -0.001736  0.249187   \n",
       "chemic    -0.002085 -0.004173 -0.019703 -0.006266  0.207520 -0.002085   \n",
       "cocoa     -0.008801 -0.017613 -0.038573  0.012265 -0.008801 -0.008801   \n",
       "complex   -0.003029 -0.006062 -0.028620 -0.009102 -0.003029 -0.003029   \n",
       "creami    -0.006153  0.025951  0.042699  0.007047 -0.006153 -0.006153   \n",
       "medicin   -0.001843 -0.003688  0.008593 -0.005538 -0.001843 -0.001843   \n",
       "metal     -0.002997 -0.005997  0.020272 -0.009005 -0.002997 -0.002997   \n",
       "not       -0.000433 -0.000866 -0.004089 -0.001300 -0.000433 -0.000433   \n",
       "off       -0.004515 -0.009035 -0.020604 -0.013567 -0.004515 -0.004515   \n",
       "pungent   -0.002616 -0.005236 -0.024720 -0.007862 -0.002616 -0.002616   \n",
       "rich      -0.005281 -0.010569 -0.049902  0.013251 -0.005281 -0.005281   \n",
       "rubber    -0.002503 -0.005010  0.014885 -0.007522 -0.002503 -0.002503   \n",
       "sour      -0.006135 -0.012278 -0.007425 -0.018436 -0.006135  0.070534   \n",
       "sweet     -0.007862 -0.015735 -0.032826 -0.023628 -0.007862 -0.007862   \n",
       "thi       -0.000433 -0.000866 -0.004089 -0.001300 -0.000433 -0.000433   \n",
       "vanilla   -0.004515 -0.009035 -0.031631 -0.013567 -0.004515 -0.004515   \n",
       "veri      -0.002344 -0.004692 -0.022153 -0.007046 -0.002344 -0.002344   \n",
       "\n",
       "             yellow    yogurt  \n",
       "Rating     0.026052  0.011831  \n",
       "balanc    -0.001790 -0.003583  \n",
       "bitter    -0.004952 -0.009911  \n",
       "burnt     -0.003566 -0.007136  \n",
       "cardboard -0.001736 -0.003475  \n",
       "chemic    -0.002085 -0.004173  \n",
       "cocoa     -0.008801  0.011391  \n",
       "complex   -0.003029 -0.006062  \n",
       "creami    -0.006153 -0.012314  \n",
       "medicin   -0.001843 -0.003688  \n",
       "metal     -0.002997 -0.005997  \n",
       "not       -0.000433 -0.000866  \n",
       "off       -0.004515 -0.009035  \n",
       "pungent   -0.002616 -0.005236  \n",
       "rich      -0.005281 -0.010569  \n",
       "rubber    -0.002503 -0.005010  \n",
       "sour      -0.006135 -0.012278  \n",
       "sweet     -0.007862  0.047205  \n",
       "thi       -0.000433 -0.000866  \n",
       "vanilla   -0.004515 -0.009035  \n",
       "veri      -0.002344 -0.004692  \n",
       "\n",
       "[21 rows x 445 columns]"
      ]
     },
     "execution_count": 95,
     "metadata": {},
     "output_type": "execute_result"
    }
   ],
   "source": [
    "corr[np.abs(corr['Rating']) > 0.10]"
   ]
  },
  {
   "cell_type": "markdown",
   "metadata": {},
   "source": [
    "# Models"
   ]
  },
  {
   "cell_type": "code",
   "execution_count": 63,
   "metadata": {},
   "outputs": [],
   "source": [
    "# Drop REF since it is highly correlated with review date\n",
    "df = df.drop('REF', axis=1)\n",
    "\n",
    "# Add ingredient and characteristics dummies\n",
    "df = pd.concat([df, ingredient_dummies, characteristic_dummies], axis=1)"
   ]
  },
  {
   "cell_type": "code",
   "execution_count": 68,
   "metadata": {},
   "outputs": [],
   "source": [
    "# Get dummies of remaining categorical columns\n",
    "df = pd.get_dummies(df)"
   ]
  },
  {
   "cell_type": "code",
   "execution_count": 71,
   "metadata": {},
   "outputs": [],
   "source": [
    "# Split into train/test\n",
    "X = df.drop('Rating', axis=1)\n",
    "y = df['Rating']\n",
    "X_train, X_test, y_train, y_test = train_test_split(X, y, test_size=0.3, random_state=42)"
   ]
  },
  {
   "cell_type": "markdown",
   "metadata": {},
   "source": [
    "## Linear regression"
   ]
  },
  {
   "cell_type": "code",
   "execution_count": 72,
   "metadata": {},
   "outputs": [
    {
     "data": {
      "text/plain": [
       "LinearRegression()"
      ]
     },
     "execution_count": 72,
     "metadata": {},
     "output_type": "execute_result"
    }
   ],
   "source": [
    "lr_mod = LinearRegression()\n",
    "lr_mod.fit(X_train, y_train)"
   ]
  },
  {
   "cell_type": "code",
   "execution_count": 73,
   "metadata": {},
   "outputs": [
    {
     "data": {
      "text/plain": [
       "0.45142660040348637"
      ]
     },
     "execution_count": 73,
     "metadata": {},
     "output_type": "execute_result"
    }
   ],
   "source": [
    "lr_mod.score(X_test, y_test)"
   ]
  },
  {
   "cell_type": "code",
   "execution_count": null,
   "metadata": {},
   "outputs": [],
   "source": []
  }
 ],
 "metadata": {
  "kernelspec": {
   "display_name": "Python 3",
   "language": "python",
   "name": "python3"
  },
  "language_info": {
   "codemirror_mode": {
    "name": "ipython",
    "version": 3
   },
   "file_extension": ".py",
   "mimetype": "text/x-python",
   "name": "python",
   "nbconvert_exporter": "python",
   "pygments_lexer": "ipython3",
   "version": "3.7.7"
  }
 },
 "nbformat": 4,
 "nbformat_minor": 4
}
